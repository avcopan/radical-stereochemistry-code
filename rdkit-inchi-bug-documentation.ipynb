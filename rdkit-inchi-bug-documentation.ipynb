{
 "cells": [
  {
   "cell_type": "code",
   "execution_count": 1,
   "id": "0b8e2af3",
   "metadata": {},
   "outputs": [],
   "source": [
    "import rdkit\n",
    "from rdkit.Chem.EnumerateStereoisomers import EnumerateStereoisomers"
   ]
  },
  {
   "cell_type": "code",
   "execution_count": 2,
   "id": "c5355eef-1e5d-4a77-9eba-c46d8b467e0b",
   "metadata": {},
   "outputs": [
    {
     "data": {
      "text/plain": [
       "'2023.09.4'"
      ]
     },
     "execution_count": 2,
     "metadata": {},
     "output_type": "execute_result"
    }
   ],
   "source": [
    "rdkit.__version__"
   ]
  },
  {
   "cell_type": "code",
   "execution_count": 3,
   "id": "e1d81bcf-9d07-4229-92b5-10df1bcb9b84",
   "metadata": {},
   "outputs": [
    {
     "name": "stdout",
     "output_type": "stream",
     "text": [
      "C/C=C/[CH]CO\n",
      "InChI=1S/C5H9O/c1-2-3-4-5-6/h2-4,6H,5H2,1H3/b3-2+\n",
      "C/C=C\\[CH]CO\n",
      "InChI=1S/C5H9O/c1-2-3-4-5-6/h2-4,6H,5H2,1H3/b3-2-\n"
     ]
    },
    {
     "name": "stderr",
     "output_type": "stream",
     "text": [
      "[14:04:44] WARNING: Accepted unusual valence(s): C(3)\n",
      "\n",
      "[14:04:44] WARNING: Accepted unusual valence(s): C(3)\n",
      "\n"
     ]
    }
   ],
   "source": [
    "mol = rdkit.Chem.MolFromSmiles(\"CC=C[CH]CO\")\n",
    "for ste_mol in EnumerateStereoisomers(mol):\n",
    "    print(rdkit.Chem.MolToSmiles(ste_mol))\n",
    "    print(rdkit.Chem.MolToInchi(ste_mol))"
   ]
  },
  {
   "cell_type": "code",
   "execution_count": null,
   "id": "b8597700-27f8-4dd4-8f6c-b6274ea253fe",
   "metadata": {},
   "outputs": [],
   "source": []
  }
 ],
 "metadata": {
  "kernelspec": {
   "display_name": "Python 3 (ipykernel)",
   "language": "python",
   "name": "python3"
  },
  "language_info": {
   "codemirror_mode": {
    "name": "ipython",
    "version": 3
   },
   "file_extension": ".py",
   "mimetype": "text/x-python",
   "name": "python",
   "nbconvert_exporter": "python",
   "pygments_lexer": "ipython3",
   "version": "3.12.1"
  }
 },
 "nbformat": 4,
 "nbformat_minor": 5
}
