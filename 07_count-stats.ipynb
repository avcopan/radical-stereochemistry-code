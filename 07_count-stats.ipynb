{
 "cells": [
  {
   "cell_type": "code",
   "execution_count": 1,
   "id": "c9cd49d3",
   "metadata": {},
   "outputs": [],
   "source": [
    "import pandas\n",
    "from IPython.display import display\n",
    "from tqdm.notebook import tqdm\n",
    "\n",
    "import automol\n",
    "import chemkin_io\n",
    "import helpers\n",
    "import ioformat\n",
    "\n",
    "tqdm.pandas()"
   ]
  },
  {
   "cell_type": "code",
   "execution_count": 2,
   "id": "fd5389ac",
   "metadata": {},
   "outputs": [],
   "source": [
    "# 1a. read in the species lists\n",
    "ORIG_C67_SPC_PATH = 'data/mechanisms/05_orig_nuig-c6-7.csv'\n",
    "ORIG_PYR_SPC_PATH = 'data/mechanisms/05_orig_nuig-pyro.csv'\n",
    "FUEX_C67_SPC_PATH = 'data/mechanisms/05_fu-exp_nuig-c6-7.csv'\n",
    "FUEX_PYR_SPC_PATH = 'data/mechanisms/05_fu-exp_nuig-pyro.csv'\n",
    "NREX_C67_SPC_PATH = 'data/mechanisms/06_nr-exp_nuig-c6-7.csv'\n",
    "NREX_PYR_SPC_PATH = 'data/mechanisms/06_nr-exp_nuig-pyro.csv'\n",
    "\n",
    "ORIG_C67_SPC_DF = pandas.read_csv(ORIG_C67_SPC_PATH, quotechar=\"'\")\n",
    "ORIG_PYR_SPC_DF = pandas.read_csv(ORIG_PYR_SPC_PATH, quotechar=\"'\")\n",
    "FUEX_C67_SPC_DF = pandas.read_csv(FUEX_C67_SPC_PATH, quotechar=\"'\")\n",
    "FUEX_PYR_SPC_DF = pandas.read_csv(FUEX_PYR_SPC_PATH, quotechar=\"'\")\n",
    "NREX_C67_SPC_DF = pandas.read_csv(NREX_C67_SPC_PATH, quotechar=\"'\")\n",
    "NREX_PYR_SPC_DF = pandas.read_csv(NREX_PYR_SPC_PATH, quotechar=\"'\")\n",
    "\n",
    "ORIG_C67_SPC_DF['orig-name'] = ORIG_C67_SPC_DF['name']\n",
    "ORIG_PYR_SPC_DF['orig-name'] = ORIG_PYR_SPC_DF['name']"
   ]
  },
  {
   "cell_type": "code",
   "execution_count": 3,
   "id": "1b66fd0c",
   "metadata": {},
   "outputs": [],
   "source": [
    "# 1b. read in the mechanism reaction lists\n",
    "ORIG_C67_RXN_PATH = 'data/mechanisms/05_orig_nuig-c6-7.txt'\n",
    "ORIG_PYR_RXN_PATH = 'data/mechanisms/05_orig_nuig-pyro.txt'\n",
    "C67_RXN_PATH = 'data/mechanisms/05_fu-exp_nuig-c6-7.txt'\n",
    "PYR_RXN_PATH = 'data/mechanisms/05_fu-exp_nuig-pyro.txt'\n",
    "NREX_C67_RXN_PATH = 'data/mechanisms/06_nr-exp_nuig-c6-7.txt'\n",
    "NREX_PYR_RXN_PATH = 'data/mechanisms/06_nr-exp_nuig-pyro.txt'\n",
    "\n",
    "ORIG_C67_MECH_STR = ioformat.pathtools.read_file('.', ORIG_C67_RXN_PATH)\n",
    "ORIG_PYR_MECH_STR = ioformat.pathtools.read_file('.', ORIG_PYR_RXN_PATH)\n",
    "FUEX_C67_MECH_STR = ioformat.pathtools.read_file('.', C67_RXN_PATH)\n",
    "FUEX_PYR_MECH_STR = ioformat.pathtools.read_file('.', PYR_RXN_PATH)\n",
    "NREX_C67_MECH_STR = ioformat.pathtools.read_file('.', NREX_C67_RXN_PATH)\n",
    "NREX_PYR_MECH_STR = ioformat.pathtools.read_file('.', NREX_PYR_RXN_PATH)\n",
    "\n",
    "ORIG_C67_RXN_DCT = chemkin_io.parser.mechanism.reactions(ORIG_C67_MECH_STR)\n",
    "ORIG_PYR_RXN_DCT = chemkin_io.parser.mechanism.reactions(ORIG_PYR_MECH_STR)\n",
    "FUEX_C67_RXN_DCT = chemkin_io.parser.mechanism.reactions(FUEX_C67_MECH_STR)\n",
    "FUEX_PYR_RXN_DCT = chemkin_io.parser.mechanism.reactions(FUEX_PYR_MECH_STR)\n",
    "NREX_C67_RXN_DCT = chemkin_io.parser.mechanism.reactions(NREX_C67_MECH_STR)\n",
    "NREX_PYR_RXN_DCT = chemkin_io.parser.mechanism.reactions(NREX_PYR_MECH_STR)"
   ]
  },
  {
   "cell_type": "code",
   "execution_count": 4,
   "id": "88a5c208-1d15-4370-bd41-ace662803b73",
   "metadata": {},
   "outputs": [],
   "source": [
    "# 1c. read in full reaction lists with reaction objects (for identifying fleeting stereo)\n",
    "C67_RXN_PATH = 'data/reactions/04_reactions-fu-exp_nuig-c6-7.csv'\n",
    "PYR_RXN_PATH = 'data/reactions/04_reactions-fu-exp_nuig-pyro.csv'\n",
    "\n",
    "C67_RXN_DF = pandas.read_csv(C67_RXN_PATH, quotechar=\"'\")\n",
    "PYR_RXN_DF = pandas.read_csv(PYR_RXN_PATH, quotechar=\"'\")"
   ]
  },
  {
   "cell_type": "code",
   "execution_count": 5,
   "id": "ad0dde0a",
   "metadata": {},
   "outputs": [],
   "source": [
    "# 2a. function: add stats to fully expanded species DataFrame\n",
    "def species_stats_columns(spc_df):\n",
    "    spc_df['graph'] = spc_df['inchi'].progress_apply(automol.chi.graph)\n",
    "    spc_df['pure_inchi'] = spc_df['graph'].progress_apply(automol.graph.inchi)\n",
    "    spc_df['any_stereo'] = spc_df['graph'].progress_apply(automol.graph.has_stereo)\n",
    "    spc_df['atom_stereo'] = spc_df['graph'].progress_apply(automol.graph.has_atom_stereo)\n",
    "    spc_df['bond_stereo'] = spc_df['graph'].progress_apply(automol.graph.has_bond_stereo)\n",
    "    spc_df['res_bond_stereo'] = spc_df['graph'].progress_apply(automol.graph.has_resonance_bond_stereo)\n",
    "    spc_df['vin_bond_stereo'] = spc_df['graph'].progress_apply(automol.graph.has_vinyl_bond_stereo)\n",
    "    spc_df['non_inchi_stereo'] = spc_df['graph'].progress_apply(automol.graph.has_noninchi_stereo)\n",
    "    return spc_df"
   ]
  },
  {
   "cell_type": "code",
   "execution_count": 6,
   "id": "9a45efad",
   "metadata": {
    "scrolled": true
   },
   "outputs": [],
   "source": [
    "# 2b. function: identify reactions with fleeting stereo from the fully-expanded list\n",
    "def fleeting_stereo_stats_columns(rxn_df):\n",
    "    def _has_fleeting_stereo(df_):\n",
    "        row = df_.iloc[0]\n",
    "        rxn_obj_str = ioformat.pathtools.read_file(\".\", row[\"path\"])\n",
    "        rxn_obj = automol.reac.from_string(rxn_obj_str)\n",
    "        ts_gra = automol.reac.ts_graph(rxn_obj)\n",
    "        atm_ste, bnd_ste = automol.graph.has_fleeting_atom_or_bond_stereo(ts_gra)\n",
    "        row[\"fleeting_atom_stereo\"] = atm_ste\n",
    "        row[\"fleeting_bond_stereo\"] = bnd_ste\n",
    "        return row\n",
    "\n",
    "    cols = [\n",
    "        \"name\",\n",
    "        \"ts_amchi\",\n",
    "        \"orig-name\",\n",
    "        \"fleeting_atom_stereo\",\n",
    "        \"fleeting_bond_stereo\",\n",
    "    ]\n",
    "    fle_df = rxn_df.groupby([\"name\", \"ts_amchi\"]).progress_apply(_has_fleeting_stereo)[\n",
    "        cols\n",
    "    ]\n",
    "    fle_df.reset_index(drop=True, inplace=True)\n",
    "    return fle_df"
   ]
  },
  {
   "cell_type": "code",
   "execution_count": 7,
   "id": "18e7327a",
   "metadata": {
    "scrolled": true
   },
   "outputs": [],
   "source": [
    "# 2c. function: form DataFrames with reaction stats\n",
    "def reaction_stats_columns(rxn_dct, spc_df):\n",
    "    def original_reaction_name(rxn_key):\n",
    "        rct_names, prd_names, third_body = rxn_key\n",
    "        rct_names0 = helpers.lookup_value_series(\n",
    "            spc_df, \"orig-name\", [{\"name\": n} for n in rct_names]\n",
    "        )\n",
    "        prd_names0 = helpers.lookup_value_series(\n",
    "            spc_df, \"orig-name\", [{\"name\": n} for n in prd_names]\n",
    "        )\n",
    "        rxn_name0 = chemkin_io.writer.format_rxn_name(\n",
    "            (rct_names0, prd_names0, third_body)\n",
    "        )\n",
    "        return rxn_name0\n",
    "\n",
    "    def any_reagent_(col):\n",
    "        def any_reagent(names):\n",
    "            return any(\n",
    "                helpers.lookup_value_series(spc_df, col, [{\"name\": n} for n in names])\n",
    "            )\n",
    "\n",
    "        return any_reagent\n",
    "\n",
    "    rxn_df = pandas.DataFrame.from_dict(\n",
    "        {\n",
    "            \"name\": list(map(chemkin_io.writer.format_rxn_name, rxn_dct.keys())),\n",
    "            \"orig-name\": list(map(original_reaction_name, rxn_dct.keys())),\n",
    "            \"reagent-names\": [r + p for r, p, _ in rxn_dct.keys()],\n",
    "        }\n",
    "    )\n",
    "\n",
    "    rcol = rxn_df[\"reagent-names\"]\n",
    "    rxn_df[\"any_stereo\"] = rcol.progress_apply(any_reagent_(\"any_stereo\"))\n",
    "    rxn_df[\"atom_stereo\"] = rcol.progress_apply(any_reagent_(\"atom_stereo\"))\n",
    "    rxn_df[\"bond_stereo\"] = rcol.progress_apply(any_reagent_(\"bond_stereo\"))\n",
    "    rxn_df[\"non_inchi_stereo\"] = rcol.progress_apply(any_reagent_(\"non_inchi_stereo\"))\n",
    "    rxn_df[\"res_bond_stereo\"] = rcol.progress_apply(any_reagent_(\"res_bond_stereo\"))\n",
    "    rxn_df[\"vin_bond_stereo\"] = rcol.progress_apply(any_reagent_(\"vin_bond_stereo\"))\n",
    "    return rxn_df"
   ]
  },
  {
   "cell_type": "code",
   "execution_count": 8,
   "id": "dcc35932",
   "metadata": {},
   "outputs": [],
   "source": [
    "# 2d. function: calculate aggregate stats for each category\n",
    "def aggregate_stats(df):\n",
    "    has_fle = 'fleeting_atom_stereo' in df and 'fleeting_bond_stereo' in df\n",
    "    fle = df['fleeting_atom_stereo'] | df['fleeting_bond_stereo'] if has_fle else None\n",
    "    stats = pandas.Series({\n",
    "        \"Total\": df.shape[0],\n",
    "        \"Stereo (any kind)\": df['any_stereo'].sum(),\n",
    "        \"Atom stereo\": df['atom_stereo'].sum(),\n",
    "        \"Bond stereo\": df['bond_stereo'].sum(),\n",
    "        \"No InChI\": df['non_inchi_stereo'].sum(),\n",
    "        \"Res. bond stereo\": df['res_bond_stereo'].sum(),\n",
    "        \"Vin. bond stereo\": df['vin_bond_stereo'].sum(),\n",
    "        \"Fleeting stereo\": fle.sum() if has_fle else pandas.NA,\n",
    "        \"Fleeting atom stereo\": df['fleeting_atom_stereo'].sum() if has_fle else pandas.NA,\n",
    "        \"Fleeting bond stereo\": df['fleeting_bond_stereo'].sum() if has_fle else pandas.NA,\n",
    "    }, dtype='UInt64')\n",
    "    return stats"
   ]
  },
  {
   "cell_type": "code",
   "execution_count": 9,
   "id": "b7bedb86",
   "metadata": {},
   "outputs": [],
   "source": [
    "# 2e. function: calculate disaggregate stats for each category\n",
    "def disaggregate_stats(df):\n",
    "    any_stereo = df['any_stereo']\n",
    "    atom_stereo = df['atom_stereo']\n",
    "    bond_stereo = df['bond_stereo']\n",
    "    res_bond_stereo = df['res_bond_stereo']\n",
    "    vin_bond_stereo = df['vin_bond_stereo']\n",
    "    non_inchi_stereo = df['non_inchi_stereo']\n",
    "\n",
    "    has_fle = 'fleeting_atom_stereo' in df and 'fleeting_bond_stereo' in df\n",
    "    fle_atom_stereo = df['fleeting_atom_stereo'] if has_fle else pandas.NA\n",
    "    fle_bond_stereo = df['fleeting_bond_stereo'] if has_fle else pandas.NA\n",
    "\n",
    "    inchi_stereo = any_stereo & ~non_inchi_stereo\n",
    "    inchi_atom_stereo = atom_stereo & ~non_inchi_stereo & ~bond_stereo\n",
    "    inchi_bond_stereo = bond_stereo & ~non_inchi_stereo & ~res_bond_stereo\n",
    "    if has_fle:\n",
    "        fle_atom_stereo &= ~fle_bond_stereo\n",
    "\n",
    "    stats = pandas.Series({\n",
    "        \"InChI\": inchi_stereo.sum(),\n",
    "        \"Atom stereo\": inchi_atom_stereo.sum(),\n",
    "        \"Bond stereo\": inchi_bond_stereo.sum(),\n",
    "        \"No InChI\": non_inchi_stereo.sum(),\n",
    "        \"Res. bond stereo\": res_bond_stereo.sum(),\n",
    "        \"Vin. bond stereo\": vin_bond_stereo.sum(),\n",
    "        \"Fleeting atom stereo\": fle_atom_stereo.sum() if has_fle else pandas.NA,\n",
    "        \"Fleeting bond stereo\": fle_bond_stereo.sum() if has_fle else pandas.NA,\n",
    "    }, dtype='UInt64')\n",
    "    return stats"
   ]
  },
  {
   "cell_type": "code",
   "execution_count": 10,
   "id": "82bff139-8a84-44d3-8004-58b0d64eb70f",
   "metadata": {},
   "outputs": [
    {
     "data": {
      "application/vnd.jupyter.widget-view+json": {
       "model_id": "2a201c2ebde44cfdb39503b461a45d50",
       "version_major": 2,
       "version_minor": 0
      },
      "text/plain": [
       "  0%|          | 0/3907 [00:00<?, ?it/s]"
      ]
     },
     "metadata": {},
     "output_type": "display_data"
    },
    {
     "data": {
      "application/vnd.jupyter.widget-view+json": {
       "model_id": "70cdfe3fa9b541dab4d276d99dd9db40",
       "version_major": 2,
       "version_minor": 0
      },
      "text/plain": [
       "  0%|          | 0/3907 [00:00<?, ?it/s]"
      ]
     },
     "metadata": {},
     "output_type": "display_data"
    },
    {
     "data": {
      "application/vnd.jupyter.widget-view+json": {
       "model_id": "3f639a2d32e04a89b76cb37d06b47332",
       "version_major": 2,
       "version_minor": 0
      },
      "text/plain": [
       "  0%|          | 0/3907 [00:00<?, ?it/s]"
      ]
     },
     "metadata": {},
     "output_type": "display_data"
    },
    {
     "data": {
      "application/vnd.jupyter.widget-view+json": {
       "model_id": "5122b7485c0a411580a6bd620dbdd593",
       "version_major": 2,
       "version_minor": 0
      },
      "text/plain": [
       "  0%|          | 0/3907 [00:00<?, ?it/s]"
      ]
     },
     "metadata": {},
     "output_type": "display_data"
    },
    {
     "data": {
      "application/vnd.jupyter.widget-view+json": {
       "model_id": "93c533ba8a7b489ba63cc34cc535b1d3",
       "version_major": 2,
       "version_minor": 0
      },
      "text/plain": [
       "  0%|          | 0/3907 [00:00<?, ?it/s]"
      ]
     },
     "metadata": {},
     "output_type": "display_data"
    },
    {
     "data": {
      "application/vnd.jupyter.widget-view+json": {
       "model_id": "ae1c2434ac4c412ea65b26fc28edd60b",
       "version_major": 2,
       "version_minor": 0
      },
      "text/plain": [
       "  0%|          | 0/3907 [00:00<?, ?it/s]"
      ]
     },
     "metadata": {},
     "output_type": "display_data"
    },
    {
     "data": {
      "application/vnd.jupyter.widget-view+json": {
       "model_id": "270d4be8238745b685e5e218884af3c1",
       "version_major": 2,
       "version_minor": 0
      },
      "text/plain": [
       "  0%|          | 0/3907 [00:00<?, ?it/s]"
      ]
     },
     "metadata": {},
     "output_type": "display_data"
    },
    {
     "data": {
      "application/vnd.jupyter.widget-view+json": {
       "model_id": "19d67ad9408249679a2de81753400be5",
       "version_major": 2,
       "version_minor": 0
      },
      "text/plain": [
       "  0%|          | 0/3907 [00:00<?, ?it/s]"
      ]
     },
     "metadata": {},
     "output_type": "display_data"
    },
    {
     "data": {
      "application/vnd.jupyter.widget-view+json": {
       "model_id": "24383feee0c14357a081f807f23b0838",
       "version_major": 2,
       "version_minor": 0
      },
      "text/plain": [
       "  0%|          | 0/450 [00:00<?, ?it/s]"
      ]
     },
     "metadata": {},
     "output_type": "display_data"
    },
    {
     "data": {
      "application/vnd.jupyter.widget-view+json": {
       "model_id": "636617675df448d6a61ac36645649588",
       "version_major": 2,
       "version_minor": 0
      },
      "text/plain": [
       "  0%|          | 0/450 [00:00<?, ?it/s]"
      ]
     },
     "metadata": {},
     "output_type": "display_data"
    },
    {
     "data": {
      "application/vnd.jupyter.widget-view+json": {
       "model_id": "50423955867146c7a547e8ace919dfb4",
       "version_major": 2,
       "version_minor": 0
      },
      "text/plain": [
       "  0%|          | 0/450 [00:00<?, ?it/s]"
      ]
     },
     "metadata": {},
     "output_type": "display_data"
    },
    {
     "data": {
      "application/vnd.jupyter.widget-view+json": {
       "model_id": "c730ee700294419c9a12c08834cf2475",
       "version_major": 2,
       "version_minor": 0
      },
      "text/plain": [
       "  0%|          | 0/450 [00:00<?, ?it/s]"
      ]
     },
     "metadata": {},
     "output_type": "display_data"
    },
    {
     "data": {
      "application/vnd.jupyter.widget-view+json": {
       "model_id": "21d1a3197c9048feb6e4c7fe672dd094",
       "version_major": 2,
       "version_minor": 0
      },
      "text/plain": [
       "  0%|          | 0/450 [00:00<?, ?it/s]"
      ]
     },
     "metadata": {},
     "output_type": "display_data"
    },
    {
     "data": {
      "application/vnd.jupyter.widget-view+json": {
       "model_id": "1395700e7417429e8a1900b64f883fad",
       "version_major": 2,
       "version_minor": 0
      },
      "text/plain": [
       "  0%|          | 0/450 [00:00<?, ?it/s]"
      ]
     },
     "metadata": {},
     "output_type": "display_data"
    },
    {
     "data": {
      "application/vnd.jupyter.widget-view+json": {
       "model_id": "b7c1a665092740598b58bb2aff47f70a",
       "version_major": 2,
       "version_minor": 0
      },
      "text/plain": [
       "  0%|          | 0/450 [00:00<?, ?it/s]"
      ]
     },
     "metadata": {},
     "output_type": "display_data"
    },
    {
     "data": {
      "application/vnd.jupyter.widget-view+json": {
       "model_id": "e801218ed2004e4180e13ed2693cd267",
       "version_major": 2,
       "version_minor": 0
      },
      "text/plain": [
       "  0%|          | 0/450 [00:00<?, ?it/s]"
      ]
     },
     "metadata": {},
     "output_type": "display_data"
    }
   ],
   "source": [
    "# 3a. (long-running) calculate species stats for the fully expanded DataFrame\n",
    "FUEX_C67_SPC_DF = species_stats_columns(FUEX_C67_SPC_DF)\n",
    "FUEX_PYR_SPC_DF = species_stats_columns(FUEX_PYR_SPC_DF)"
   ]
  },
  {
   "cell_type": "code",
   "execution_count": 11,
   "id": "30b1ce5f-12ec-4b00-8cc2-2080dcd3b3eb",
   "metadata": {},
   "outputs": [],
   "source": [
    "# 3b. add calculated stats to the original and NR DataFrames\n",
    "FUEX_C67_SPC_DF[\"stereo-name\"] = FUEX_C67_SPC_DF[\"name\"]\n",
    "FUEX_PYR_SPC_DF[\"stereo-name\"] = FUEX_PYR_SPC_DF[\"name\"]\n",
    "\n",
    "ORIG_C67_SPC_DF = helpers.with_columns_from_other(\n",
    "    ORIG_C67_SPC_DF, FUEX_C67_SPC_DF, [\"orig-name\"]\n",
    ")\n",
    "NREX_C67_SPC_DF = helpers.with_columns_from_other(\n",
    "    NREX_C67_SPC_DF, FUEX_C67_SPC_DF, [\"stereo-name\"]\n",
    ")\n",
    "ORIG_PYR_SPC_DF = helpers.with_columns_from_other(\n",
    "    ORIG_PYR_SPC_DF, FUEX_PYR_SPC_DF, [\"orig-name\"]\n",
    ")\n",
    "NREX_PYR_SPC_DF = helpers.with_columns_from_other(\n",
    "    NREX_PYR_SPC_DF, FUEX_PYR_SPC_DF, [\"stereo-name\"]\n",
    ")"
   ]
  },
  {
   "cell_type": "code",
   "execution_count": 12,
   "id": "df65ab61",
   "metadata": {},
   "outputs": [
    {
     "name": "stdout",
     "output_type": "stream",
     "text": [
      "Species Aggregate Stats:\n"
     ]
    },
    {
     "data": {
      "text/html": [
       "<div>\n",
       "<style scoped>\n",
       "    .dataframe tbody tr th:only-of-type {\n",
       "        vertical-align: middle;\n",
       "    }\n",
       "\n",
       "    .dataframe tbody tr th {\n",
       "        vertical-align: top;\n",
       "    }\n",
       "\n",
       "    .dataframe thead th {\n",
       "        text-align: right;\n",
       "    }\n",
       "</style>\n",
       "<table border=\"1\" class=\"dataframe\">\n",
       "  <thead>\n",
       "    <tr style=\"text-align: right;\">\n",
       "      <th></th>\n",
       "      <th>C6-7 Orig</th>\n",
       "      <th>C6-7 NR Exp</th>\n",
       "      <th>C6-7 Full Exp</th>\n",
       "      <th>Pyro Orig</th>\n",
       "      <th>Pyro NR Exp</th>\n",
       "      <th>Pyro Full Exp</th>\n",
       "    </tr>\n",
       "  </thead>\n",
       "  <tbody>\n",
       "    <tr>\n",
       "      <th>Total</th>\n",
       "      <td>1676</td>\n",
       "      <td>2370</td>\n",
       "      <td>3907</td>\n",
       "      <td>309</td>\n",
       "      <td>420</td>\n",
       "      <td>450</td>\n",
       "    </tr>\n",
       "    <tr>\n",
       "      <th>Stereo (any kind)</th>\n",
       "      <td>1187</td>\n",
       "      <td>1881</td>\n",
       "      <td>3416</td>\n",
       "      <td>102</td>\n",
       "      <td>213</td>\n",
       "      <td>240</td>\n",
       "    </tr>\n",
       "    <tr>\n",
       "      <th>Atom stereo</th>\n",
       "      <td>1046</td>\n",
       "      <td>1555</td>\n",
       "      <td>3090</td>\n",
       "      <td>24</td>\n",
       "      <td>28</td>\n",
       "      <td>55</td>\n",
       "    </tr>\n",
       "    <tr>\n",
       "      <th>Bond stereo</th>\n",
       "      <td>210</td>\n",
       "      <td>468</td>\n",
       "      <td>610</td>\n",
       "      <td>80</td>\n",
       "      <td>189</td>\n",
       "      <td>193</td>\n",
       "    </tr>\n",
       "    <tr>\n",
       "      <th>No InChI</th>\n",
       "      <td>73</td>\n",
       "      <td>189</td>\n",
       "      <td>211</td>\n",
       "      <td>44</td>\n",
       "      <td>116</td>\n",
       "      <td>116</td>\n",
       "    </tr>\n",
       "    <tr>\n",
       "      <th>Res. bond stereo</th>\n",
       "      <td>56</td>\n",
       "      <td>155</td>\n",
       "      <td>169</td>\n",
       "      <td>28</td>\n",
       "      <td>82</td>\n",
       "      <td>82</td>\n",
       "    </tr>\n",
       "    <tr>\n",
       "      <th>Vin. bond stereo</th>\n",
       "      <td>17</td>\n",
       "      <td>34</td>\n",
       "      <td>42</td>\n",
       "      <td>16</td>\n",
       "      <td>34</td>\n",
       "      <td>34</td>\n",
       "    </tr>\n",
       "    <tr>\n",
       "      <th>Fleeting stereo</th>\n",
       "      <td>&lt;NA&gt;</td>\n",
       "      <td>&lt;NA&gt;</td>\n",
       "      <td>&lt;NA&gt;</td>\n",
       "      <td>&lt;NA&gt;</td>\n",
       "      <td>&lt;NA&gt;</td>\n",
       "      <td>&lt;NA&gt;</td>\n",
       "    </tr>\n",
       "    <tr>\n",
       "      <th>Fleeting atom stereo</th>\n",
       "      <td>&lt;NA&gt;</td>\n",
       "      <td>&lt;NA&gt;</td>\n",
       "      <td>&lt;NA&gt;</td>\n",
       "      <td>&lt;NA&gt;</td>\n",
       "      <td>&lt;NA&gt;</td>\n",
       "      <td>&lt;NA&gt;</td>\n",
       "    </tr>\n",
       "    <tr>\n",
       "      <th>Fleeting bond stereo</th>\n",
       "      <td>&lt;NA&gt;</td>\n",
       "      <td>&lt;NA&gt;</td>\n",
       "      <td>&lt;NA&gt;</td>\n",
       "      <td>&lt;NA&gt;</td>\n",
       "      <td>&lt;NA&gt;</td>\n",
       "      <td>&lt;NA&gt;</td>\n",
       "    </tr>\n",
       "  </tbody>\n",
       "</table>\n",
       "</div>"
      ],
      "text/plain": [
       "                      C6-7 Orig  C6-7 NR Exp  C6-7 Full Exp  Pyro Orig  \\\n",
       "Total                      1676         2370           3907        309   \n",
       "Stereo (any kind)          1187         1881           3416        102   \n",
       "Atom stereo                1046         1555           3090         24   \n",
       "Bond stereo                 210          468            610         80   \n",
       "No InChI                     73          189            211         44   \n",
       "Res. bond stereo             56          155            169         28   \n",
       "Vin. bond stereo             17           34             42         16   \n",
       "Fleeting stereo            <NA>         <NA>           <NA>       <NA>   \n",
       "Fleeting atom stereo       <NA>         <NA>           <NA>       <NA>   \n",
       "Fleeting bond stereo       <NA>         <NA>           <NA>       <NA>   \n",
       "\n",
       "                      Pyro NR Exp  Pyro Full Exp  \n",
       "Total                         420            450  \n",
       "Stereo (any kind)             213            240  \n",
       "Atom stereo                    28             55  \n",
       "Bond stereo                   189            193  \n",
       "No InChI                      116            116  \n",
       "Res. bond stereo               82             82  \n",
       "Vin. bond stereo               34             34  \n",
       "Fleeting stereo              <NA>           <NA>  \n",
       "Fleeting atom stereo         <NA>           <NA>  \n",
       "Fleeting bond stereo         <NA>           <NA>  "
      ]
     },
     "metadata": {},
     "output_type": "display_data"
    },
    {
     "name": "stdout",
     "output_type": "stream",
     "text": [
      "Species Disaggregate Stats:\n"
     ]
    },
    {
     "data": {
      "text/html": [
       "<div>\n",
       "<style scoped>\n",
       "    .dataframe tbody tr th:only-of-type {\n",
       "        vertical-align: middle;\n",
       "    }\n",
       "\n",
       "    .dataframe tbody tr th {\n",
       "        vertical-align: top;\n",
       "    }\n",
       "\n",
       "    .dataframe thead th {\n",
       "        text-align: right;\n",
       "    }\n",
       "</style>\n",
       "<table border=\"1\" class=\"dataframe\">\n",
       "  <thead>\n",
       "    <tr style=\"text-align: right;\">\n",
       "      <th></th>\n",
       "      <th>C6-7 Orig</th>\n",
       "      <th>C6-7 NR Exp</th>\n",
       "      <th>C6-7 Full Exp</th>\n",
       "      <th>Pyro Orig</th>\n",
       "      <th>Pyro NR Exp</th>\n",
       "      <th>Pyro Full Exp</th>\n",
       "    </tr>\n",
       "  </thead>\n",
       "  <tbody>\n",
       "    <tr>\n",
       "      <th>InChI</th>\n",
       "      <td>1114</td>\n",
       "      <td>1692</td>\n",
       "      <td>3205</td>\n",
       "      <td>58</td>\n",
       "      <td>97</td>\n",
       "      <td>124</td>\n",
       "    </tr>\n",
       "    <tr>\n",
       "      <th>Atom stereo</th>\n",
       "      <td>977</td>\n",
       "      <td>1413</td>\n",
       "      <td>2806</td>\n",
       "      <td>22</td>\n",
       "      <td>24</td>\n",
       "      <td>47</td>\n",
       "    </tr>\n",
       "    <tr>\n",
       "      <th>Bond stereo</th>\n",
       "      <td>137</td>\n",
       "      <td>279</td>\n",
       "      <td>399</td>\n",
       "      <td>36</td>\n",
       "      <td>73</td>\n",
       "      <td>77</td>\n",
       "    </tr>\n",
       "    <tr>\n",
       "      <th>No InChI</th>\n",
       "      <td>73</td>\n",
       "      <td>189</td>\n",
       "      <td>211</td>\n",
       "      <td>44</td>\n",
       "      <td>116</td>\n",
       "      <td>116</td>\n",
       "    </tr>\n",
       "    <tr>\n",
       "      <th>Res. bond stereo</th>\n",
       "      <td>56</td>\n",
       "      <td>155</td>\n",
       "      <td>169</td>\n",
       "      <td>28</td>\n",
       "      <td>82</td>\n",
       "      <td>82</td>\n",
       "    </tr>\n",
       "    <tr>\n",
       "      <th>Vin. bond stereo</th>\n",
       "      <td>17</td>\n",
       "      <td>34</td>\n",
       "      <td>42</td>\n",
       "      <td>16</td>\n",
       "      <td>34</td>\n",
       "      <td>34</td>\n",
       "    </tr>\n",
       "    <tr>\n",
       "      <th>Fleeting atom stereo</th>\n",
       "      <td>&lt;NA&gt;</td>\n",
       "      <td>&lt;NA&gt;</td>\n",
       "      <td>&lt;NA&gt;</td>\n",
       "      <td>&lt;NA&gt;</td>\n",
       "      <td>&lt;NA&gt;</td>\n",
       "      <td>&lt;NA&gt;</td>\n",
       "    </tr>\n",
       "    <tr>\n",
       "      <th>Fleeting bond stereo</th>\n",
       "      <td>&lt;NA&gt;</td>\n",
       "      <td>&lt;NA&gt;</td>\n",
       "      <td>&lt;NA&gt;</td>\n",
       "      <td>&lt;NA&gt;</td>\n",
       "      <td>&lt;NA&gt;</td>\n",
       "      <td>&lt;NA&gt;</td>\n",
       "    </tr>\n",
       "  </tbody>\n",
       "</table>\n",
       "</div>"
      ],
      "text/plain": [
       "                      C6-7 Orig  C6-7 NR Exp  C6-7 Full Exp  Pyro Orig  \\\n",
       "InChI                      1114         1692           3205         58   \n",
       "Atom stereo                 977         1413           2806         22   \n",
       "Bond stereo                 137          279            399         36   \n",
       "No InChI                     73          189            211         44   \n",
       "Res. bond stereo             56          155            169         28   \n",
       "Vin. bond stereo             17           34             42         16   \n",
       "Fleeting atom stereo       <NA>         <NA>           <NA>       <NA>   \n",
       "Fleeting bond stereo       <NA>         <NA>           <NA>       <NA>   \n",
       "\n",
       "                      Pyro NR Exp  Pyro Full Exp  \n",
       "InChI                          97            124  \n",
       "Atom stereo                    24             47  \n",
       "Bond stereo                    73             77  \n",
       "No InChI                      116            116  \n",
       "Res. bond stereo               82             82  \n",
       "Vin. bond stereo               34             34  \n",
       "Fleeting atom stereo         <NA>           <NA>  \n",
       "Fleeting bond stereo         <NA>           <NA>  "
      ]
     },
     "metadata": {},
     "output_type": "display_data"
    }
   ],
   "source": [
    "# 3c. form tabls with aggregate / disaggregate stats for species\n",
    "print('Species Aggregate Stats:')\n",
    "SPC_AGG_STATS_DF = pandas.DataFrame.from_dict({\n",
    "    'C6-7 Orig': aggregate_stats(ORIG_C67_SPC_DF),\n",
    "    'C6-7 NR Exp': aggregate_stats(NREX_C67_SPC_DF),\n",
    "    'C6-7 Full Exp': aggregate_stats(FUEX_C67_SPC_DF),\n",
    "    'Pyro Orig': aggregate_stats(ORIG_PYR_SPC_DF),\n",
    "    'Pyro NR Exp': aggregate_stats(NREX_PYR_SPC_DF),\n",
    "    'Pyro Full Exp': aggregate_stats(FUEX_PYR_SPC_DF),\n",
    "})\n",
    "display(SPC_AGG_STATS_DF)\n",
    "\n",
    "print('Species Disaggregate Stats:')\n",
    "SPC_DISAGG_STATS_DF = pandas.DataFrame.from_dict({\n",
    "    'C6-7 Orig': disaggregate_stats(ORIG_C67_SPC_DF),\n",
    "    'C6-7 NR Exp': disaggregate_stats(NREX_C67_SPC_DF),\n",
    "    'C6-7 Full Exp': disaggregate_stats(FUEX_C67_SPC_DF),\n",
    "    'Pyro Orig': disaggregate_stats(ORIG_PYR_SPC_DF),\n",
    "    'Pyro NR Exp': disaggregate_stats(NREX_PYR_SPC_DF),\n",
    "    'Pyro Full Exp': disaggregate_stats(FUEX_PYR_SPC_DF),\n",
    "})\n",
    "display(SPC_DISAGG_STATS_DF)"
   ]
  },
  {
   "cell_type": "code",
   "execution_count": 13,
   "id": "f10f79cb",
   "metadata": {},
   "outputs": [
    {
     "data": {
      "application/vnd.jupyter.widget-view+json": {
       "model_id": "e565d84226c744d59dfde6d740d6aaf2",
       "version_major": 2,
       "version_minor": 0
      },
      "text/plain": [
       "  0%|          | 0/3470 [00:00<?, ?it/s]"
      ]
     },
     "metadata": {},
     "output_type": "display_data"
    },
    {
     "data": {
      "application/vnd.jupyter.widget-view+json": {
       "model_id": "bf32d17165be4ed2839f9fa932f142af",
       "version_major": 2,
       "version_minor": 0
      },
      "text/plain": [
       "  0%|          | 0/3470 [00:00<?, ?it/s]"
      ]
     },
     "metadata": {},
     "output_type": "display_data"
    },
    {
     "data": {
      "application/vnd.jupyter.widget-view+json": {
       "model_id": "4585d4c8f438410e9e5a62e489b3bbf5",
       "version_major": 2,
       "version_minor": 0
      },
      "text/plain": [
       "  0%|          | 0/3470 [00:00<?, ?it/s]"
      ]
     },
     "metadata": {},
     "output_type": "display_data"
    },
    {
     "data": {
      "application/vnd.jupyter.widget-view+json": {
       "model_id": "e40c735723e343d69e45fa3f8367229e",
       "version_major": 2,
       "version_minor": 0
      },
      "text/plain": [
       "  0%|          | 0/3470 [00:00<?, ?it/s]"
      ]
     },
     "metadata": {},
     "output_type": "display_data"
    },
    {
     "data": {
      "application/vnd.jupyter.widget-view+json": {
       "model_id": "aa67af9d5f8b4f6daff991619bff2f44",
       "version_major": 2,
       "version_minor": 0
      },
      "text/plain": [
       "  0%|          | 0/3470 [00:00<?, ?it/s]"
      ]
     },
     "metadata": {},
     "output_type": "display_data"
    },
    {
     "data": {
      "application/vnd.jupyter.widget-view+json": {
       "model_id": "4df2fd6ac5fa49ddb47423ccba0c8207",
       "version_major": 2,
       "version_minor": 0
      },
      "text/plain": [
       "  0%|          | 0/3470 [00:00<?, ?it/s]"
      ]
     },
     "metadata": {},
     "output_type": "display_data"
    },
    {
     "data": {
      "application/vnd.jupyter.widget-view+json": {
       "model_id": "bac2015b5e1b4ecfb8b6aed186704f64",
       "version_major": 2,
       "version_minor": 0
      },
      "text/plain": [
       "  0%|          | 0/5661 [00:00<?, ?it/s]"
      ]
     },
     "metadata": {},
     "output_type": "display_data"
    },
    {
     "data": {
      "application/vnd.jupyter.widget-view+json": {
       "model_id": "15afcf3297d149df9d0aad9dafa624f9",
       "version_major": 2,
       "version_minor": 0
      },
      "text/plain": [
       "  0%|          | 0/5661 [00:00<?, ?it/s]"
      ]
     },
     "metadata": {},
     "output_type": "display_data"
    },
    {
     "data": {
      "application/vnd.jupyter.widget-view+json": {
       "model_id": "46fd22ce73cb4c24bfb9e7e2eef0a483",
       "version_major": 2,
       "version_minor": 0
      },
      "text/plain": [
       "  0%|          | 0/5661 [00:00<?, ?it/s]"
      ]
     },
     "metadata": {},
     "output_type": "display_data"
    },
    {
     "data": {
      "application/vnd.jupyter.widget-view+json": {
       "model_id": "e89b49bf6c2648a7b688eccc38103bd1",
       "version_major": 2,
       "version_minor": 0
      },
      "text/plain": [
       "  0%|          | 0/5661 [00:00<?, ?it/s]"
      ]
     },
     "metadata": {},
     "output_type": "display_data"
    },
    {
     "data": {
      "application/vnd.jupyter.widget-view+json": {
       "model_id": "fd7d95590c814b8b97b0dfc885e22800",
       "version_major": 2,
       "version_minor": 0
      },
      "text/plain": [
       "  0%|          | 0/5661 [00:00<?, ?it/s]"
      ]
     },
     "metadata": {},
     "output_type": "display_data"
    },
    {
     "data": {
      "application/vnd.jupyter.widget-view+json": {
       "model_id": "549133f4da0f4117937458236834cef5",
       "version_major": 2,
       "version_minor": 0
      },
      "text/plain": [
       "  0%|          | 0/5661 [00:00<?, ?it/s]"
      ]
     },
     "metadata": {},
     "output_type": "display_data"
    },
    {
     "data": {
      "application/vnd.jupyter.widget-view+json": {
       "model_id": "c05df56f7e014a10859a2c16d671b913",
       "version_major": 2,
       "version_minor": 0
      },
      "text/plain": [
       "  0%|          | 0/8891 [00:00<?, ?it/s]"
      ]
     },
     "metadata": {},
     "output_type": "display_data"
    },
    {
     "data": {
      "application/vnd.jupyter.widget-view+json": {
       "model_id": "f5ef0783c41340d399bf50d5e3c3439f",
       "version_major": 2,
       "version_minor": 0
      },
      "text/plain": [
       "  0%|          | 0/8891 [00:00<?, ?it/s]"
      ]
     },
     "metadata": {},
     "output_type": "display_data"
    },
    {
     "data": {
      "application/vnd.jupyter.widget-view+json": {
       "model_id": "4aed6f9979994e7b98d80271364f5271",
       "version_major": 2,
       "version_minor": 0
      },
      "text/plain": [
       "  0%|          | 0/8891 [00:00<?, ?it/s]"
      ]
     },
     "metadata": {},
     "output_type": "display_data"
    },
    {
     "data": {
      "application/vnd.jupyter.widget-view+json": {
       "model_id": "64c27fa536a748139bb2d12fbe3d5c9d",
       "version_major": 2,
       "version_minor": 0
      },
      "text/plain": [
       "  0%|          | 0/8891 [00:00<?, ?it/s]"
      ]
     },
     "metadata": {},
     "output_type": "display_data"
    },
    {
     "data": {
      "application/vnd.jupyter.widget-view+json": {
       "model_id": "082615bbe66d405eb33095beacec63a3",
       "version_major": 2,
       "version_minor": 0
      },
      "text/plain": [
       "  0%|          | 0/8891 [00:00<?, ?it/s]"
      ]
     },
     "metadata": {},
     "output_type": "display_data"
    },
    {
     "data": {
      "application/vnd.jupyter.widget-view+json": {
       "model_id": "1bd4455e40aa4d45a7e10f6de4f7b1ab",
       "version_major": 2,
       "version_minor": 0
      },
      "text/plain": [
       "  0%|          | 0/8891 [00:00<?, ?it/s]"
      ]
     },
     "metadata": {},
     "output_type": "display_data"
    },
    {
     "data": {
      "application/vnd.jupyter.widget-view+json": {
       "model_id": "b8fa97bebcf04ce5b83664093b608961",
       "version_major": 2,
       "version_minor": 0
      },
      "text/plain": [
       "  0%|          | 0/1118 [00:00<?, ?it/s]"
      ]
     },
     "metadata": {},
     "output_type": "display_data"
    },
    {
     "data": {
      "application/vnd.jupyter.widget-view+json": {
       "model_id": "5581882897df4d69a81302fdba65d8ba",
       "version_major": 2,
       "version_minor": 0
      },
      "text/plain": [
       "  0%|          | 0/1118 [00:00<?, ?it/s]"
      ]
     },
     "metadata": {},
     "output_type": "display_data"
    },
    {
     "data": {
      "application/vnd.jupyter.widget-view+json": {
       "model_id": "edf729f72b00481589854f2bb8821930",
       "version_major": 2,
       "version_minor": 0
      },
      "text/plain": [
       "  0%|          | 0/1118 [00:00<?, ?it/s]"
      ]
     },
     "metadata": {},
     "output_type": "display_data"
    },
    {
     "data": {
      "application/vnd.jupyter.widget-view+json": {
       "model_id": "dddd4630044b4ccbb4b891bc3999d2b0",
       "version_major": 2,
       "version_minor": 0
      },
      "text/plain": [
       "  0%|          | 0/1118 [00:00<?, ?it/s]"
      ]
     },
     "metadata": {},
     "output_type": "display_data"
    },
    {
     "data": {
      "application/vnd.jupyter.widget-view+json": {
       "model_id": "b5ae7ceb7d03440899c853449f7b726c",
       "version_major": 2,
       "version_minor": 0
      },
      "text/plain": [
       "  0%|          | 0/1118 [00:00<?, ?it/s]"
      ]
     },
     "metadata": {},
     "output_type": "display_data"
    },
    {
     "data": {
      "application/vnd.jupyter.widget-view+json": {
       "model_id": "742158488e47482e975f52ac7902159b",
       "version_major": 2,
       "version_minor": 0
      },
      "text/plain": [
       "  0%|          | 0/1118 [00:00<?, ?it/s]"
      ]
     },
     "metadata": {},
     "output_type": "display_data"
    },
    {
     "data": {
      "application/vnd.jupyter.widget-view+json": {
       "model_id": "c1196243447f4f8ca727f172a3d8443c",
       "version_major": 2,
       "version_minor": 0
      },
      "text/plain": [
       "  0%|          | 0/1589 [00:00<?, ?it/s]"
      ]
     },
     "metadata": {},
     "output_type": "display_data"
    },
    {
     "data": {
      "application/vnd.jupyter.widget-view+json": {
       "model_id": "af8a0b61286644eba53471515691ec81",
       "version_major": 2,
       "version_minor": 0
      },
      "text/plain": [
       "  0%|          | 0/1589 [00:00<?, ?it/s]"
      ]
     },
     "metadata": {},
     "output_type": "display_data"
    },
    {
     "data": {
      "application/vnd.jupyter.widget-view+json": {
       "model_id": "c7424e98b3c643ada3b547ddcd5f01dc",
       "version_major": 2,
       "version_minor": 0
      },
      "text/plain": [
       "  0%|          | 0/1589 [00:00<?, ?it/s]"
      ]
     },
     "metadata": {},
     "output_type": "display_data"
    },
    {
     "data": {
      "application/vnd.jupyter.widget-view+json": {
       "model_id": "1fae001b0d9845318cfbc3bd960a74c2",
       "version_major": 2,
       "version_minor": 0
      },
      "text/plain": [
       "  0%|          | 0/1589 [00:00<?, ?it/s]"
      ]
     },
     "metadata": {},
     "output_type": "display_data"
    },
    {
     "data": {
      "application/vnd.jupyter.widget-view+json": {
       "model_id": "cda9dd074bfd4a87b8a299a3f394da26",
       "version_major": 2,
       "version_minor": 0
      },
      "text/plain": [
       "  0%|          | 0/1589 [00:00<?, ?it/s]"
      ]
     },
     "metadata": {},
     "output_type": "display_data"
    },
    {
     "data": {
      "application/vnd.jupyter.widget-view+json": {
       "model_id": "a2dada177b3d4d27bc322d64bac1f445",
       "version_major": 2,
       "version_minor": 0
      },
      "text/plain": [
       "  0%|          | 0/1589 [00:00<?, ?it/s]"
      ]
     },
     "metadata": {},
     "output_type": "display_data"
    },
    {
     "data": {
      "application/vnd.jupyter.widget-view+json": {
       "model_id": "e5d59898231c4e2a93523b11a08bdb58",
       "version_major": 2,
       "version_minor": 0
      },
      "text/plain": [
       "  0%|          | 0/1723 [00:00<?, ?it/s]"
      ]
     },
     "metadata": {},
     "output_type": "display_data"
    },
    {
     "data": {
      "application/vnd.jupyter.widget-view+json": {
       "model_id": "59acd4df9c214bb3a6c8152ebc10aa60",
       "version_major": 2,
       "version_minor": 0
      },
      "text/plain": [
       "  0%|          | 0/1723 [00:00<?, ?it/s]"
      ]
     },
     "metadata": {},
     "output_type": "display_data"
    },
    {
     "data": {
      "application/vnd.jupyter.widget-view+json": {
       "model_id": "7cf60dc7507946f9b159181e8bec28f9",
       "version_major": 2,
       "version_minor": 0
      },
      "text/plain": [
       "  0%|          | 0/1723 [00:00<?, ?it/s]"
      ]
     },
     "metadata": {},
     "output_type": "display_data"
    },
    {
     "data": {
      "application/vnd.jupyter.widget-view+json": {
       "model_id": "64d34dfab3ad476b8ca5286c5d57e869",
       "version_major": 2,
       "version_minor": 0
      },
      "text/plain": [
       "  0%|          | 0/1723 [00:00<?, ?it/s]"
      ]
     },
     "metadata": {},
     "output_type": "display_data"
    },
    {
     "data": {
      "application/vnd.jupyter.widget-view+json": {
       "model_id": "306de7f9a38644e290dc15c6d93a63c3",
       "version_major": 2,
       "version_minor": 0
      },
      "text/plain": [
       "  0%|          | 0/1723 [00:00<?, ?it/s]"
      ]
     },
     "metadata": {},
     "output_type": "display_data"
    },
    {
     "data": {
      "application/vnd.jupyter.widget-view+json": {
       "model_id": "4c3de64ef9b54db380388edc9575ec3a",
       "version_major": 2,
       "version_minor": 0
      },
      "text/plain": [
       "  0%|          | 0/1723 [00:00<?, ?it/s]"
      ]
     },
     "metadata": {},
     "output_type": "display_data"
    }
   ],
   "source": [
    "# 4a. form reaction stats DataFrames based on species stats\n",
    "ORIG_C67_RXN_DF = reaction_stats_columns(ORIG_C67_RXN_DCT, ORIG_C67_SPC_DF)\n",
    "NREX_C67_RXN_DF = reaction_stats_columns(NREX_C67_RXN_DCT, NREX_C67_SPC_DF)\n",
    "FUEX_C67_RXN_DF = reaction_stats_columns(FUEX_C67_RXN_DCT, FUEX_C67_SPC_DF)\n",
    "\n",
    "ORIG_PYR_RXN_DF = reaction_stats_columns(ORIG_PYR_RXN_DCT, ORIG_PYR_SPC_DF)\n",
    "NREX_PYR_RXN_DF = reaction_stats_columns(NREX_PYR_RXN_DCT, NREX_PYR_SPC_DF)\n",
    "FUEX_PYR_RXN_DF = reaction_stats_columns(FUEX_PYR_RXN_DCT, FUEX_PYR_SPC_DF)"
   ]
  },
  {
   "cell_type": "code",
   "execution_count": 14,
   "id": "0a827d5d-0ca5-4feb-a873-70351e979d7d",
   "metadata": {},
   "outputs": [
    {
     "data": {
      "application/vnd.jupyter.widget-view+json": {
       "model_id": "2fcec6c777394f969c7214301ed335f8",
       "version_major": 2,
       "version_minor": 0
      },
      "text/plain": [
       "  0%|          | 0/8891 [00:00<?, ?it/s]"
      ]
     },
     "metadata": {},
     "output_type": "display_data"
    },
    {
     "data": {
      "application/vnd.jupyter.widget-view+json": {
       "model_id": "2e475fc4b1764406b2992a1cece82403",
       "version_major": 2,
       "version_minor": 0
      },
      "text/plain": [
       "  0%|          | 0/1723 [00:00<?, ?it/s]"
      ]
     },
     "metadata": {},
     "output_type": "display_data"
    }
   ],
   "source": [
    "# 4b. (long-running) calculate fleeting stereo stats for the reactions\n",
    "# (Requires info not stored in the mechanism file, to avoid recalculating)\n",
    "C67_FLE_DF = fleeting_stereo_stats_columns(C67_RXN_DF)\n",
    "PYR_FLE_DF = fleeting_stereo_stats_columns(PYR_RXN_DF)"
   ]
  },
  {
   "cell_type": "code",
   "execution_count": 15,
   "id": "2eea9351",
   "metadata": {},
   "outputs": [],
   "source": [
    "# 4c. add racemic names to the fleeting stereo stats\n",
    "NREX_C67_RXN_DF[\"racem-name\"] = NREX_C67_RXN_DF[\"name\"]\n",
    "NREX_PYR_RXN_DF[\"racem-name\"] = NREX_PYR_RXN_DF[\"name\"]\n",
    "\n",
    "C67_CHI_DCT = dict(zip(FUEX_C67_SPC_DF[\"name\"], FUEX_C67_SPC_DF[\"inchi\"]))\n",
    "PYR_CHI_DCT = dict(zip(FUEX_PYR_SPC_DF[\"name\"], FUEX_PYR_SPC_DF[\"inchi\"]))\n",
    "\n",
    "C67_FLE_DF[\"racem-name\"] = C67_FLE_DF[\"name\"].map(\n",
    "    lambda n: helpers.racemic_reaction_name(n, C67_CHI_DCT)\n",
    ")\n",
    "PYR_FLE_DF[\"racem-name\"] = PYR_FLE_DF[\"name\"].map(\n",
    "    lambda n: helpers.racemic_reaction_name(n, PYR_CHI_DCT)\n",
    ")"
   ]
  },
  {
   "cell_type": "code",
   "execution_count": 16,
   "id": "8855255e",
   "metadata": {},
   "outputs": [],
   "source": [
    "# 4d. add fleeting stereo to reaction stats DataFrames\n",
    "ORIG_C67_RXN_DF = helpers.with_columns_from_other(\n",
    "    ORIG_C67_RXN_DF, C67_FLE_DF, [\"orig-name\"]\n",
    ")\n",
    "NREX_C67_RXN_DF = helpers.with_columns_from_other(\n",
    "    NREX_C67_RXN_DF, C67_FLE_DF, [\"racem-name\"]\n",
    ")\n",
    "FUEX_C67_RXN_DF = helpers.with_columns_from_other(\n",
    "    FUEX_C67_RXN_DF, C67_FLE_DF, [\"name\"]\n",
    ")\n",
    "\n",
    "ORIG_PYR_RXN_DF = helpers.with_columns_from_other(\n",
    "    ORIG_PYR_RXN_DF, PYR_FLE_DF, [\"orig-name\"]\n",
    ")\n",
    "NREX_PYR_RXN_DF = helpers.with_columns_from_other(\n",
    "    NREX_PYR_RXN_DF, PYR_FLE_DF, [\"racem-name\"]\n",
    ")\n",
    "FUEX_PYR_RXN_DF = helpers.with_columns_from_other(\n",
    "    FUEX_PYR_RXN_DF, PYR_FLE_DF, [\"name\"]\n",
    ")"
   ]
  },
  {
   "cell_type": "code",
   "execution_count": 17,
   "id": "5face13b",
   "metadata": {},
   "outputs": [
    {
     "name": "stdout",
     "output_type": "stream",
     "text": [
      "Reaction Aggregate Stats:\n"
     ]
    },
    {
     "data": {
      "text/html": [
       "<div>\n",
       "<style scoped>\n",
       "    .dataframe tbody tr th:only-of-type {\n",
       "        vertical-align: middle;\n",
       "    }\n",
       "\n",
       "    .dataframe tbody tr th {\n",
       "        vertical-align: top;\n",
       "    }\n",
       "\n",
       "    .dataframe thead th {\n",
       "        text-align: right;\n",
       "    }\n",
       "</style>\n",
       "<table border=\"1\" class=\"dataframe\">\n",
       "  <thead>\n",
       "    <tr style=\"text-align: right;\">\n",
       "      <th></th>\n",
       "      <th>C6-7 Orig</th>\n",
       "      <th>C6-7 NR Exp</th>\n",
       "      <th>C6-7 Full Exp</th>\n",
       "      <th>Pyro Orig</th>\n",
       "      <th>Pyro NR Exp</th>\n",
       "      <th>Pyro Full Exp</th>\n",
       "    </tr>\n",
       "  </thead>\n",
       "  <tbody>\n",
       "    <tr>\n",
       "      <th>Total</th>\n",
       "      <td>3470</td>\n",
       "      <td>5661</td>\n",
       "      <td>8891</td>\n",
       "      <td>1118</td>\n",
       "      <td>1589</td>\n",
       "      <td>1723</td>\n",
       "    </tr>\n",
       "    <tr>\n",
       "      <th>Stereo (any kind)</th>\n",
       "      <td>2407</td>\n",
       "      <td>4598</td>\n",
       "      <td>7828</td>\n",
       "      <td>417</td>\n",
       "      <td>888</td>\n",
       "      <td>1022</td>\n",
       "    </tr>\n",
       "    <tr>\n",
       "      <th>Atom stereo</th>\n",
       "      <td>1894</td>\n",
       "      <td>3228</td>\n",
       "      <td>6458</td>\n",
       "      <td>106</td>\n",
       "      <td>137</td>\n",
       "      <td>271</td>\n",
       "    </tr>\n",
       "    <tr>\n",
       "      <th>Bond stereo</th>\n",
       "      <td>848</td>\n",
       "      <td>2269</td>\n",
       "      <td>3168</td>\n",
       "      <td>331</td>\n",
       "      <td>797</td>\n",
       "      <td>840</td>\n",
       "    </tr>\n",
       "    <tr>\n",
       "      <th>No InChI</th>\n",
       "      <td>473</td>\n",
       "      <td>1353</td>\n",
       "      <td>1608</td>\n",
       "      <td>263</td>\n",
       "      <td>659</td>\n",
       "      <td>686</td>\n",
       "    </tr>\n",
       "    <tr>\n",
       "      <th>Res. bond stereo</th>\n",
       "      <td>426</td>\n",
       "      <td>1260</td>\n",
       "      <td>1491</td>\n",
       "      <td>170</td>\n",
       "      <td>478</td>\n",
       "      <td>505</td>\n",
       "    </tr>\n",
       "    <tr>\n",
       "      <th>Vin. bond stereo</th>\n",
       "      <td>47</td>\n",
       "      <td>93</td>\n",
       "      <td>117</td>\n",
       "      <td>98</td>\n",
       "      <td>192</td>\n",
       "      <td>192</td>\n",
       "    </tr>\n",
       "    <tr>\n",
       "      <th>Fleeting stereo</th>\n",
       "      <td>773</td>\n",
       "      <td>1392</td>\n",
       "      <td>1704</td>\n",
       "      <td>327</td>\n",
       "      <td>559</td>\n",
       "      <td>578</td>\n",
       "    </tr>\n",
       "    <tr>\n",
       "      <th>Fleeting atom stereo</th>\n",
       "      <td>769</td>\n",
       "      <td>1386</td>\n",
       "      <td>1698</td>\n",
       "      <td>309</td>\n",
       "      <td>540</td>\n",
       "      <td>559</td>\n",
       "    </tr>\n",
       "    <tr>\n",
       "      <th>Fleeting bond stereo</th>\n",
       "      <td>4</td>\n",
       "      <td>6</td>\n",
       "      <td>6</td>\n",
       "      <td>18</td>\n",
       "      <td>19</td>\n",
       "      <td>19</td>\n",
       "    </tr>\n",
       "  </tbody>\n",
       "</table>\n",
       "</div>"
      ],
      "text/plain": [
       "                      C6-7 Orig  C6-7 NR Exp  C6-7 Full Exp  Pyro Orig  \\\n",
       "Total                      3470         5661           8891       1118   \n",
       "Stereo (any kind)          2407         4598           7828        417   \n",
       "Atom stereo                1894         3228           6458        106   \n",
       "Bond stereo                 848         2269           3168        331   \n",
       "No InChI                    473         1353           1608        263   \n",
       "Res. bond stereo            426         1260           1491        170   \n",
       "Vin. bond stereo             47           93            117         98   \n",
       "Fleeting stereo             773         1392           1704        327   \n",
       "Fleeting atom stereo        769         1386           1698        309   \n",
       "Fleeting bond stereo          4            6              6         18   \n",
       "\n",
       "                      Pyro NR Exp  Pyro Full Exp  \n",
       "Total                        1589           1723  \n",
       "Stereo (any kind)             888           1022  \n",
       "Atom stereo                   137            271  \n",
       "Bond stereo                   797            840  \n",
       "No InChI                      659            686  \n",
       "Res. bond stereo              478            505  \n",
       "Vin. bond stereo              192            192  \n",
       "Fleeting stereo               559            578  \n",
       "Fleeting atom stereo          540            559  \n",
       "Fleeting bond stereo           19             19  "
      ]
     },
     "metadata": {},
     "output_type": "display_data"
    },
    {
     "name": "stdout",
     "output_type": "stream",
     "text": [
      "Reaction Disaggregate Stats:\n"
     ]
    },
    {
     "data": {
      "text/html": [
       "<div>\n",
       "<style scoped>\n",
       "    .dataframe tbody tr th:only-of-type {\n",
       "        vertical-align: middle;\n",
       "    }\n",
       "\n",
       "    .dataframe tbody tr th {\n",
       "        vertical-align: top;\n",
       "    }\n",
       "\n",
       "    .dataframe thead th {\n",
       "        text-align: right;\n",
       "    }\n",
       "</style>\n",
       "<table border=\"1\" class=\"dataframe\">\n",
       "  <thead>\n",
       "    <tr style=\"text-align: right;\">\n",
       "      <th></th>\n",
       "      <th>C6-7 Orig</th>\n",
       "      <th>C6-7 NR Exp</th>\n",
       "      <th>C6-7 Full Exp</th>\n",
       "      <th>Pyro Orig</th>\n",
       "      <th>Pyro NR Exp</th>\n",
       "      <th>Pyro Full Exp</th>\n",
       "    </tr>\n",
       "  </thead>\n",
       "  <tbody>\n",
       "    <tr>\n",
       "      <th>InChI</th>\n",
       "      <td>1934</td>\n",
       "      <td>3245</td>\n",
       "      <td>6220</td>\n",
       "      <td>154</td>\n",
       "      <td>229</td>\n",
       "      <td>336</td>\n",
       "    </tr>\n",
       "    <tr>\n",
       "      <th>Atom stereo</th>\n",
       "      <td>1559</td>\n",
       "      <td>2329</td>\n",
       "      <td>4660</td>\n",
       "      <td>86</td>\n",
       "      <td>91</td>\n",
       "      <td>182</td>\n",
       "    </tr>\n",
       "    <tr>\n",
       "      <th>Bond stereo</th>\n",
       "      <td>375</td>\n",
       "      <td>916</td>\n",
       "      <td>1560</td>\n",
       "      <td>68</td>\n",
       "      <td>138</td>\n",
       "      <td>154</td>\n",
       "    </tr>\n",
       "    <tr>\n",
       "      <th>No InChI</th>\n",
       "      <td>473</td>\n",
       "      <td>1353</td>\n",
       "      <td>1608</td>\n",
       "      <td>263</td>\n",
       "      <td>659</td>\n",
       "      <td>686</td>\n",
       "    </tr>\n",
       "    <tr>\n",
       "      <th>Res. bond stereo</th>\n",
       "      <td>426</td>\n",
       "      <td>1260</td>\n",
       "      <td>1491</td>\n",
       "      <td>170</td>\n",
       "      <td>478</td>\n",
       "      <td>505</td>\n",
       "    </tr>\n",
       "    <tr>\n",
       "      <th>Vin. bond stereo</th>\n",
       "      <td>47</td>\n",
       "      <td>93</td>\n",
       "      <td>117</td>\n",
       "      <td>98</td>\n",
       "      <td>192</td>\n",
       "      <td>192</td>\n",
       "    </tr>\n",
       "    <tr>\n",
       "      <th>Fleeting atom stereo</th>\n",
       "      <td>769</td>\n",
       "      <td>1386</td>\n",
       "      <td>1698</td>\n",
       "      <td>309</td>\n",
       "      <td>540</td>\n",
       "      <td>559</td>\n",
       "    </tr>\n",
       "    <tr>\n",
       "      <th>Fleeting bond stereo</th>\n",
       "      <td>4</td>\n",
       "      <td>6</td>\n",
       "      <td>6</td>\n",
       "      <td>18</td>\n",
       "      <td>19</td>\n",
       "      <td>19</td>\n",
       "    </tr>\n",
       "  </tbody>\n",
       "</table>\n",
       "</div>"
      ],
      "text/plain": [
       "                      C6-7 Orig  C6-7 NR Exp  C6-7 Full Exp  Pyro Orig  \\\n",
       "InChI                      1934         3245           6220        154   \n",
       "Atom stereo                1559         2329           4660         86   \n",
       "Bond stereo                 375          916           1560         68   \n",
       "No InChI                    473         1353           1608        263   \n",
       "Res. bond stereo            426         1260           1491        170   \n",
       "Vin. bond stereo             47           93            117         98   \n",
       "Fleeting atom stereo        769         1386           1698        309   \n",
       "Fleeting bond stereo          4            6              6         18   \n",
       "\n",
       "                      Pyro NR Exp  Pyro Full Exp  \n",
       "InChI                         229            336  \n",
       "Atom stereo                    91            182  \n",
       "Bond stereo                   138            154  \n",
       "No InChI                      659            686  \n",
       "Res. bond stereo              478            505  \n",
       "Vin. bond stereo              192            192  \n",
       "Fleeting atom stereo          540            559  \n",
       "Fleeting bond stereo           19             19  "
      ]
     },
     "metadata": {},
     "output_type": "display_data"
    }
   ],
   "source": [
    "# 4e. form tabls with aggregate / disaggregate stats for reactions\n",
    "print('Reaction Aggregate Stats:')\n",
    "RXN_AGG_STATS_DF = pandas.DataFrame.from_dict({\n",
    "    'C6-7 Orig': aggregate_stats(ORIG_C67_RXN_DF),\n",
    "    'C6-7 NR Exp': aggregate_stats(NREX_C67_RXN_DF),\n",
    "    'C6-7 Full Exp': aggregate_stats(FUEX_C67_RXN_DF),\n",
    "    'Pyro Orig': aggregate_stats(ORIG_PYR_RXN_DF),\n",
    "    'Pyro NR Exp': aggregate_stats(NREX_PYR_RXN_DF),\n",
    "    'Pyro Full Exp': aggregate_stats(FUEX_PYR_RXN_DF),\n",
    "})\n",
    "display(RXN_AGG_STATS_DF)\n",
    "\n",
    "print('Reaction Disaggregate Stats:')\n",
    "RXN_DISAGG_STATS_DF = pandas.DataFrame.from_dict({\n",
    "    'C6-7 Orig': disaggregate_stats(ORIG_C67_RXN_DF),\n",
    "    'C6-7 NR Exp': disaggregate_stats(NREX_C67_RXN_DF),\n",
    "    'C6-7 Full Exp': disaggregate_stats(FUEX_C67_RXN_DF),\n",
    "    'Pyro Orig': disaggregate_stats(ORIG_PYR_RXN_DF),\n",
    "    'Pyro NR Exp': disaggregate_stats(NREX_PYR_RXN_DF),\n",
    "    'Pyro Full Exp': disaggregate_stats(FUEX_PYR_RXN_DF),\n",
    "})\n",
    "display(RXN_DISAGG_STATS_DF)"
   ]
  },
  {
   "cell_type": "code",
   "execution_count": 18,
   "id": "f7a3451c-da42-476f-adad-3cc2d8ca0e00",
   "metadata": {},
   "outputs": [
    {
     "data": {
      "text/html": [
       "<div>\n",
       "<style scoped>\n",
       "    .dataframe tbody tr th:only-of-type {\n",
       "        vertical-align: middle;\n",
       "    }\n",
       "\n",
       "    .dataframe tbody tr th {\n",
       "        vertical-align: top;\n",
       "    }\n",
       "\n",
       "    .dataframe thead th {\n",
       "        text-align: right;\n",
       "    }\n",
       "</style>\n",
       "<table border=\"1\" class=\"dataframe\">\n",
       "  <thead>\n",
       "    <tr style=\"text-align: right;\">\n",
       "      <th></th>\n",
       "      <th>C6-7 Orig S</th>\n",
       "      <th>C6-7 NR Exp S</th>\n",
       "      <th>C6-7 Full Exp S</th>\n",
       "      <th>Pyro Orig S</th>\n",
       "      <th>Pyro NR Exp S</th>\n",
       "      <th>Pyro Full Exp S</th>\n",
       "      <th>C6-7 Orig R</th>\n",
       "      <th>C6-7 NR Exp R</th>\n",
       "      <th>C6-7 Full Exp R</th>\n",
       "      <th>Pyro Orig R</th>\n",
       "      <th>Pyro NR Exp R</th>\n",
       "      <th>Pyro Full Exp R</th>\n",
       "    </tr>\n",
       "  </thead>\n",
       "  <tbody>\n",
       "    <tr>\n",
       "      <th>Total</th>\n",
       "      <td>1676</td>\n",
       "      <td>2370</td>\n",
       "      <td>3907</td>\n",
       "      <td>309</td>\n",
       "      <td>420</td>\n",
       "      <td>450</td>\n",
       "      <td>3470</td>\n",
       "      <td>5661</td>\n",
       "      <td>8891</td>\n",
       "      <td>1118</td>\n",
       "      <td>1589</td>\n",
       "      <td>1723</td>\n",
       "    </tr>\n",
       "    <tr>\n",
       "      <th>Stereo (any kind)</th>\n",
       "      <td>1187</td>\n",
       "      <td>1881</td>\n",
       "      <td>3416</td>\n",
       "      <td>102</td>\n",
       "      <td>213</td>\n",
       "      <td>240</td>\n",
       "      <td>2407</td>\n",
       "      <td>4598</td>\n",
       "      <td>7828</td>\n",
       "      <td>417</td>\n",
       "      <td>888</td>\n",
       "      <td>1022</td>\n",
       "    </tr>\n",
       "    <tr>\n",
       "      <th>Atom stereo</th>\n",
       "      <td>1046</td>\n",
       "      <td>1555</td>\n",
       "      <td>3090</td>\n",
       "      <td>24</td>\n",
       "      <td>28</td>\n",
       "      <td>55</td>\n",
       "      <td>1894</td>\n",
       "      <td>3228</td>\n",
       "      <td>6458</td>\n",
       "      <td>106</td>\n",
       "      <td>137</td>\n",
       "      <td>271</td>\n",
       "    </tr>\n",
       "    <tr>\n",
       "      <th>Bond stereo</th>\n",
       "      <td>210</td>\n",
       "      <td>468</td>\n",
       "      <td>610</td>\n",
       "      <td>80</td>\n",
       "      <td>189</td>\n",
       "      <td>193</td>\n",
       "      <td>848</td>\n",
       "      <td>2269</td>\n",
       "      <td>3168</td>\n",
       "      <td>331</td>\n",
       "      <td>797</td>\n",
       "      <td>840</td>\n",
       "    </tr>\n",
       "    <tr>\n",
       "      <th>No InChI</th>\n",
       "      <td>73</td>\n",
       "      <td>189</td>\n",
       "      <td>211</td>\n",
       "      <td>44</td>\n",
       "      <td>116</td>\n",
       "      <td>116</td>\n",
       "      <td>473</td>\n",
       "      <td>1353</td>\n",
       "      <td>1608</td>\n",
       "      <td>263</td>\n",
       "      <td>659</td>\n",
       "      <td>686</td>\n",
       "    </tr>\n",
       "    <tr>\n",
       "      <th>Res. bond stereo</th>\n",
       "      <td>56</td>\n",
       "      <td>155</td>\n",
       "      <td>169</td>\n",
       "      <td>28</td>\n",
       "      <td>82</td>\n",
       "      <td>82</td>\n",
       "      <td>426</td>\n",
       "      <td>1260</td>\n",
       "      <td>1491</td>\n",
       "      <td>170</td>\n",
       "      <td>478</td>\n",
       "      <td>505</td>\n",
       "    </tr>\n",
       "    <tr>\n",
       "      <th>Vin. bond stereo</th>\n",
       "      <td>17</td>\n",
       "      <td>34</td>\n",
       "      <td>42</td>\n",
       "      <td>16</td>\n",
       "      <td>34</td>\n",
       "      <td>34</td>\n",
       "      <td>47</td>\n",
       "      <td>93</td>\n",
       "      <td>117</td>\n",
       "      <td>98</td>\n",
       "      <td>192</td>\n",
       "      <td>192</td>\n",
       "    </tr>\n",
       "    <tr>\n",
       "      <th>Fleeting stereo</th>\n",
       "      <td>&lt;NA&gt;</td>\n",
       "      <td>&lt;NA&gt;</td>\n",
       "      <td>&lt;NA&gt;</td>\n",
       "      <td>&lt;NA&gt;</td>\n",
       "      <td>&lt;NA&gt;</td>\n",
       "      <td>&lt;NA&gt;</td>\n",
       "      <td>773</td>\n",
       "      <td>1392</td>\n",
       "      <td>1704</td>\n",
       "      <td>327</td>\n",
       "      <td>559</td>\n",
       "      <td>578</td>\n",
       "    </tr>\n",
       "    <tr>\n",
       "      <th>Fleeting atom stereo</th>\n",
       "      <td>&lt;NA&gt;</td>\n",
       "      <td>&lt;NA&gt;</td>\n",
       "      <td>&lt;NA&gt;</td>\n",
       "      <td>&lt;NA&gt;</td>\n",
       "      <td>&lt;NA&gt;</td>\n",
       "      <td>&lt;NA&gt;</td>\n",
       "      <td>769</td>\n",
       "      <td>1386</td>\n",
       "      <td>1698</td>\n",
       "      <td>309</td>\n",
       "      <td>540</td>\n",
       "      <td>559</td>\n",
       "    </tr>\n",
       "    <tr>\n",
       "      <th>Fleeting bond stereo</th>\n",
       "      <td>&lt;NA&gt;</td>\n",
       "      <td>&lt;NA&gt;</td>\n",
       "      <td>&lt;NA&gt;</td>\n",
       "      <td>&lt;NA&gt;</td>\n",
       "      <td>&lt;NA&gt;</td>\n",
       "      <td>&lt;NA&gt;</td>\n",
       "      <td>4</td>\n",
       "      <td>6</td>\n",
       "      <td>6</td>\n",
       "      <td>18</td>\n",
       "      <td>19</td>\n",
       "      <td>19</td>\n",
       "    </tr>\n",
       "  </tbody>\n",
       "</table>\n",
       "</div>"
      ],
      "text/plain": [
       "                      C6-7 Orig S  C6-7 NR Exp S  C6-7 Full Exp S  \\\n",
       "Total                        1676           2370             3907   \n",
       "Stereo (any kind)            1187           1881             3416   \n",
       "Atom stereo                  1046           1555             3090   \n",
       "Bond stereo                   210            468              610   \n",
       "No InChI                       73            189              211   \n",
       "Res. bond stereo               56            155              169   \n",
       "Vin. bond stereo               17             34               42   \n",
       "Fleeting stereo              <NA>           <NA>             <NA>   \n",
       "Fleeting atom stereo         <NA>           <NA>             <NA>   \n",
       "Fleeting bond stereo         <NA>           <NA>             <NA>   \n",
       "\n",
       "                      Pyro Orig S  Pyro NR Exp S  Pyro Full Exp S  \\\n",
       "Total                         309            420              450   \n",
       "Stereo (any kind)             102            213              240   \n",
       "Atom stereo                    24             28               55   \n",
       "Bond stereo                    80            189              193   \n",
       "No InChI                       44            116              116   \n",
       "Res. bond stereo               28             82               82   \n",
       "Vin. bond stereo               16             34               34   \n",
       "Fleeting stereo              <NA>           <NA>             <NA>   \n",
       "Fleeting atom stereo         <NA>           <NA>             <NA>   \n",
       "Fleeting bond stereo         <NA>           <NA>             <NA>   \n",
       "\n",
       "                      C6-7 Orig R  C6-7 NR Exp R  C6-7 Full Exp R  \\\n",
       "Total                        3470           5661             8891   \n",
       "Stereo (any kind)            2407           4598             7828   \n",
       "Atom stereo                  1894           3228             6458   \n",
       "Bond stereo                   848           2269             3168   \n",
       "No InChI                      473           1353             1608   \n",
       "Res. bond stereo              426           1260             1491   \n",
       "Vin. bond stereo               47             93              117   \n",
       "Fleeting stereo               773           1392             1704   \n",
       "Fleeting atom stereo          769           1386             1698   \n",
       "Fleeting bond stereo            4              6                6   \n",
       "\n",
       "                      Pyro Orig R  Pyro NR Exp R  Pyro Full Exp R  \n",
       "Total                        1118           1589             1723  \n",
       "Stereo (any kind)             417            888             1022  \n",
       "Atom stereo                   106            137              271  \n",
       "Bond stereo                   331            797              840  \n",
       "No InChI                      263            659              686  \n",
       "Res. bond stereo              170            478              505  \n",
       "Vin. bond stereo               98            192              192  \n",
       "Fleeting stereo               327            559              578  \n",
       "Fleeting atom stereo          309            540              559  \n",
       "Fleeting bond stereo           18             19               19  "
      ]
     },
     "metadata": {},
     "output_type": "display_data"
    },
    {
     "data": {
      "text/html": [
       "<div>\n",
       "<style scoped>\n",
       "    .dataframe tbody tr th:only-of-type {\n",
       "        vertical-align: middle;\n",
       "    }\n",
       "\n",
       "    .dataframe tbody tr th {\n",
       "        vertical-align: top;\n",
       "    }\n",
       "\n",
       "    .dataframe thead th {\n",
       "        text-align: right;\n",
       "    }\n",
       "</style>\n",
       "<table border=\"1\" class=\"dataframe\">\n",
       "  <thead>\n",
       "    <tr style=\"text-align: right;\">\n",
       "      <th></th>\n",
       "      <th>C6-7 Orig S</th>\n",
       "      <th>C6-7 NR Exp S</th>\n",
       "      <th>C6-7 Full Exp S</th>\n",
       "      <th>Pyro Orig S</th>\n",
       "      <th>Pyro NR Exp S</th>\n",
       "      <th>Pyro Full Exp S</th>\n",
       "      <th>C6-7 Orig R</th>\n",
       "      <th>C6-7 NR Exp R</th>\n",
       "      <th>C6-7 Full Exp R</th>\n",
       "      <th>Pyro Orig R</th>\n",
       "      <th>Pyro NR Exp R</th>\n",
       "      <th>Pyro Full Exp R</th>\n",
       "    </tr>\n",
       "  </thead>\n",
       "  <tbody>\n",
       "    <tr>\n",
       "      <th>InChI</th>\n",
       "      <td>1114</td>\n",
       "      <td>1692</td>\n",
       "      <td>3205</td>\n",
       "      <td>58</td>\n",
       "      <td>97</td>\n",
       "      <td>124</td>\n",
       "      <td>1934</td>\n",
       "      <td>3245</td>\n",
       "      <td>6220</td>\n",
       "      <td>154</td>\n",
       "      <td>229</td>\n",
       "      <td>336</td>\n",
       "    </tr>\n",
       "    <tr>\n",
       "      <th>Atom stereo</th>\n",
       "      <td>977</td>\n",
       "      <td>1413</td>\n",
       "      <td>2806</td>\n",
       "      <td>22</td>\n",
       "      <td>24</td>\n",
       "      <td>47</td>\n",
       "      <td>1559</td>\n",
       "      <td>2329</td>\n",
       "      <td>4660</td>\n",
       "      <td>86</td>\n",
       "      <td>91</td>\n",
       "      <td>182</td>\n",
       "    </tr>\n",
       "    <tr>\n",
       "      <th>Bond stereo</th>\n",
       "      <td>137</td>\n",
       "      <td>279</td>\n",
       "      <td>399</td>\n",
       "      <td>36</td>\n",
       "      <td>73</td>\n",
       "      <td>77</td>\n",
       "      <td>375</td>\n",
       "      <td>916</td>\n",
       "      <td>1560</td>\n",
       "      <td>68</td>\n",
       "      <td>138</td>\n",
       "      <td>154</td>\n",
       "    </tr>\n",
       "    <tr>\n",
       "      <th>No InChI</th>\n",
       "      <td>73</td>\n",
       "      <td>189</td>\n",
       "      <td>211</td>\n",
       "      <td>44</td>\n",
       "      <td>116</td>\n",
       "      <td>116</td>\n",
       "      <td>473</td>\n",
       "      <td>1353</td>\n",
       "      <td>1608</td>\n",
       "      <td>263</td>\n",
       "      <td>659</td>\n",
       "      <td>686</td>\n",
       "    </tr>\n",
       "    <tr>\n",
       "      <th>Res. bond stereo</th>\n",
       "      <td>56</td>\n",
       "      <td>155</td>\n",
       "      <td>169</td>\n",
       "      <td>28</td>\n",
       "      <td>82</td>\n",
       "      <td>82</td>\n",
       "      <td>426</td>\n",
       "      <td>1260</td>\n",
       "      <td>1491</td>\n",
       "      <td>170</td>\n",
       "      <td>478</td>\n",
       "      <td>505</td>\n",
       "    </tr>\n",
       "    <tr>\n",
       "      <th>Vin. bond stereo</th>\n",
       "      <td>17</td>\n",
       "      <td>34</td>\n",
       "      <td>42</td>\n",
       "      <td>16</td>\n",
       "      <td>34</td>\n",
       "      <td>34</td>\n",
       "      <td>47</td>\n",
       "      <td>93</td>\n",
       "      <td>117</td>\n",
       "      <td>98</td>\n",
       "      <td>192</td>\n",
       "      <td>192</td>\n",
       "    </tr>\n",
       "    <tr>\n",
       "      <th>Fleeting atom stereo</th>\n",
       "      <td>&lt;NA&gt;</td>\n",
       "      <td>&lt;NA&gt;</td>\n",
       "      <td>&lt;NA&gt;</td>\n",
       "      <td>&lt;NA&gt;</td>\n",
       "      <td>&lt;NA&gt;</td>\n",
       "      <td>&lt;NA&gt;</td>\n",
       "      <td>769</td>\n",
       "      <td>1386</td>\n",
       "      <td>1698</td>\n",
       "      <td>309</td>\n",
       "      <td>540</td>\n",
       "      <td>559</td>\n",
       "    </tr>\n",
       "    <tr>\n",
       "      <th>Fleeting bond stereo</th>\n",
       "      <td>&lt;NA&gt;</td>\n",
       "      <td>&lt;NA&gt;</td>\n",
       "      <td>&lt;NA&gt;</td>\n",
       "      <td>&lt;NA&gt;</td>\n",
       "      <td>&lt;NA&gt;</td>\n",
       "      <td>&lt;NA&gt;</td>\n",
       "      <td>4</td>\n",
       "      <td>6</td>\n",
       "      <td>6</td>\n",
       "      <td>18</td>\n",
       "      <td>19</td>\n",
       "      <td>19</td>\n",
       "    </tr>\n",
       "  </tbody>\n",
       "</table>\n",
       "</div>"
      ],
      "text/plain": [
       "                      C6-7 Orig S  C6-7 NR Exp S  C6-7 Full Exp S  \\\n",
       "InChI                        1114           1692             3205   \n",
       "Atom stereo                   977           1413             2806   \n",
       "Bond stereo                   137            279              399   \n",
       "No InChI                       73            189              211   \n",
       "Res. bond stereo               56            155              169   \n",
       "Vin. bond stereo               17             34               42   \n",
       "Fleeting atom stereo         <NA>           <NA>             <NA>   \n",
       "Fleeting bond stereo         <NA>           <NA>             <NA>   \n",
       "\n",
       "                      Pyro Orig S  Pyro NR Exp S  Pyro Full Exp S  \\\n",
       "InChI                          58             97              124   \n",
       "Atom stereo                    22             24               47   \n",
       "Bond stereo                    36             73               77   \n",
       "No InChI                       44            116              116   \n",
       "Res. bond stereo               28             82               82   \n",
       "Vin. bond stereo               16             34               34   \n",
       "Fleeting atom stereo         <NA>           <NA>             <NA>   \n",
       "Fleeting bond stereo         <NA>           <NA>             <NA>   \n",
       "\n",
       "                      C6-7 Orig R  C6-7 NR Exp R  C6-7 Full Exp R  \\\n",
       "InChI                        1934           3245             6220   \n",
       "Atom stereo                  1559           2329             4660   \n",
       "Bond stereo                   375            916             1560   \n",
       "No InChI                      473           1353             1608   \n",
       "Res. bond stereo              426           1260             1491   \n",
       "Vin. bond stereo               47             93              117   \n",
       "Fleeting atom stereo          769           1386             1698   \n",
       "Fleeting bond stereo            4              6                6   \n",
       "\n",
       "                      Pyro Orig R  Pyro NR Exp R  Pyro Full Exp R  \n",
       "InChI                         154            229              336  \n",
       "Atom stereo                    86             91              182  \n",
       "Bond stereo                    68            138              154  \n",
       "No InChI                      263            659              686  \n",
       "Res. bond stereo              170            478              505  \n",
       "Vin. bond stereo               98            192              192  \n",
       "Fleeting atom stereo          309            540              559  \n",
       "Fleeting bond stereo           18             19               19  "
      ]
     },
     "metadata": {},
     "output_type": "display_data"
    }
   ],
   "source": [
    "# 5. write aggregate/disaggregate stats to CSV files\n",
    "AGG_STATS_PATH = 'data/stats/07_agg.csv'\n",
    "AGG_STATS_DF = pandas.concat([SPC_AGG_STATS_DF.add_suffix(' S'), RXN_AGG_STATS_DF.add_suffix(' R')], axis=1)\n",
    "AGG_STATS_DF.to_csv(AGG_STATS_PATH)\n",
    "display(AGG_STATS_DF)\n",
    "\n",
    "DISAGG_STATS_PATH = 'data/stats/07_disagg.csv'\n",
    "DISAGG_STATS_DF = pandas.concat([SPC_DISAGG_STATS_DF.add_suffix(' S'), RXN_DISAGG_STATS_DF.add_suffix(' R')], axis=1)\n",
    "DISAGG_STATS_DF.to_csv(DISAGG_STATS_PATH)\n",
    "display(DISAGG_STATS_DF)"
   ]
  },
  {
   "cell_type": "code",
   "execution_count": null,
   "id": "164aaa85-1c36-4cf5-bfd5-6693fad693c6",
   "metadata": {},
   "outputs": [],
   "source": []
  }
 ],
 "metadata": {
  "kernelspec": {
   "display_name": "Python 3 (ipykernel)",
   "language": "python",
   "name": "python3"
  },
  "language_info": {
   "codemirror_mode": {
    "name": "ipython",
    "version": 3
   },
   "file_extension": ".py",
   "mimetype": "text/x-python",
   "name": "python",
   "nbconvert_exporter": "python",
   "pygments_lexer": "ipython3",
   "version": "3.12.1"
  }
 },
 "nbformat": 4,
 "nbformat_minor": 5
}
