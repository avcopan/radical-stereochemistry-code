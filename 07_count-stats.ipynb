{
 "cells": [
  {
   "cell_type": "code",
   "execution_count": 1,
   "id": "c9cd49d3",
   "metadata": {},
   "outputs": [],
   "source": [
    "import pandas\n",
    "from IPython.display import display\n",
    "from tqdm.notebook import tqdm\n",
    "\n",
    "import automol\n",
    "import chemkin_io\n",
    "import helpers\n",
    "import ioformat\n",
    "\n",
    "tqdm.pandas()"
   ]
  },
  {
   "cell_type": "code",
   "execution_count": 2,
   "id": "fd5389ac",
   "metadata": {},
   "outputs": [],
   "source": [
    "# 1a. read in the species lists\n",
    "ORIG_C67_SPC_PATH = 'mechanisms/05_orig_nuig-c6-7.csv'\n",
    "ORIG_PYR_SPC_PATH = 'mechanisms/05_orig_nuig-pyro.csv'\n",
    "FUEX_C67_SPC_PATH = 'mechanisms/05_fu-exp_nuig-c6-7.csv'\n",
    "FUEX_PYR_SPC_PATH = 'mechanisms/05_fu-exp_nuig-pyro.csv'\n",
    "NREX_C67_SPC_PATH = 'mechanisms/06_nr-exp_nuig-c6-7.csv'\n",
    "NREX_PYR_SPC_PATH = 'mechanisms/06_nr-exp_nuig-pyro.csv'\n",
    "\n",
    "ORIG_C67_SPC_DF = pandas.read_csv(ORIG_C67_SPC_PATH, quotechar=\"'\")\n",
    "ORIG_PYR_SPC_DF = pandas.read_csv(ORIG_PYR_SPC_PATH, quotechar=\"'\")\n",
    "FUEX_C67_SPC_DF = pandas.read_csv(FUEX_C67_SPC_PATH, quotechar=\"'\")\n",
    "FUEX_PYR_SPC_DF = pandas.read_csv(FUEX_PYR_SPC_PATH, quotechar=\"'\")\n",
    "NREX_C67_SPC_DF = pandas.read_csv(NREX_C67_SPC_PATH, quotechar=\"'\")\n",
    "NREX_PYR_SPC_DF = pandas.read_csv(NREX_PYR_SPC_PATH, quotechar=\"'\")\n",
    "\n",
    "ORIG_C67_SPC_DF['orig-name'] = ORIG_C67_SPC_DF['name']\n",
    "ORIG_PYR_SPC_DF['orig-name'] = ORIG_PYR_SPC_DF['name']"
   ]
  },
  {
   "cell_type": "code",
   "execution_count": 3,
   "id": "1b66fd0c",
   "metadata": {},
   "outputs": [],
   "source": [
    "# 1b. read in the mechanism reaction lists\n",
    "ORIG_C67_RXN_PATH = 'mechanisms/05_orig_nuig-c6-7.txt'\n",
    "ORIG_PYR_RXN_PATH = 'mechanisms/05_orig_nuig-pyro.txt'\n",
    "C67_RXN_PATH = 'mechanisms/05_fu-exp_nuig-c6-7.txt'\n",
    "PYR_RXN_PATH = 'mechanisms/05_fu-exp_nuig-pyro.txt'\n",
    "NREX_C67_RXN_PATH = 'mechanisms/06_nr-exp_nuig-c6-7.txt'\n",
    "NREX_PYR_RXN_PATH = 'mechanisms/06_nr-exp_nuig-pyro.txt'\n",
    "\n",
    "ORIG_C67_MECH_STR = ioformat.pathtools.read_file('.', ORIG_C67_RXN_PATH)\n",
    "ORIG_PYR_MECH_STR = ioformat.pathtools.read_file('.', ORIG_PYR_RXN_PATH)\n",
    "FUEX_C67_MECH_STR = ioformat.pathtools.read_file('.', C67_RXN_PATH)\n",
    "FUEX_PYR_MECH_STR = ioformat.pathtools.read_file('.', PYR_RXN_PATH)\n",
    "NREX_C67_MECH_STR = ioformat.pathtools.read_file('.', NREX_C67_RXN_PATH)\n",
    "NREX_PYR_MECH_STR = ioformat.pathtools.read_file('.', NREX_PYR_RXN_PATH)\n",
    "\n",
    "ORIG_C67_RXN_DCT = chemkin_io.parser.mechanism.reactions(ORIG_C67_MECH_STR)\n",
    "ORIG_PYR_RXN_DCT = chemkin_io.parser.mechanism.reactions(ORIG_PYR_MECH_STR)\n",
    "FUEX_C67_RXN_DCT = chemkin_io.parser.mechanism.reactions(FUEX_C67_MECH_STR)\n",
    "FUEX_PYR_RXN_DCT = chemkin_io.parser.mechanism.reactions(FUEX_PYR_MECH_STR)\n",
    "NREX_C67_RXN_DCT = chemkin_io.parser.mechanism.reactions(NREX_C67_MECH_STR)\n",
    "NREX_PYR_RXN_DCT = chemkin_io.parser.mechanism.reactions(NREX_PYR_MECH_STR)"
   ]
  },
  {
   "cell_type": "code",
   "execution_count": 4,
   "id": "88a5c208-1d15-4370-bd41-ace662803b73",
   "metadata": {},
   "outputs": [],
   "source": [
    "# 1c. read in full reaction lists with reaction objects (for identifying fleeting stereo)\n",
    "C67_RXN_PATH = 'reactions/04_reactions-fu-exp_nuig-c6-7.csv'\n",
    "PYR_RXN_PATH = 'reactions/04_reactions-fu-exp_nuig-pyro.csv'\n",
    "\n",
    "C67_RXN_DF = pandas.read_csv(C67_RXN_PATH, quotechar=\"'\")\n",
    "PYR_RXN_DF = pandas.read_csv(PYR_RXN_PATH, quotechar=\"'\")"
   ]
  },
  {
   "cell_type": "code",
   "execution_count": 5,
   "id": "ad0dde0a",
   "metadata": {},
   "outputs": [],
   "source": [
    "# 2a. function: add stats to fully expanded species DataFrame\n",
    "def species_stats_columns(spc_df):\n",
    "    spc_df['graph'] = spc_df['inchi'].progress_apply(automol.chi.graph)\n",
    "    spc_df['pure_inchi'] = spc_df['graph'].progress_apply(automol.graph.inchi)\n",
    "    spc_df['any_stereo'] = spc_df['graph'].progress_apply(automol.graph.has_stereo)\n",
    "    spc_df['atom_stereo'] = spc_df['graph'].progress_apply(automol.graph.has_atom_stereo)\n",
    "    spc_df['bond_stereo'] = spc_df['graph'].progress_apply(automol.graph.has_bond_stereo)\n",
    "    spc_df['res_bond_stereo'] = spc_df['graph'].progress_apply(automol.graph.has_resonance_bond_stereo)\n",
    "    spc_df['vin_bond_stereo'] = spc_df['graph'].progress_apply(automol.graph.has_vinyl_bond_stereo)\n",
    "    spc_df['non_inchi_stereo'] = spc_df['graph'].progress_apply(automol.graph.has_noninchi_stereo)\n",
    "    return spc_df"
   ]
  },
  {
   "cell_type": "code",
   "execution_count": 6,
   "id": "9a45efad",
   "metadata": {
    "scrolled": true
   },
   "outputs": [],
   "source": [
    "# 2b. function: identify reactions with fleeting stereo from the fully-expanded list\n",
    "def fleeting_stereo_stats_columns(rxn_df):\n",
    "    def _has_fleeting_stereo(df_):\n",
    "        row = df_.iloc[0]\n",
    "        rxn_obj_str = ioformat.pathtools.read_file(\".\", row[\"path\"])\n",
    "        rxn_obj = automol.reac.from_string(rxn_obj_str)\n",
    "        ts_gra = automol.reac.ts_graph(rxn_obj)\n",
    "        atm_ste, bnd_ste = automol.graph.has_fleeting_atom_or_bond_stereo(ts_gra)\n",
    "        row[\"fleeting_atom_stereo\"] = atm_ste\n",
    "        row[\"fleeting_bond_stereo\"] = bnd_ste\n",
    "        return row\n",
    "\n",
    "    cols = [\n",
    "        \"name\",\n",
    "        \"ts_amchi\",\n",
    "        \"orig-name\",\n",
    "        \"fleeting_atom_stereo\",\n",
    "        \"fleeting_bond_stereo\",\n",
    "    ]\n",
    "    fle_df = rxn_df.groupby([\"name\", \"ts_amchi\"]).progress_apply(_has_fleeting_stereo)[\n",
    "        cols\n",
    "    ]\n",
    "    fle_df.reset_index(drop=True, inplace=True)\n",
    "    return fle_df"
   ]
  },
  {
   "cell_type": "code",
   "execution_count": 7,
   "id": "18e7327a",
   "metadata": {
    "scrolled": true
   },
   "outputs": [],
   "source": [
    "# 2c. function: form DataFrames with reaction stats\n",
    "def reaction_stats_columns(rxn_dct, spc_df):\n",
    "    def original_reaction_name(rxn_key):\n",
    "        rct_names, prd_names, third_body = rxn_key\n",
    "        rct_names0 = helpers.lookup_value_series(\n",
    "            spc_df, \"orig-name\", [{\"name\": n} for n in rct_names]\n",
    "        )\n",
    "        prd_names0 = helpers.lookup_value_series(\n",
    "            spc_df, \"orig-name\", [{\"name\": n} for n in prd_names]\n",
    "        )\n",
    "        rxn_name0 = chemkin_io.writer.format_rxn_name(\n",
    "            (rct_names0, prd_names0, third_body)\n",
    "        )\n",
    "        return rxn_name0\n",
    "\n",
    "    def any_reagent_(col):\n",
    "        def any_reagent(names):\n",
    "            return any(\n",
    "                helpers.lookup_value_series(spc_df, col, [{\"name\": n} for n in names])\n",
    "            )\n",
    "\n",
    "        return any_reagent\n",
    "\n",
    "    rxn_df = pandas.DataFrame.from_dict(\n",
    "        {\n",
    "            \"name\": list(map(chemkin_io.writer.format_rxn_name, rxn_dct.keys())),\n",
    "            \"orig-name\": list(map(original_reaction_name, rxn_dct.keys())),\n",
    "            \"reagent-names\": [r + p for r, p, _ in rxn_dct.keys()],\n",
    "        }\n",
    "    )\n",
    "\n",
    "    rcol = rxn_df[\"reagent-names\"]\n",
    "    rxn_df[\"any_stereo\"] = rcol.progress_apply(any_reagent_(\"any_stereo\"))\n",
    "    rxn_df[\"atom_stereo\"] = rcol.progress_apply(any_reagent_(\"atom_stereo\"))\n",
    "    rxn_df[\"bond_stereo\"] = rcol.progress_apply(any_reagent_(\"bond_stereo\"))\n",
    "    rxn_df[\"non_inchi_stereo\"] = rcol.progress_apply(any_reagent_(\"non_inchi_stereo\"))\n",
    "    rxn_df[\"res_bond_stereo\"] = rcol.progress_apply(any_reagent_(\"res_bond_stereo\"))\n",
    "    rxn_df[\"vin_bond_stereo\"] = rcol.progress_apply(any_reagent_(\"vin_bond_stereo\"))\n",
    "    return rxn_df"
   ]
  },
  {
   "cell_type": "code",
   "execution_count": 8,
   "id": "dcc35932",
   "metadata": {},
   "outputs": [],
   "source": [
    "# 2d. function: calculate aggregate stats for each category\n",
    "def aggregate_stats(df):\n",
    "    has_fle = 'fleeting_atom_stereo' in df and 'fleeting_bond_stereo' in df\n",
    "    fle = df['fleeting_atom_stereo'] | df['fleeting_bond_stereo'] if has_fle else None\n",
    "    stats = pandas.Series({\n",
    "        \"Total\": df.shape[0],\n",
    "        \"Stereo (any kind)\": df['any_stereo'].sum(),\n",
    "        \"Atom stereo\": df['atom_stereo'].sum(),\n",
    "        \"Bond stereo\": df['bond_stereo'].sum(),\n",
    "        \"No InChI\": df['non_inchi_stereo'].sum(),\n",
    "        \"Res. bond stereo\": df['res_bond_stereo'].sum(),\n",
    "        \"Vin. bond stereo\": df['vin_bond_stereo'].sum(),\n",
    "        \"Fleeting stereo\": fle.sum() if has_fle else pandas.NA,\n",
    "        \"Fleeting atom stereo\": df['fleeting_atom_stereo'].sum() if has_fle else pandas.NA,\n",
    "        \"Fleeting bond stereo\": df['fleeting_bond_stereo'].sum() if has_fle else pandas.NA,\n",
    "    }, dtype='UInt64')\n",
    "    return stats"
   ]
  },
  {
   "cell_type": "code",
   "execution_count": 9,
   "id": "b7bedb86",
   "metadata": {},
   "outputs": [],
   "source": [
    "# 2e. function: calculate disaggregate stats for each category\n",
    "def disaggregate_stats(df):\n",
    "    any_stereo = df['any_stereo']\n",
    "    atom_stereo = df['atom_stereo']\n",
    "    bond_stereo = df['bond_stereo']\n",
    "    res_bond_stereo = df['res_bond_stereo']\n",
    "    vin_bond_stereo = df['vin_bond_stereo']\n",
    "    non_inchi_stereo = df['non_inchi_stereo']\n",
    "\n",
    "    has_fle = 'fleeting_atom_stereo' in df and 'fleeting_bond_stereo' in df\n",
    "    fle_atom_stereo = df['fleeting_atom_stereo'] if has_fle else pandas.NA\n",
    "    fle_bond_stereo = df['fleeting_bond_stereo'] if has_fle else pandas.NA\n",
    "\n",
    "    inchi_stereo = any_stereo & ~non_inchi_stereo\n",
    "    inchi_atom_stereo = atom_stereo & ~non_inchi_stereo & ~bond_stereo\n",
    "    inchi_bond_stereo = bond_stereo & ~non_inchi_stereo & ~res_bond_stereo\n",
    "    if has_fle:\n",
    "        fle_atom_stereo &= ~fle_bond_stereo\n",
    "\n",
    "    stats = pandas.Series({\n",
    "        \"InChI\": inchi_stereo.sum(),\n",
    "        \"Atom stereo\": inchi_atom_stereo.sum(),\n",
    "        \"Bond stereo\": inchi_bond_stereo.sum(),\n",
    "        \"No InChI\": non_inchi_stereo.sum(),\n",
    "        \"Res. bond stereo\": res_bond_stereo.sum(),\n",
    "        \"Vin. bond stereo\": vin_bond_stereo.sum(),\n",
    "        \"Fleeting atom stereo\": fle_atom_stereo.sum() if has_fle else pandas.NA,\n",
    "        \"Fleeting bond stereo\": fle_bond_stereo.sum() if has_fle else pandas.NA,\n",
    "    }, dtype='UInt64')\n",
    "    return stats"
   ]
  },
  {
   "cell_type": "code",
   "execution_count": 10,
   "id": "82bff139-8a84-44d3-8004-58b0d64eb70f",
   "metadata": {},
   "outputs": [
    {
     "data": {
      "application/vnd.jupyter.widget-view+json": {
       "model_id": "f137e3fbdf194d7a83694289e460f51e",
       "version_major": 2,
       "version_minor": 0
      },
      "text/plain": [
       "  0%|          | 0/3907 [00:00<?, ?it/s]"
      ]
     },
     "metadata": {},
     "output_type": "display_data"
    },
    {
     "data": {
      "application/vnd.jupyter.widget-view+json": {
       "model_id": "6497fb5a6f6848ee9c607b07b88db25a",
       "version_major": 2,
       "version_minor": 0
      },
      "text/plain": [
       "  0%|          | 0/3907 [00:00<?, ?it/s]"
      ]
     },
     "metadata": {},
     "output_type": "display_data"
    },
    {
     "data": {
      "application/vnd.jupyter.widget-view+json": {
       "model_id": "504b85d54e2e4cf3ad34c5801ad9307c",
       "version_major": 2,
       "version_minor": 0
      },
      "text/plain": [
       "  0%|          | 0/3907 [00:00<?, ?it/s]"
      ]
     },
     "metadata": {},
     "output_type": "display_data"
    },
    {
     "data": {
      "application/vnd.jupyter.widget-view+json": {
       "model_id": "c2b13123e5d34006b205535c9f662e09",
       "version_major": 2,
       "version_minor": 0
      },
      "text/plain": [
       "  0%|          | 0/3907 [00:00<?, ?it/s]"
      ]
     },
     "metadata": {},
     "output_type": "display_data"
    },
    {
     "data": {
      "application/vnd.jupyter.widget-view+json": {
       "model_id": "c2eb5128e16c4408977d54c3c6429ffd",
       "version_major": 2,
       "version_minor": 0
      },
      "text/plain": [
       "  0%|          | 0/3907 [00:00<?, ?it/s]"
      ]
     },
     "metadata": {},
     "output_type": "display_data"
    },
    {
     "data": {
      "application/vnd.jupyter.widget-view+json": {
       "model_id": "eb76ee15ccef4736b9bf3edc10c03885",
       "version_major": 2,
       "version_minor": 0
      },
      "text/plain": [
       "  0%|          | 0/3907 [00:00<?, ?it/s]"
      ]
     },
     "metadata": {},
     "output_type": "display_data"
    },
    {
     "data": {
      "application/vnd.jupyter.widget-view+json": {
       "model_id": "045b635723ff488a8839204bd8c0a1f5",
       "version_major": 2,
       "version_minor": 0
      },
      "text/plain": [
       "  0%|          | 0/3907 [00:00<?, ?it/s]"
      ]
     },
     "metadata": {},
     "output_type": "display_data"
    },
    {
     "data": {
      "application/vnd.jupyter.widget-view+json": {
       "model_id": "8d2cc37174484b06bf3ebea7aeee66f0",
       "version_major": 2,
       "version_minor": 0
      },
      "text/plain": [
       "  0%|          | 0/3907 [00:00<?, ?it/s]"
      ]
     },
     "metadata": {},
     "output_type": "display_data"
    },
    {
     "data": {
      "application/vnd.jupyter.widget-view+json": {
       "model_id": "995795c129954585af665cecb667c811",
       "version_major": 2,
       "version_minor": 0
      },
      "text/plain": [
       "  0%|          | 0/450 [00:00<?, ?it/s]"
      ]
     },
     "metadata": {},
     "output_type": "display_data"
    },
    {
     "data": {
      "application/vnd.jupyter.widget-view+json": {
       "model_id": "107e83ca652549f5bcb1ea8855c79778",
       "version_major": 2,
       "version_minor": 0
      },
      "text/plain": [
       "  0%|          | 0/450 [00:00<?, ?it/s]"
      ]
     },
     "metadata": {},
     "output_type": "display_data"
    },
    {
     "data": {
      "application/vnd.jupyter.widget-view+json": {
       "model_id": "f5dd5b94d4574d7b81f257e77ec5cde0",
       "version_major": 2,
       "version_minor": 0
      },
      "text/plain": [
       "  0%|          | 0/450 [00:00<?, ?it/s]"
      ]
     },
     "metadata": {},
     "output_type": "display_data"
    },
    {
     "data": {
      "application/vnd.jupyter.widget-view+json": {
       "model_id": "88d2e1b81a6340a1b9d5565dfa4976e7",
       "version_major": 2,
       "version_minor": 0
      },
      "text/plain": [
       "  0%|          | 0/450 [00:00<?, ?it/s]"
      ]
     },
     "metadata": {},
     "output_type": "display_data"
    },
    {
     "data": {
      "application/vnd.jupyter.widget-view+json": {
       "model_id": "13fbfadf901741bd9b2cbb49b9afc2f7",
       "version_major": 2,
       "version_minor": 0
      },
      "text/plain": [
       "  0%|          | 0/450 [00:00<?, ?it/s]"
      ]
     },
     "metadata": {},
     "output_type": "display_data"
    },
    {
     "data": {
      "application/vnd.jupyter.widget-view+json": {
       "model_id": "cb12ae1ad2ad43a1a77a7c43d76b887b",
       "version_major": 2,
       "version_minor": 0
      },
      "text/plain": [
       "  0%|          | 0/450 [00:00<?, ?it/s]"
      ]
     },
     "metadata": {},
     "output_type": "display_data"
    },
    {
     "data": {
      "application/vnd.jupyter.widget-view+json": {
       "model_id": "0ff4a7eaaa0d4a57bcc8cf7dd45ab4c1",
       "version_major": 2,
       "version_minor": 0
      },
      "text/plain": [
       "  0%|          | 0/450 [00:00<?, ?it/s]"
      ]
     },
     "metadata": {},
     "output_type": "display_data"
    },
    {
     "data": {
      "application/vnd.jupyter.widget-view+json": {
       "model_id": "322197503bbf44f6aaae30d9ef9eb1fc",
       "version_major": 2,
       "version_minor": 0
      },
      "text/plain": [
       "  0%|          | 0/450 [00:00<?, ?it/s]"
      ]
     },
     "metadata": {},
     "output_type": "display_data"
    }
   ],
   "source": [
    "# 3a. (long-running) calculate species stats for the fully expanded DataFrame\n",
    "FUEX_C67_SPC_DF = species_stats_columns(FUEX_C67_SPC_DF)\n",
    "FUEX_PYR_SPC_DF = species_stats_columns(FUEX_PYR_SPC_DF)"
   ]
  },
  {
   "cell_type": "code",
   "execution_count": 11,
   "id": "30b1ce5f-12ec-4b00-8cc2-2080dcd3b3eb",
   "metadata": {},
   "outputs": [],
   "source": [
    "# 3b. add calculated stats to the original and NR DataFrames\n",
    "FUEX_C67_SPC_DF[\"stereo-name\"] = FUEX_C67_SPC_DF[\"name\"]\n",
    "FUEX_PYR_SPC_DF[\"stereo-name\"] = FUEX_PYR_SPC_DF[\"name\"]\n",
    "\n",
    "ORIG_C67_SPC_DF = helpers.with_columns_from_other(\n",
    "    ORIG_C67_SPC_DF, FUEX_C67_SPC_DF, [\"orig-name\"]\n",
    ")\n",
    "NREX_C67_SPC_DF = helpers.with_columns_from_other(\n",
    "    NREX_C67_SPC_DF, FUEX_C67_SPC_DF, [\"stereo-name\"]\n",
    ")\n",
    "ORIG_PYR_SPC_DF = helpers.with_columns_from_other(\n",
    "    ORIG_PYR_SPC_DF, FUEX_PYR_SPC_DF, [\"orig-name\"]\n",
    ")\n",
    "NREX_PYR_SPC_DF = helpers.with_columns_from_other(\n",
    "    NREX_PYR_SPC_DF, FUEX_PYR_SPC_DF, [\"stereo-name\"]\n",
    ")"
   ]
  },
  {
   "cell_type": "code",
   "execution_count": 12,
   "id": "df65ab61",
   "metadata": {},
   "outputs": [
    {
     "name": "stdout",
     "output_type": "stream",
     "text": [
      "Species Aggregate Stats:\n"
     ]
    },
    {
     "data": {
      "text/html": [
       "<div>\n",
       "<style scoped>\n",
       "    .dataframe tbody tr th:only-of-type {\n",
       "        vertical-align: middle;\n",
       "    }\n",
       "\n",
       "    .dataframe tbody tr th {\n",
       "        vertical-align: top;\n",
       "    }\n",
       "\n",
       "    .dataframe thead th {\n",
       "        text-align: right;\n",
       "    }\n",
       "</style>\n",
       "<table border=\"1\" class=\"dataframe\">\n",
       "  <thead>\n",
       "    <tr style=\"text-align: right;\">\n",
       "      <th></th>\n",
       "      <th>C6-7 Orig</th>\n",
       "      <th>C6-7 NR Exp</th>\n",
       "      <th>C6-7 Full Exp</th>\n",
       "      <th>Pyro Orig</th>\n",
       "      <th>Pyro NR Exp</th>\n",
       "      <th>Pyro Full Exp</th>\n",
       "    </tr>\n",
       "  </thead>\n",
       "  <tbody>\n",
       "    <tr>\n",
       "      <th>Total</th>\n",
       "      <td>1676</td>\n",
       "      <td>2370</td>\n",
       "      <td>3907</td>\n",
       "      <td>309</td>\n",
       "      <td>420</td>\n",
       "      <td>450</td>\n",
       "    </tr>\n",
       "    <tr>\n",
       "      <th>Stereo (any kind)</th>\n",
       "      <td>1187</td>\n",
       "      <td>1881</td>\n",
       "      <td>3416</td>\n",
       "      <td>102</td>\n",
       "      <td>213</td>\n",
       "      <td>240</td>\n",
       "    </tr>\n",
       "    <tr>\n",
       "      <th>Atom stereo</th>\n",
       "      <td>1046</td>\n",
       "      <td>1555</td>\n",
       "      <td>3090</td>\n",
       "      <td>24</td>\n",
       "      <td>28</td>\n",
       "      <td>55</td>\n",
       "    </tr>\n",
       "    <tr>\n",
       "      <th>Bond stereo</th>\n",
       "      <td>210</td>\n",
       "      <td>468</td>\n",
       "      <td>610</td>\n",
       "      <td>80</td>\n",
       "      <td>189</td>\n",
       "      <td>193</td>\n",
       "    </tr>\n",
       "    <tr>\n",
       "      <th>No InChI</th>\n",
       "      <td>73</td>\n",
       "      <td>189</td>\n",
       "      <td>211</td>\n",
       "      <td>44</td>\n",
       "      <td>116</td>\n",
       "      <td>116</td>\n",
       "    </tr>\n",
       "    <tr>\n",
       "      <th>Res. bond stereo</th>\n",
       "      <td>56</td>\n",
       "      <td>155</td>\n",
       "      <td>169</td>\n",
       "      <td>28</td>\n",
       "      <td>82</td>\n",
       "      <td>82</td>\n",
       "    </tr>\n",
       "    <tr>\n",
       "      <th>Vin. bond stereo</th>\n",
       "      <td>17</td>\n",
       "      <td>34</td>\n",
       "      <td>42</td>\n",
       "      <td>16</td>\n",
       "      <td>34</td>\n",
       "      <td>34</td>\n",
       "    </tr>\n",
       "    <tr>\n",
       "      <th>Fleeting stereo</th>\n",
       "      <td>&lt;NA&gt;</td>\n",
       "      <td>&lt;NA&gt;</td>\n",
       "      <td>&lt;NA&gt;</td>\n",
       "      <td>&lt;NA&gt;</td>\n",
       "      <td>&lt;NA&gt;</td>\n",
       "      <td>&lt;NA&gt;</td>\n",
       "    </tr>\n",
       "    <tr>\n",
       "      <th>Fleeting atom stereo</th>\n",
       "      <td>&lt;NA&gt;</td>\n",
       "      <td>&lt;NA&gt;</td>\n",
       "      <td>&lt;NA&gt;</td>\n",
       "      <td>&lt;NA&gt;</td>\n",
       "      <td>&lt;NA&gt;</td>\n",
       "      <td>&lt;NA&gt;</td>\n",
       "    </tr>\n",
       "    <tr>\n",
       "      <th>Fleeting bond stereo</th>\n",
       "      <td>&lt;NA&gt;</td>\n",
       "      <td>&lt;NA&gt;</td>\n",
       "      <td>&lt;NA&gt;</td>\n",
       "      <td>&lt;NA&gt;</td>\n",
       "      <td>&lt;NA&gt;</td>\n",
       "      <td>&lt;NA&gt;</td>\n",
       "    </tr>\n",
       "  </tbody>\n",
       "</table>\n",
       "</div>"
      ],
      "text/plain": [
       "                      C6-7 Orig  C6-7 NR Exp  C6-7 Full Exp  Pyro Orig  \\\n",
       "Total                      1676         2370           3907        309   \n",
       "Stereo (any kind)          1187         1881           3416        102   \n",
       "Atom stereo                1046         1555           3090         24   \n",
       "Bond stereo                 210          468            610         80   \n",
       "No InChI                     73          189            211         44   \n",
       "Res. bond stereo             56          155            169         28   \n",
       "Vin. bond stereo             17           34             42         16   \n",
       "Fleeting stereo            <NA>         <NA>           <NA>       <NA>   \n",
       "Fleeting atom stereo       <NA>         <NA>           <NA>       <NA>   \n",
       "Fleeting bond stereo       <NA>         <NA>           <NA>       <NA>   \n",
       "\n",
       "                      Pyro NR Exp  Pyro Full Exp  \n",
       "Total                         420            450  \n",
       "Stereo (any kind)             213            240  \n",
       "Atom stereo                    28             55  \n",
       "Bond stereo                   189            193  \n",
       "No InChI                      116            116  \n",
       "Res. bond stereo               82             82  \n",
       "Vin. bond stereo               34             34  \n",
       "Fleeting stereo              <NA>           <NA>  \n",
       "Fleeting atom stereo         <NA>           <NA>  \n",
       "Fleeting bond stereo         <NA>           <NA>  "
      ]
     },
     "metadata": {},
     "output_type": "display_data"
    },
    {
     "name": "stdout",
     "output_type": "stream",
     "text": [
      "Species Disaggregate Stats:\n"
     ]
    },
    {
     "data": {
      "text/html": [
       "<div>\n",
       "<style scoped>\n",
       "    .dataframe tbody tr th:only-of-type {\n",
       "        vertical-align: middle;\n",
       "    }\n",
       "\n",
       "    .dataframe tbody tr th {\n",
       "        vertical-align: top;\n",
       "    }\n",
       "\n",
       "    .dataframe thead th {\n",
       "        text-align: right;\n",
       "    }\n",
       "</style>\n",
       "<table border=\"1\" class=\"dataframe\">\n",
       "  <thead>\n",
       "    <tr style=\"text-align: right;\">\n",
       "      <th></th>\n",
       "      <th>C6-7 Orig</th>\n",
       "      <th>C6-7 NR Exp</th>\n",
       "      <th>C6-7 Full Exp</th>\n",
       "      <th>Pyro Orig</th>\n",
       "      <th>Pyro NR Exp</th>\n",
       "      <th>Pyro Full Exp</th>\n",
       "    </tr>\n",
       "  </thead>\n",
       "  <tbody>\n",
       "    <tr>\n",
       "      <th>InChI</th>\n",
       "      <td>1114</td>\n",
       "      <td>1692</td>\n",
       "      <td>3205</td>\n",
       "      <td>58</td>\n",
       "      <td>97</td>\n",
       "      <td>124</td>\n",
       "    </tr>\n",
       "    <tr>\n",
       "      <th>Atom stereo</th>\n",
       "      <td>977</td>\n",
       "      <td>1413</td>\n",
       "      <td>2806</td>\n",
       "      <td>22</td>\n",
       "      <td>24</td>\n",
       "      <td>47</td>\n",
       "    </tr>\n",
       "    <tr>\n",
       "      <th>Bond stereo</th>\n",
       "      <td>137</td>\n",
       "      <td>279</td>\n",
       "      <td>399</td>\n",
       "      <td>36</td>\n",
       "      <td>73</td>\n",
       "      <td>77</td>\n",
       "    </tr>\n",
       "    <tr>\n",
       "      <th>No InChI</th>\n",
       "      <td>73</td>\n",
       "      <td>189</td>\n",
       "      <td>211</td>\n",
       "      <td>44</td>\n",
       "      <td>116</td>\n",
       "      <td>116</td>\n",
       "    </tr>\n",
       "    <tr>\n",
       "      <th>Res. bond stereo</th>\n",
       "      <td>56</td>\n",
       "      <td>155</td>\n",
       "      <td>169</td>\n",
       "      <td>28</td>\n",
       "      <td>82</td>\n",
       "      <td>82</td>\n",
       "    </tr>\n",
       "    <tr>\n",
       "      <th>Vin. bond stereo</th>\n",
       "      <td>17</td>\n",
       "      <td>34</td>\n",
       "      <td>42</td>\n",
       "      <td>16</td>\n",
       "      <td>34</td>\n",
       "      <td>34</td>\n",
       "    </tr>\n",
       "    <tr>\n",
       "      <th>Fleeting atom stereo</th>\n",
       "      <td>&lt;NA&gt;</td>\n",
       "      <td>&lt;NA&gt;</td>\n",
       "      <td>&lt;NA&gt;</td>\n",
       "      <td>&lt;NA&gt;</td>\n",
       "      <td>&lt;NA&gt;</td>\n",
       "      <td>&lt;NA&gt;</td>\n",
       "    </tr>\n",
       "    <tr>\n",
       "      <th>Fleeting bond stereo</th>\n",
       "      <td>&lt;NA&gt;</td>\n",
       "      <td>&lt;NA&gt;</td>\n",
       "      <td>&lt;NA&gt;</td>\n",
       "      <td>&lt;NA&gt;</td>\n",
       "      <td>&lt;NA&gt;</td>\n",
       "      <td>&lt;NA&gt;</td>\n",
       "    </tr>\n",
       "  </tbody>\n",
       "</table>\n",
       "</div>"
      ],
      "text/plain": [
       "                      C6-7 Orig  C6-7 NR Exp  C6-7 Full Exp  Pyro Orig  \\\n",
       "InChI                      1114         1692           3205         58   \n",
       "Atom stereo                 977         1413           2806         22   \n",
       "Bond stereo                 137          279            399         36   \n",
       "No InChI                     73          189            211         44   \n",
       "Res. bond stereo             56          155            169         28   \n",
       "Vin. bond stereo             17           34             42         16   \n",
       "Fleeting atom stereo       <NA>         <NA>           <NA>       <NA>   \n",
       "Fleeting bond stereo       <NA>         <NA>           <NA>       <NA>   \n",
       "\n",
       "                      Pyro NR Exp  Pyro Full Exp  \n",
       "InChI                          97            124  \n",
       "Atom stereo                    24             47  \n",
       "Bond stereo                    73             77  \n",
       "No InChI                      116            116  \n",
       "Res. bond stereo               82             82  \n",
       "Vin. bond stereo               34             34  \n",
       "Fleeting atom stereo         <NA>           <NA>  \n",
       "Fleeting bond stereo         <NA>           <NA>  "
      ]
     },
     "metadata": {},
     "output_type": "display_data"
    }
   ],
   "source": [
    "# 3c. form tabls with aggregate / disaggregate stats for species\n",
    "print('Species Aggregate Stats:')\n",
    "SPC_AGG_STATS_DF = pandas.DataFrame.from_dict({\n",
    "    'C6-7 Orig': aggregate_stats(ORIG_C67_SPC_DF),\n",
    "    'C6-7 NR Exp': aggregate_stats(NREX_C67_SPC_DF),\n",
    "    'C6-7 Full Exp': aggregate_stats(FUEX_C67_SPC_DF),\n",
    "    'Pyro Orig': aggregate_stats(ORIG_PYR_SPC_DF),\n",
    "    'Pyro NR Exp': aggregate_stats(NREX_PYR_SPC_DF),\n",
    "    'Pyro Full Exp': aggregate_stats(FUEX_PYR_SPC_DF),\n",
    "})\n",
    "display(SPC_AGG_STATS_DF)\n",
    "\n",
    "print('Species Disaggregate Stats:')\n",
    "SPC_DISAGG_STATS_DF = pandas.DataFrame.from_dict({\n",
    "    'C6-7 Orig': disaggregate_stats(ORIG_C67_SPC_DF),\n",
    "    'C6-7 NR Exp': disaggregate_stats(NREX_C67_SPC_DF),\n",
    "    'C6-7 Full Exp': disaggregate_stats(FUEX_C67_SPC_DF),\n",
    "    'Pyro Orig': disaggregate_stats(ORIG_PYR_SPC_DF),\n",
    "    'Pyro NR Exp': disaggregate_stats(NREX_PYR_SPC_DF),\n",
    "    'Pyro Full Exp': disaggregate_stats(FUEX_PYR_SPC_DF),\n",
    "})\n",
    "display(SPC_DISAGG_STATS_DF)"
   ]
  },
  {
   "cell_type": "code",
   "execution_count": 13,
   "id": "f10f79cb",
   "metadata": {},
   "outputs": [
    {
     "data": {
      "application/vnd.jupyter.widget-view+json": {
       "model_id": "234518c6fce049a1ae6c0a6b1f69386e",
       "version_major": 2,
       "version_minor": 0
      },
      "text/plain": [
       "  0%|          | 0/3470 [00:00<?, ?it/s]"
      ]
     },
     "metadata": {},
     "output_type": "display_data"
    },
    {
     "data": {
      "application/vnd.jupyter.widget-view+json": {
       "model_id": "81ba50c7c2004070b273d71989add872",
       "version_major": 2,
       "version_minor": 0
      },
      "text/plain": [
       "  0%|          | 0/3470 [00:00<?, ?it/s]"
      ]
     },
     "metadata": {},
     "output_type": "display_data"
    },
    {
     "data": {
      "application/vnd.jupyter.widget-view+json": {
       "model_id": "6fa270cfc6fb4785a15e8a125c8d6193",
       "version_major": 2,
       "version_minor": 0
      },
      "text/plain": [
       "  0%|          | 0/3470 [00:00<?, ?it/s]"
      ]
     },
     "metadata": {},
     "output_type": "display_data"
    },
    {
     "data": {
      "application/vnd.jupyter.widget-view+json": {
       "model_id": "02cd84e348fb4935936ad7514ee15bde",
       "version_major": 2,
       "version_minor": 0
      },
      "text/plain": [
       "  0%|          | 0/3470 [00:00<?, ?it/s]"
      ]
     },
     "metadata": {},
     "output_type": "display_data"
    },
    {
     "data": {
      "application/vnd.jupyter.widget-view+json": {
       "model_id": "9edddad5d9314352b3cd371e3a6a6c28",
       "version_major": 2,
       "version_minor": 0
      },
      "text/plain": [
       "  0%|          | 0/3470 [00:00<?, ?it/s]"
      ]
     },
     "metadata": {},
     "output_type": "display_data"
    },
    {
     "data": {
      "application/vnd.jupyter.widget-view+json": {
       "model_id": "8363a141a8354ede99e0240ecc572b2e",
       "version_major": 2,
       "version_minor": 0
      },
      "text/plain": [
       "  0%|          | 0/3470 [00:00<?, ?it/s]"
      ]
     },
     "metadata": {},
     "output_type": "display_data"
    },
    {
     "data": {
      "application/vnd.jupyter.widget-view+json": {
       "model_id": "e7212a2e0e5a46758569d870ca9998b5",
       "version_major": 2,
       "version_minor": 0
      },
      "text/plain": [
       "  0%|          | 0/5661 [00:00<?, ?it/s]"
      ]
     },
     "metadata": {},
     "output_type": "display_data"
    },
    {
     "data": {
      "application/vnd.jupyter.widget-view+json": {
       "model_id": "018c2621089b4068a5b05fab861ce89f",
       "version_major": 2,
       "version_minor": 0
      },
      "text/plain": [
       "  0%|          | 0/5661 [00:00<?, ?it/s]"
      ]
     },
     "metadata": {},
     "output_type": "display_data"
    },
    {
     "data": {
      "application/vnd.jupyter.widget-view+json": {
       "model_id": "046614e4b7584760a90902a5e1cddf0a",
       "version_major": 2,
       "version_minor": 0
      },
      "text/plain": [
       "  0%|          | 0/5661 [00:00<?, ?it/s]"
      ]
     },
     "metadata": {},
     "output_type": "display_data"
    },
    {
     "data": {
      "application/vnd.jupyter.widget-view+json": {
       "model_id": "39d584b4b8e7435b8090aa747673f12a",
       "version_major": 2,
       "version_minor": 0
      },
      "text/plain": [
       "  0%|          | 0/5661 [00:00<?, ?it/s]"
      ]
     },
     "metadata": {},
     "output_type": "display_data"
    },
    {
     "data": {
      "application/vnd.jupyter.widget-view+json": {
       "model_id": "1f800820824443f292b9b39765532495",
       "version_major": 2,
       "version_minor": 0
      },
      "text/plain": [
       "  0%|          | 0/5661 [00:00<?, ?it/s]"
      ]
     },
     "metadata": {},
     "output_type": "display_data"
    },
    {
     "data": {
      "application/vnd.jupyter.widget-view+json": {
       "model_id": "1f41e9672dac4096832aae4651b53e6a",
       "version_major": 2,
       "version_minor": 0
      },
      "text/plain": [
       "  0%|          | 0/5661 [00:00<?, ?it/s]"
      ]
     },
     "metadata": {},
     "output_type": "display_data"
    },
    {
     "data": {
      "application/vnd.jupyter.widget-view+json": {
       "model_id": "dde6930f45a244d281e7a8acdf60af73",
       "version_major": 2,
       "version_minor": 0
      },
      "text/plain": [
       "  0%|          | 0/8891 [00:00<?, ?it/s]"
      ]
     },
     "metadata": {},
     "output_type": "display_data"
    },
    {
     "data": {
      "application/vnd.jupyter.widget-view+json": {
       "model_id": "6829b76849cf45a2ae108e9f0213925d",
       "version_major": 2,
       "version_minor": 0
      },
      "text/plain": [
       "  0%|          | 0/8891 [00:00<?, ?it/s]"
      ]
     },
     "metadata": {},
     "output_type": "display_data"
    },
    {
     "data": {
      "application/vnd.jupyter.widget-view+json": {
       "model_id": "4e0d15d3c3864b6d838f8be46b69312e",
       "version_major": 2,
       "version_minor": 0
      },
      "text/plain": [
       "  0%|          | 0/8891 [00:00<?, ?it/s]"
      ]
     },
     "metadata": {},
     "output_type": "display_data"
    },
    {
     "data": {
      "application/vnd.jupyter.widget-view+json": {
       "model_id": "f206f44c51ee46469612db7aa005fa1d",
       "version_major": 2,
       "version_minor": 0
      },
      "text/plain": [
       "  0%|          | 0/8891 [00:00<?, ?it/s]"
      ]
     },
     "metadata": {},
     "output_type": "display_data"
    },
    {
     "data": {
      "application/vnd.jupyter.widget-view+json": {
       "model_id": "2462faa504494589b52431041dbf7e65",
       "version_major": 2,
       "version_minor": 0
      },
      "text/plain": [
       "  0%|          | 0/8891 [00:00<?, ?it/s]"
      ]
     },
     "metadata": {},
     "output_type": "display_data"
    },
    {
     "data": {
      "application/vnd.jupyter.widget-view+json": {
       "model_id": "59602d2df89d48cca734d3e38d14394d",
       "version_major": 2,
       "version_minor": 0
      },
      "text/plain": [
       "  0%|          | 0/8891 [00:00<?, ?it/s]"
      ]
     },
     "metadata": {},
     "output_type": "display_data"
    },
    {
     "data": {
      "application/vnd.jupyter.widget-view+json": {
       "model_id": "d5006dba2aac4312849ec7d567c2b0dc",
       "version_major": 2,
       "version_minor": 0
      },
      "text/plain": [
       "  0%|          | 0/1118 [00:00<?, ?it/s]"
      ]
     },
     "metadata": {},
     "output_type": "display_data"
    },
    {
     "data": {
      "application/vnd.jupyter.widget-view+json": {
       "model_id": "a2d49989ea12497f9855bfb05900f74a",
       "version_major": 2,
       "version_minor": 0
      },
      "text/plain": [
       "  0%|          | 0/1118 [00:00<?, ?it/s]"
      ]
     },
     "metadata": {},
     "output_type": "display_data"
    },
    {
     "data": {
      "application/vnd.jupyter.widget-view+json": {
       "model_id": "5be2a638de384628b1c6389e68a5d118",
       "version_major": 2,
       "version_minor": 0
      },
      "text/plain": [
       "  0%|          | 0/1118 [00:00<?, ?it/s]"
      ]
     },
     "metadata": {},
     "output_type": "display_data"
    },
    {
     "data": {
      "application/vnd.jupyter.widget-view+json": {
       "model_id": "083581cd835d42038aff2b40512b39e6",
       "version_major": 2,
       "version_minor": 0
      },
      "text/plain": [
       "  0%|          | 0/1118 [00:00<?, ?it/s]"
      ]
     },
     "metadata": {},
     "output_type": "display_data"
    },
    {
     "data": {
      "application/vnd.jupyter.widget-view+json": {
       "model_id": "f3f4bbbe8db74688881e5a1009082b06",
       "version_major": 2,
       "version_minor": 0
      },
      "text/plain": [
       "  0%|          | 0/1118 [00:00<?, ?it/s]"
      ]
     },
     "metadata": {},
     "output_type": "display_data"
    },
    {
     "data": {
      "application/vnd.jupyter.widget-view+json": {
       "model_id": "d65836d7ac494e4399fe27dda3281b07",
       "version_major": 2,
       "version_minor": 0
      },
      "text/plain": [
       "  0%|          | 0/1118 [00:00<?, ?it/s]"
      ]
     },
     "metadata": {},
     "output_type": "display_data"
    },
    {
     "data": {
      "application/vnd.jupyter.widget-view+json": {
       "model_id": "de2f43b1fc604412986074cf611a1f60",
       "version_major": 2,
       "version_minor": 0
      },
      "text/plain": [
       "  0%|          | 0/1589 [00:00<?, ?it/s]"
      ]
     },
     "metadata": {},
     "output_type": "display_data"
    },
    {
     "data": {
      "application/vnd.jupyter.widget-view+json": {
       "model_id": "fd68c2865ed4466a97740cc5026ca393",
       "version_major": 2,
       "version_minor": 0
      },
      "text/plain": [
       "  0%|          | 0/1589 [00:00<?, ?it/s]"
      ]
     },
     "metadata": {},
     "output_type": "display_data"
    },
    {
     "data": {
      "application/vnd.jupyter.widget-view+json": {
       "model_id": "b026f81e59114c53b1be6024df14ec59",
       "version_major": 2,
       "version_minor": 0
      },
      "text/plain": [
       "  0%|          | 0/1589 [00:00<?, ?it/s]"
      ]
     },
     "metadata": {},
     "output_type": "display_data"
    },
    {
     "data": {
      "application/vnd.jupyter.widget-view+json": {
       "model_id": "99bcdaccf1b549c7b02f21786244c2aa",
       "version_major": 2,
       "version_minor": 0
      },
      "text/plain": [
       "  0%|          | 0/1589 [00:00<?, ?it/s]"
      ]
     },
     "metadata": {},
     "output_type": "display_data"
    },
    {
     "data": {
      "application/vnd.jupyter.widget-view+json": {
       "model_id": "781c5c261e9f4cf19400ed9bf7597ca5",
       "version_major": 2,
       "version_minor": 0
      },
      "text/plain": [
       "  0%|          | 0/1589 [00:00<?, ?it/s]"
      ]
     },
     "metadata": {},
     "output_type": "display_data"
    },
    {
     "data": {
      "application/vnd.jupyter.widget-view+json": {
       "model_id": "c57b5b9434234d56b5aeb7930b533651",
       "version_major": 2,
       "version_minor": 0
      },
      "text/plain": [
       "  0%|          | 0/1589 [00:00<?, ?it/s]"
      ]
     },
     "metadata": {},
     "output_type": "display_data"
    },
    {
     "data": {
      "application/vnd.jupyter.widget-view+json": {
       "model_id": "3c25a974a028427daaef8ff466d3814b",
       "version_major": 2,
       "version_minor": 0
      },
      "text/plain": [
       "  0%|          | 0/1723 [00:00<?, ?it/s]"
      ]
     },
     "metadata": {},
     "output_type": "display_data"
    },
    {
     "data": {
      "application/vnd.jupyter.widget-view+json": {
       "model_id": "f159e56283d44442b225648256a73d6a",
       "version_major": 2,
       "version_minor": 0
      },
      "text/plain": [
       "  0%|          | 0/1723 [00:00<?, ?it/s]"
      ]
     },
     "metadata": {},
     "output_type": "display_data"
    },
    {
     "data": {
      "application/vnd.jupyter.widget-view+json": {
       "model_id": "cf32559b0f854e119b216f462174ae5c",
       "version_major": 2,
       "version_minor": 0
      },
      "text/plain": [
       "  0%|          | 0/1723 [00:00<?, ?it/s]"
      ]
     },
     "metadata": {},
     "output_type": "display_data"
    },
    {
     "data": {
      "application/vnd.jupyter.widget-view+json": {
       "model_id": "1f72a5dc0de54673ab618589d44e2909",
       "version_major": 2,
       "version_minor": 0
      },
      "text/plain": [
       "  0%|          | 0/1723 [00:00<?, ?it/s]"
      ]
     },
     "metadata": {},
     "output_type": "display_data"
    },
    {
     "data": {
      "application/vnd.jupyter.widget-view+json": {
       "model_id": "1da4971d115146a8a03ef51ec060c508",
       "version_major": 2,
       "version_minor": 0
      },
      "text/plain": [
       "  0%|          | 0/1723 [00:00<?, ?it/s]"
      ]
     },
     "metadata": {},
     "output_type": "display_data"
    },
    {
     "data": {
      "application/vnd.jupyter.widget-view+json": {
       "model_id": "f0289f5f7a7b49fb89925d4e46084c40",
       "version_major": 2,
       "version_minor": 0
      },
      "text/plain": [
       "  0%|          | 0/1723 [00:00<?, ?it/s]"
      ]
     },
     "metadata": {},
     "output_type": "display_data"
    }
   ],
   "source": [
    "# 4a. form reaction stats DataFrames based on species stats\n",
    "ORIG_C67_RXN_DF = reaction_stats_columns(ORIG_C67_RXN_DCT, ORIG_C67_SPC_DF)\n",
    "NREX_C67_RXN_DF = reaction_stats_columns(NREX_C67_RXN_DCT, NREX_C67_SPC_DF)\n",
    "FUEX_C67_RXN_DF = reaction_stats_columns(FUEX_C67_RXN_DCT, FUEX_C67_SPC_DF)\n",
    "\n",
    "ORIG_PYR_RXN_DF = reaction_stats_columns(ORIG_PYR_RXN_DCT, ORIG_PYR_SPC_DF)\n",
    "NREX_PYR_RXN_DF = reaction_stats_columns(NREX_PYR_RXN_DCT, NREX_PYR_SPC_DF)\n",
    "FUEX_PYR_RXN_DF = reaction_stats_columns(FUEX_PYR_RXN_DCT, FUEX_PYR_SPC_DF)"
   ]
  },
  {
   "cell_type": "code",
   "execution_count": 14,
   "id": "0a827d5d-0ca5-4feb-a873-70351e979d7d",
   "metadata": {},
   "outputs": [
    {
     "data": {
      "application/vnd.jupyter.widget-view+json": {
       "model_id": "af6ba99fb577492598de2036514e7d08",
       "version_major": 2,
       "version_minor": 0
      },
      "text/plain": [
       "  0%|          | 0/8891 [00:00<?, ?it/s]"
      ]
     },
     "metadata": {},
     "output_type": "display_data"
    },
    {
     "data": {
      "application/vnd.jupyter.widget-view+json": {
       "model_id": "0862bbf17c004d588fad393ef2df0889",
       "version_major": 2,
       "version_minor": 0
      },
      "text/plain": [
       "  0%|          | 0/1723 [00:00<?, ?it/s]"
      ]
     },
     "metadata": {},
     "output_type": "display_data"
    }
   ],
   "source": [
    "# 4b. (long-running) calculate fleeting stereo stats for the reactions\n",
    "# (Requires info not stored in the mechanism file, to avoid recalculating)\n",
    "C67_FLE_DF = fleeting_stereo_stats_columns(C67_RXN_DF)\n",
    "PYR_FLE_DF = fleeting_stereo_stats_columns(PYR_RXN_DF)"
   ]
  },
  {
   "cell_type": "code",
   "execution_count": 15,
   "id": "2eea9351",
   "metadata": {},
   "outputs": [],
   "source": [
    "# 4c. add racemic names to the fleeting stereo stats\n",
    "NREX_C67_RXN_DF[\"racem-name\"] = NREX_C67_RXN_DF[\"name\"]\n",
    "NREX_PYR_RXN_DF[\"racem-name\"] = NREX_PYR_RXN_DF[\"name\"]\n",
    "\n",
    "C67_CHI_DCT = dict(zip(FUEX_C67_SPC_DF[\"name\"], FUEX_C67_SPC_DF[\"inchi\"]))\n",
    "PYR_CHI_DCT = dict(zip(FUEX_PYR_SPC_DF[\"name\"], FUEX_PYR_SPC_DF[\"inchi\"]))\n",
    "\n",
    "C67_FLE_DF[\"racem-name\"] = C67_FLE_DF[\"name\"].map(\n",
    "    lambda n: helpers.racemic_reaction_name(n, C67_CHI_DCT)\n",
    ")\n",
    "PYR_FLE_DF[\"racem-name\"] = PYR_FLE_DF[\"name\"].map(\n",
    "    lambda n: helpers.racemic_reaction_name(n, PYR_CHI_DCT)\n",
    ")"
   ]
  },
  {
   "cell_type": "code",
   "execution_count": 16,
   "id": "8855255e",
   "metadata": {},
   "outputs": [],
   "source": [
    "# 4d. add fleeting stereo to reaction stats DataFrames\n",
    "ORIG_C67_RXN_DF = helpers.with_columns_from_other(\n",
    "    ORIG_C67_RXN_DF, C67_FLE_DF, [\"orig-name\"]\n",
    ")\n",
    "NREX_C67_RXN_DF = helpers.with_columns_from_other(\n",
    "    NREX_C67_RXN_DF, C67_FLE_DF, [\"racem-name\"]\n",
    ")\n",
    "FUEX_C67_RXN_DF = helpers.with_columns_from_other(\n",
    "    FUEX_C67_RXN_DF, C67_FLE_DF, [\"name\"]\n",
    ")\n",
    "\n",
    "ORIG_PYR_RXN_DF = helpers.with_columns_from_other(\n",
    "    ORIG_PYR_RXN_DF, PYR_FLE_DF, [\"orig-name\"]\n",
    ")\n",
    "NREX_PYR_RXN_DF = helpers.with_columns_from_other(\n",
    "    NREX_PYR_RXN_DF, PYR_FLE_DF, [\"racem-name\"]\n",
    ")\n",
    "FUEX_PYR_RXN_DF = helpers.with_columns_from_other(\n",
    "    FUEX_PYR_RXN_DF, PYR_FLE_DF, [\"name\"]\n",
    ")"
   ]
  },
  {
   "cell_type": "code",
   "execution_count": 17,
   "id": "5face13b",
   "metadata": {},
   "outputs": [
    {
     "name": "stdout",
     "output_type": "stream",
     "text": [
      "Reaction Aggregate Stats:\n"
     ]
    },
    {
     "data": {
      "text/html": [
       "<div>\n",
       "<style scoped>\n",
       "    .dataframe tbody tr th:only-of-type {\n",
       "        vertical-align: middle;\n",
       "    }\n",
       "\n",
       "    .dataframe tbody tr th {\n",
       "        vertical-align: top;\n",
       "    }\n",
       "\n",
       "    .dataframe thead th {\n",
       "        text-align: right;\n",
       "    }\n",
       "</style>\n",
       "<table border=\"1\" class=\"dataframe\">\n",
       "  <thead>\n",
       "    <tr style=\"text-align: right;\">\n",
       "      <th></th>\n",
       "      <th>C6-7 Orig</th>\n",
       "      <th>C6-7 NR Exp</th>\n",
       "      <th>C6-7 Full Exp</th>\n",
       "      <th>Pyro Orig</th>\n",
       "      <th>Pyro NR Exp</th>\n",
       "      <th>Pyro Full Exp</th>\n",
       "    </tr>\n",
       "  </thead>\n",
       "  <tbody>\n",
       "    <tr>\n",
       "      <th>Total</th>\n",
       "      <td>3470</td>\n",
       "      <td>5661</td>\n",
       "      <td>8891</td>\n",
       "      <td>1118</td>\n",
       "      <td>1589</td>\n",
       "      <td>1723</td>\n",
       "    </tr>\n",
       "    <tr>\n",
       "      <th>Stereo (any kind)</th>\n",
       "      <td>2407</td>\n",
       "      <td>4598</td>\n",
       "      <td>7828</td>\n",
       "      <td>417</td>\n",
       "      <td>888</td>\n",
       "      <td>1022</td>\n",
       "    </tr>\n",
       "    <tr>\n",
       "      <th>Atom stereo</th>\n",
       "      <td>1894</td>\n",
       "      <td>3228</td>\n",
       "      <td>6458</td>\n",
       "      <td>106</td>\n",
       "      <td>137</td>\n",
       "      <td>271</td>\n",
       "    </tr>\n",
       "    <tr>\n",
       "      <th>Bond stereo</th>\n",
       "      <td>848</td>\n",
       "      <td>2269</td>\n",
       "      <td>3168</td>\n",
       "      <td>331</td>\n",
       "      <td>797</td>\n",
       "      <td>840</td>\n",
       "    </tr>\n",
       "    <tr>\n",
       "      <th>No InChI</th>\n",
       "      <td>473</td>\n",
       "      <td>1353</td>\n",
       "      <td>1608</td>\n",
       "      <td>263</td>\n",
       "      <td>659</td>\n",
       "      <td>686</td>\n",
       "    </tr>\n",
       "    <tr>\n",
       "      <th>Res. bond stereo</th>\n",
       "      <td>426</td>\n",
       "      <td>1260</td>\n",
       "      <td>1491</td>\n",
       "      <td>170</td>\n",
       "      <td>478</td>\n",
       "      <td>505</td>\n",
       "    </tr>\n",
       "    <tr>\n",
       "      <th>Vin. bond stereo</th>\n",
       "      <td>47</td>\n",
       "      <td>93</td>\n",
       "      <td>117</td>\n",
       "      <td>98</td>\n",
       "      <td>192</td>\n",
       "      <td>192</td>\n",
       "    </tr>\n",
       "    <tr>\n",
       "      <th>Fleeting stereo</th>\n",
       "      <td>773</td>\n",
       "      <td>1392</td>\n",
       "      <td>1704</td>\n",
       "      <td>327</td>\n",
       "      <td>559</td>\n",
       "      <td>578</td>\n",
       "    </tr>\n",
       "    <tr>\n",
       "      <th>Fleeting atom stereo</th>\n",
       "      <td>769</td>\n",
       "      <td>1386</td>\n",
       "      <td>1698</td>\n",
       "      <td>309</td>\n",
       "      <td>540</td>\n",
       "      <td>559</td>\n",
       "    </tr>\n",
       "    <tr>\n",
       "      <th>Fleeting bond stereo</th>\n",
       "      <td>4</td>\n",
       "      <td>6</td>\n",
       "      <td>6</td>\n",
       "      <td>18</td>\n",
       "      <td>19</td>\n",
       "      <td>19</td>\n",
       "    </tr>\n",
       "  </tbody>\n",
       "</table>\n",
       "</div>"
      ],
      "text/plain": [
       "                      C6-7 Orig  C6-7 NR Exp  C6-7 Full Exp  Pyro Orig  \\\n",
       "Total                      3470         5661           8891       1118   \n",
       "Stereo (any kind)          2407         4598           7828        417   \n",
       "Atom stereo                1894         3228           6458        106   \n",
       "Bond stereo                 848         2269           3168        331   \n",
       "No InChI                    473         1353           1608        263   \n",
       "Res. bond stereo            426         1260           1491        170   \n",
       "Vin. bond stereo             47           93            117         98   \n",
       "Fleeting stereo             773         1392           1704        327   \n",
       "Fleeting atom stereo        769         1386           1698        309   \n",
       "Fleeting bond stereo          4            6              6         18   \n",
       "\n",
       "                      Pyro NR Exp  Pyro Full Exp  \n",
       "Total                        1589           1723  \n",
       "Stereo (any kind)             888           1022  \n",
       "Atom stereo                   137            271  \n",
       "Bond stereo                   797            840  \n",
       "No InChI                      659            686  \n",
       "Res. bond stereo              478            505  \n",
       "Vin. bond stereo              192            192  \n",
       "Fleeting stereo               559            578  \n",
       "Fleeting atom stereo          540            559  \n",
       "Fleeting bond stereo           19             19  "
      ]
     },
     "metadata": {},
     "output_type": "display_data"
    },
    {
     "name": "stdout",
     "output_type": "stream",
     "text": [
      "Reaction Disaggregate Stats:\n"
     ]
    },
    {
     "data": {
      "text/html": [
       "<div>\n",
       "<style scoped>\n",
       "    .dataframe tbody tr th:only-of-type {\n",
       "        vertical-align: middle;\n",
       "    }\n",
       "\n",
       "    .dataframe tbody tr th {\n",
       "        vertical-align: top;\n",
       "    }\n",
       "\n",
       "    .dataframe thead th {\n",
       "        text-align: right;\n",
       "    }\n",
       "</style>\n",
       "<table border=\"1\" class=\"dataframe\">\n",
       "  <thead>\n",
       "    <tr style=\"text-align: right;\">\n",
       "      <th></th>\n",
       "      <th>C6-7 Orig</th>\n",
       "      <th>C6-7 NR Exp</th>\n",
       "      <th>C6-7 Full Exp</th>\n",
       "      <th>Pyro Orig</th>\n",
       "      <th>Pyro NR Exp</th>\n",
       "      <th>Pyro Full Exp</th>\n",
       "    </tr>\n",
       "  </thead>\n",
       "  <tbody>\n",
       "    <tr>\n",
       "      <th>InChI</th>\n",
       "      <td>1934</td>\n",
       "      <td>3245</td>\n",
       "      <td>6220</td>\n",
       "      <td>154</td>\n",
       "      <td>229</td>\n",
       "      <td>336</td>\n",
       "    </tr>\n",
       "    <tr>\n",
       "      <th>Atom stereo</th>\n",
       "      <td>1559</td>\n",
       "      <td>2329</td>\n",
       "      <td>4660</td>\n",
       "      <td>86</td>\n",
       "      <td>91</td>\n",
       "      <td>182</td>\n",
       "    </tr>\n",
       "    <tr>\n",
       "      <th>Bond stereo</th>\n",
       "      <td>375</td>\n",
       "      <td>916</td>\n",
       "      <td>1560</td>\n",
       "      <td>68</td>\n",
       "      <td>138</td>\n",
       "      <td>154</td>\n",
       "    </tr>\n",
       "    <tr>\n",
       "      <th>No InChI</th>\n",
       "      <td>473</td>\n",
       "      <td>1353</td>\n",
       "      <td>1608</td>\n",
       "      <td>263</td>\n",
       "      <td>659</td>\n",
       "      <td>686</td>\n",
       "    </tr>\n",
       "    <tr>\n",
       "      <th>Res. bond stereo</th>\n",
       "      <td>426</td>\n",
       "      <td>1260</td>\n",
       "      <td>1491</td>\n",
       "      <td>170</td>\n",
       "      <td>478</td>\n",
       "      <td>505</td>\n",
       "    </tr>\n",
       "    <tr>\n",
       "      <th>Vin. bond stereo</th>\n",
       "      <td>47</td>\n",
       "      <td>93</td>\n",
       "      <td>117</td>\n",
       "      <td>98</td>\n",
       "      <td>192</td>\n",
       "      <td>192</td>\n",
       "    </tr>\n",
       "    <tr>\n",
       "      <th>Fleeting atom stereo</th>\n",
       "      <td>769</td>\n",
       "      <td>1386</td>\n",
       "      <td>1698</td>\n",
       "      <td>309</td>\n",
       "      <td>540</td>\n",
       "      <td>559</td>\n",
       "    </tr>\n",
       "    <tr>\n",
       "      <th>Fleeting bond stereo</th>\n",
       "      <td>4</td>\n",
       "      <td>6</td>\n",
       "      <td>6</td>\n",
       "      <td>18</td>\n",
       "      <td>19</td>\n",
       "      <td>19</td>\n",
       "    </tr>\n",
       "  </tbody>\n",
       "</table>\n",
       "</div>"
      ],
      "text/plain": [
       "                      C6-7 Orig  C6-7 NR Exp  C6-7 Full Exp  Pyro Orig  \\\n",
       "InChI                      1934         3245           6220        154   \n",
       "Atom stereo                1559         2329           4660         86   \n",
       "Bond stereo                 375          916           1560         68   \n",
       "No InChI                    473         1353           1608        263   \n",
       "Res. bond stereo            426         1260           1491        170   \n",
       "Vin. bond stereo             47           93            117         98   \n",
       "Fleeting atom stereo        769         1386           1698        309   \n",
       "Fleeting bond stereo          4            6              6         18   \n",
       "\n",
       "                      Pyro NR Exp  Pyro Full Exp  \n",
       "InChI                         229            336  \n",
       "Atom stereo                    91            182  \n",
       "Bond stereo                   138            154  \n",
       "No InChI                      659            686  \n",
       "Res. bond stereo              478            505  \n",
       "Vin. bond stereo              192            192  \n",
       "Fleeting atom stereo          540            559  \n",
       "Fleeting bond stereo           19             19  "
      ]
     },
     "metadata": {},
     "output_type": "display_data"
    }
   ],
   "source": [
    "# 4e. form tabls with aggregate / disaggregate stats for reactions\n",
    "print('Reaction Aggregate Stats:')\n",
    "RXN_AGG_STATS_DF = pandas.DataFrame.from_dict({\n",
    "    'C6-7 Orig': aggregate_stats(ORIG_C67_RXN_DF),\n",
    "    'C6-7 NR Exp': aggregate_stats(NREX_C67_RXN_DF),\n",
    "    'C6-7 Full Exp': aggregate_stats(FUEX_C67_RXN_DF),\n",
    "    'Pyro Orig': aggregate_stats(ORIG_PYR_RXN_DF),\n",
    "    'Pyro NR Exp': aggregate_stats(NREX_PYR_RXN_DF),\n",
    "    'Pyro Full Exp': aggregate_stats(FUEX_PYR_RXN_DF),\n",
    "})\n",
    "display(RXN_AGG_STATS_DF)\n",
    "\n",
    "print('Reaction Disaggregate Stats:')\n",
    "RXN_DISAGG_STATS_DF = pandas.DataFrame.from_dict({\n",
    "    'C6-7 Orig': disaggregate_stats(ORIG_C67_RXN_DF),\n",
    "    'C6-7 NR Exp': disaggregate_stats(NREX_C67_RXN_DF),\n",
    "    'C6-7 Full Exp': disaggregate_stats(FUEX_C67_RXN_DF),\n",
    "    'Pyro Orig': disaggregate_stats(ORIG_PYR_RXN_DF),\n",
    "    'Pyro NR Exp': disaggregate_stats(NREX_PYR_RXN_DF),\n",
    "    'Pyro Full Exp': disaggregate_stats(FUEX_PYR_RXN_DF),\n",
    "})\n",
    "display(RXN_DISAGG_STATS_DF)"
   ]
  },
  {
   "cell_type": "code",
   "execution_count": 18,
   "id": "f7a3451c-da42-476f-adad-3cc2d8ca0e00",
   "metadata": {},
   "outputs": [
    {
     "data": {
      "text/html": [
       "<div>\n",
       "<style scoped>\n",
       "    .dataframe tbody tr th:only-of-type {\n",
       "        vertical-align: middle;\n",
       "    }\n",
       "\n",
       "    .dataframe tbody tr th {\n",
       "        vertical-align: top;\n",
       "    }\n",
       "\n",
       "    .dataframe thead th {\n",
       "        text-align: right;\n",
       "    }\n",
       "</style>\n",
       "<table border=\"1\" class=\"dataframe\">\n",
       "  <thead>\n",
       "    <tr style=\"text-align: right;\">\n",
       "      <th></th>\n",
       "      <th>C6-7 Orig S</th>\n",
       "      <th>C6-7 NR Exp S</th>\n",
       "      <th>C6-7 Full Exp S</th>\n",
       "      <th>Pyro Orig S</th>\n",
       "      <th>Pyro NR Exp S</th>\n",
       "      <th>Pyro Full Exp S</th>\n",
       "      <th>C6-7 Orig R</th>\n",
       "      <th>C6-7 NR Exp R</th>\n",
       "      <th>C6-7 Full Exp R</th>\n",
       "      <th>Pyro Orig R</th>\n",
       "      <th>Pyro NR Exp R</th>\n",
       "      <th>Pyro Full Exp R</th>\n",
       "    </tr>\n",
       "  </thead>\n",
       "  <tbody>\n",
       "    <tr>\n",
       "      <th>Total</th>\n",
       "      <td>1676</td>\n",
       "      <td>2370</td>\n",
       "      <td>3907</td>\n",
       "      <td>309</td>\n",
       "      <td>420</td>\n",
       "      <td>450</td>\n",
       "      <td>3470</td>\n",
       "      <td>5661</td>\n",
       "      <td>8891</td>\n",
       "      <td>1118</td>\n",
       "      <td>1589</td>\n",
       "      <td>1723</td>\n",
       "    </tr>\n",
       "    <tr>\n",
       "      <th>Stereo (any kind)</th>\n",
       "      <td>1187</td>\n",
       "      <td>1881</td>\n",
       "      <td>3416</td>\n",
       "      <td>102</td>\n",
       "      <td>213</td>\n",
       "      <td>240</td>\n",
       "      <td>2407</td>\n",
       "      <td>4598</td>\n",
       "      <td>7828</td>\n",
       "      <td>417</td>\n",
       "      <td>888</td>\n",
       "      <td>1022</td>\n",
       "    </tr>\n",
       "    <tr>\n",
       "      <th>Atom stereo</th>\n",
       "      <td>1046</td>\n",
       "      <td>1555</td>\n",
       "      <td>3090</td>\n",
       "      <td>24</td>\n",
       "      <td>28</td>\n",
       "      <td>55</td>\n",
       "      <td>1894</td>\n",
       "      <td>3228</td>\n",
       "      <td>6458</td>\n",
       "      <td>106</td>\n",
       "      <td>137</td>\n",
       "      <td>271</td>\n",
       "    </tr>\n",
       "    <tr>\n",
       "      <th>Bond stereo</th>\n",
       "      <td>210</td>\n",
       "      <td>468</td>\n",
       "      <td>610</td>\n",
       "      <td>80</td>\n",
       "      <td>189</td>\n",
       "      <td>193</td>\n",
       "      <td>848</td>\n",
       "      <td>2269</td>\n",
       "      <td>3168</td>\n",
       "      <td>331</td>\n",
       "      <td>797</td>\n",
       "      <td>840</td>\n",
       "    </tr>\n",
       "    <tr>\n",
       "      <th>No InChI</th>\n",
       "      <td>73</td>\n",
       "      <td>189</td>\n",
       "      <td>211</td>\n",
       "      <td>44</td>\n",
       "      <td>116</td>\n",
       "      <td>116</td>\n",
       "      <td>473</td>\n",
       "      <td>1353</td>\n",
       "      <td>1608</td>\n",
       "      <td>263</td>\n",
       "      <td>659</td>\n",
       "      <td>686</td>\n",
       "    </tr>\n",
       "    <tr>\n",
       "      <th>Res. bond stereo</th>\n",
       "      <td>56</td>\n",
       "      <td>155</td>\n",
       "      <td>169</td>\n",
       "      <td>28</td>\n",
       "      <td>82</td>\n",
       "      <td>82</td>\n",
       "      <td>426</td>\n",
       "      <td>1260</td>\n",
       "      <td>1491</td>\n",
       "      <td>170</td>\n",
       "      <td>478</td>\n",
       "      <td>505</td>\n",
       "    </tr>\n",
       "    <tr>\n",
       "      <th>Vin. bond stereo</th>\n",
       "      <td>17</td>\n",
       "      <td>34</td>\n",
       "      <td>42</td>\n",
       "      <td>16</td>\n",
       "      <td>34</td>\n",
       "      <td>34</td>\n",
       "      <td>47</td>\n",
       "      <td>93</td>\n",
       "      <td>117</td>\n",
       "      <td>98</td>\n",
       "      <td>192</td>\n",
       "      <td>192</td>\n",
       "    </tr>\n",
       "    <tr>\n",
       "      <th>Fleeting stereo</th>\n",
       "      <td>&lt;NA&gt;</td>\n",
       "      <td>&lt;NA&gt;</td>\n",
       "      <td>&lt;NA&gt;</td>\n",
       "      <td>&lt;NA&gt;</td>\n",
       "      <td>&lt;NA&gt;</td>\n",
       "      <td>&lt;NA&gt;</td>\n",
       "      <td>773</td>\n",
       "      <td>1392</td>\n",
       "      <td>1704</td>\n",
       "      <td>327</td>\n",
       "      <td>559</td>\n",
       "      <td>578</td>\n",
       "    </tr>\n",
       "    <tr>\n",
       "      <th>Fleeting atom stereo</th>\n",
       "      <td>&lt;NA&gt;</td>\n",
       "      <td>&lt;NA&gt;</td>\n",
       "      <td>&lt;NA&gt;</td>\n",
       "      <td>&lt;NA&gt;</td>\n",
       "      <td>&lt;NA&gt;</td>\n",
       "      <td>&lt;NA&gt;</td>\n",
       "      <td>769</td>\n",
       "      <td>1386</td>\n",
       "      <td>1698</td>\n",
       "      <td>309</td>\n",
       "      <td>540</td>\n",
       "      <td>559</td>\n",
       "    </tr>\n",
       "    <tr>\n",
       "      <th>Fleeting bond stereo</th>\n",
       "      <td>&lt;NA&gt;</td>\n",
       "      <td>&lt;NA&gt;</td>\n",
       "      <td>&lt;NA&gt;</td>\n",
       "      <td>&lt;NA&gt;</td>\n",
       "      <td>&lt;NA&gt;</td>\n",
       "      <td>&lt;NA&gt;</td>\n",
       "      <td>4</td>\n",
       "      <td>6</td>\n",
       "      <td>6</td>\n",
       "      <td>18</td>\n",
       "      <td>19</td>\n",
       "      <td>19</td>\n",
       "    </tr>\n",
       "  </tbody>\n",
       "</table>\n",
       "</div>"
      ],
      "text/plain": [
       "                      C6-7 Orig S  C6-7 NR Exp S  C6-7 Full Exp S  \\\n",
       "Total                        1676           2370             3907   \n",
       "Stereo (any kind)            1187           1881             3416   \n",
       "Atom stereo                  1046           1555             3090   \n",
       "Bond stereo                   210            468              610   \n",
       "No InChI                       73            189              211   \n",
       "Res. bond stereo               56            155              169   \n",
       "Vin. bond stereo               17             34               42   \n",
       "Fleeting stereo              <NA>           <NA>             <NA>   \n",
       "Fleeting atom stereo         <NA>           <NA>             <NA>   \n",
       "Fleeting bond stereo         <NA>           <NA>             <NA>   \n",
       "\n",
       "                      Pyro Orig S  Pyro NR Exp S  Pyro Full Exp S  \\\n",
       "Total                         309            420              450   \n",
       "Stereo (any kind)             102            213              240   \n",
       "Atom stereo                    24             28               55   \n",
       "Bond stereo                    80            189              193   \n",
       "No InChI                       44            116              116   \n",
       "Res. bond stereo               28             82               82   \n",
       "Vin. bond stereo               16             34               34   \n",
       "Fleeting stereo              <NA>           <NA>             <NA>   \n",
       "Fleeting atom stereo         <NA>           <NA>             <NA>   \n",
       "Fleeting bond stereo         <NA>           <NA>             <NA>   \n",
       "\n",
       "                      C6-7 Orig R  C6-7 NR Exp R  C6-7 Full Exp R  \\\n",
       "Total                        3470           5661             8891   \n",
       "Stereo (any kind)            2407           4598             7828   \n",
       "Atom stereo                  1894           3228             6458   \n",
       "Bond stereo                   848           2269             3168   \n",
       "No InChI                      473           1353             1608   \n",
       "Res. bond stereo              426           1260             1491   \n",
       "Vin. bond stereo               47             93              117   \n",
       "Fleeting stereo               773           1392             1704   \n",
       "Fleeting atom stereo          769           1386             1698   \n",
       "Fleeting bond stereo            4              6                6   \n",
       "\n",
       "                      Pyro Orig R  Pyro NR Exp R  Pyro Full Exp R  \n",
       "Total                        1118           1589             1723  \n",
       "Stereo (any kind)             417            888             1022  \n",
       "Atom stereo                   106            137              271  \n",
       "Bond stereo                   331            797              840  \n",
       "No InChI                      263            659              686  \n",
       "Res. bond stereo              170            478              505  \n",
       "Vin. bond stereo               98            192              192  \n",
       "Fleeting stereo               327            559              578  \n",
       "Fleeting atom stereo          309            540              559  \n",
       "Fleeting bond stereo           18             19               19  "
      ]
     },
     "metadata": {},
     "output_type": "display_data"
    },
    {
     "data": {
      "text/html": [
       "<div>\n",
       "<style scoped>\n",
       "    .dataframe tbody tr th:only-of-type {\n",
       "        vertical-align: middle;\n",
       "    }\n",
       "\n",
       "    .dataframe tbody tr th {\n",
       "        vertical-align: top;\n",
       "    }\n",
       "\n",
       "    .dataframe thead th {\n",
       "        text-align: right;\n",
       "    }\n",
       "</style>\n",
       "<table border=\"1\" class=\"dataframe\">\n",
       "  <thead>\n",
       "    <tr style=\"text-align: right;\">\n",
       "      <th></th>\n",
       "      <th>C6-7 Orig S</th>\n",
       "      <th>C6-7 NR Exp S</th>\n",
       "      <th>C6-7 Full Exp S</th>\n",
       "      <th>Pyro Orig S</th>\n",
       "      <th>Pyro NR Exp S</th>\n",
       "      <th>Pyro Full Exp S</th>\n",
       "      <th>C6-7 Orig R</th>\n",
       "      <th>C6-7 NR Exp R</th>\n",
       "      <th>C6-7 Full Exp R</th>\n",
       "      <th>Pyro Orig R</th>\n",
       "      <th>Pyro NR Exp R</th>\n",
       "      <th>Pyro Full Exp R</th>\n",
       "    </tr>\n",
       "  </thead>\n",
       "  <tbody>\n",
       "    <tr>\n",
       "      <th>InChI</th>\n",
       "      <td>1114</td>\n",
       "      <td>1692</td>\n",
       "      <td>3205</td>\n",
       "      <td>58</td>\n",
       "      <td>97</td>\n",
       "      <td>124</td>\n",
       "      <td>1934</td>\n",
       "      <td>3245</td>\n",
       "      <td>6220</td>\n",
       "      <td>154</td>\n",
       "      <td>229</td>\n",
       "      <td>336</td>\n",
       "    </tr>\n",
       "    <tr>\n",
       "      <th>Atom stereo</th>\n",
       "      <td>977</td>\n",
       "      <td>1413</td>\n",
       "      <td>2806</td>\n",
       "      <td>22</td>\n",
       "      <td>24</td>\n",
       "      <td>47</td>\n",
       "      <td>1559</td>\n",
       "      <td>2329</td>\n",
       "      <td>4660</td>\n",
       "      <td>86</td>\n",
       "      <td>91</td>\n",
       "      <td>182</td>\n",
       "    </tr>\n",
       "    <tr>\n",
       "      <th>Bond stereo</th>\n",
       "      <td>137</td>\n",
       "      <td>279</td>\n",
       "      <td>399</td>\n",
       "      <td>36</td>\n",
       "      <td>73</td>\n",
       "      <td>77</td>\n",
       "      <td>375</td>\n",
       "      <td>916</td>\n",
       "      <td>1560</td>\n",
       "      <td>68</td>\n",
       "      <td>138</td>\n",
       "      <td>154</td>\n",
       "    </tr>\n",
       "    <tr>\n",
       "      <th>No InChI</th>\n",
       "      <td>73</td>\n",
       "      <td>189</td>\n",
       "      <td>211</td>\n",
       "      <td>44</td>\n",
       "      <td>116</td>\n",
       "      <td>116</td>\n",
       "      <td>473</td>\n",
       "      <td>1353</td>\n",
       "      <td>1608</td>\n",
       "      <td>263</td>\n",
       "      <td>659</td>\n",
       "      <td>686</td>\n",
       "    </tr>\n",
       "    <tr>\n",
       "      <th>Res. bond stereo</th>\n",
       "      <td>56</td>\n",
       "      <td>155</td>\n",
       "      <td>169</td>\n",
       "      <td>28</td>\n",
       "      <td>82</td>\n",
       "      <td>82</td>\n",
       "      <td>426</td>\n",
       "      <td>1260</td>\n",
       "      <td>1491</td>\n",
       "      <td>170</td>\n",
       "      <td>478</td>\n",
       "      <td>505</td>\n",
       "    </tr>\n",
       "    <tr>\n",
       "      <th>Vin. bond stereo</th>\n",
       "      <td>17</td>\n",
       "      <td>34</td>\n",
       "      <td>42</td>\n",
       "      <td>16</td>\n",
       "      <td>34</td>\n",
       "      <td>34</td>\n",
       "      <td>47</td>\n",
       "      <td>93</td>\n",
       "      <td>117</td>\n",
       "      <td>98</td>\n",
       "      <td>192</td>\n",
       "      <td>192</td>\n",
       "    </tr>\n",
       "    <tr>\n",
       "      <th>Fleeting atom stereo</th>\n",
       "      <td>&lt;NA&gt;</td>\n",
       "      <td>&lt;NA&gt;</td>\n",
       "      <td>&lt;NA&gt;</td>\n",
       "      <td>&lt;NA&gt;</td>\n",
       "      <td>&lt;NA&gt;</td>\n",
       "      <td>&lt;NA&gt;</td>\n",
       "      <td>769</td>\n",
       "      <td>1386</td>\n",
       "      <td>1698</td>\n",
       "      <td>309</td>\n",
       "      <td>540</td>\n",
       "      <td>559</td>\n",
       "    </tr>\n",
       "    <tr>\n",
       "      <th>Fleeting bond stereo</th>\n",
       "      <td>&lt;NA&gt;</td>\n",
       "      <td>&lt;NA&gt;</td>\n",
       "      <td>&lt;NA&gt;</td>\n",
       "      <td>&lt;NA&gt;</td>\n",
       "      <td>&lt;NA&gt;</td>\n",
       "      <td>&lt;NA&gt;</td>\n",
       "      <td>4</td>\n",
       "      <td>6</td>\n",
       "      <td>6</td>\n",
       "      <td>18</td>\n",
       "      <td>19</td>\n",
       "      <td>19</td>\n",
       "    </tr>\n",
       "  </tbody>\n",
       "</table>\n",
       "</div>"
      ],
      "text/plain": [
       "                      C6-7 Orig S  C6-7 NR Exp S  C6-7 Full Exp S  \\\n",
       "InChI                        1114           1692             3205   \n",
       "Atom stereo                   977           1413             2806   \n",
       "Bond stereo                   137            279              399   \n",
       "No InChI                       73            189              211   \n",
       "Res. bond stereo               56            155              169   \n",
       "Vin. bond stereo               17             34               42   \n",
       "Fleeting atom stereo         <NA>           <NA>             <NA>   \n",
       "Fleeting bond stereo         <NA>           <NA>             <NA>   \n",
       "\n",
       "                      Pyro Orig S  Pyro NR Exp S  Pyro Full Exp S  \\\n",
       "InChI                          58             97              124   \n",
       "Atom stereo                    22             24               47   \n",
       "Bond stereo                    36             73               77   \n",
       "No InChI                       44            116              116   \n",
       "Res. bond stereo               28             82               82   \n",
       "Vin. bond stereo               16             34               34   \n",
       "Fleeting atom stereo         <NA>           <NA>             <NA>   \n",
       "Fleeting bond stereo         <NA>           <NA>             <NA>   \n",
       "\n",
       "                      C6-7 Orig R  C6-7 NR Exp R  C6-7 Full Exp R  \\\n",
       "InChI                        1934           3245             6220   \n",
       "Atom stereo                  1559           2329             4660   \n",
       "Bond stereo                   375            916             1560   \n",
       "No InChI                      473           1353             1608   \n",
       "Res. bond stereo              426           1260             1491   \n",
       "Vin. bond stereo               47             93              117   \n",
       "Fleeting atom stereo          769           1386             1698   \n",
       "Fleeting bond stereo            4              6                6   \n",
       "\n",
       "                      Pyro Orig R  Pyro NR Exp R  Pyro Full Exp R  \n",
       "InChI                         154            229              336  \n",
       "Atom stereo                    86             91              182  \n",
       "Bond stereo                    68            138              154  \n",
       "No InChI                      263            659              686  \n",
       "Res. bond stereo              170            478              505  \n",
       "Vin. bond stereo               98            192              192  \n",
       "Fleeting atom stereo          309            540              559  \n",
       "Fleeting bond stereo           18             19               19  "
      ]
     },
     "metadata": {},
     "output_type": "display_data"
    }
   ],
   "source": [
    "# 5. write aggregate/disaggregate stats to CSV files\n",
    "AGG_STATS_PATH = 'stats/07_agg.csv'\n",
    "AGG_STATS_DF = pandas.concat([SPC_AGG_STATS_DF.add_suffix(' S'), RXN_AGG_STATS_DF.add_suffix(' R')], axis=1)\n",
    "AGG_STATS_DF.to_csv(AGG_STATS_PATH)\n",
    "display(AGG_STATS_DF)\n",
    "\n",
    "DISAGG_STATS_PATH = 'stats/07_disagg.csv'\n",
    "DISAGG_STATS_DF = pandas.concat([SPC_DISAGG_STATS_DF.add_suffix(' S'), RXN_DISAGG_STATS_DF.add_suffix(' R')], axis=1)\n",
    "DISAGG_STATS_DF.to_csv(DISAGG_STATS_PATH)\n",
    "display(DISAGG_STATS_DF)"
   ]
  },
  {
   "cell_type": "code",
   "execution_count": null,
   "id": "164aaa85-1c36-4cf5-bfd5-6693fad693c6",
   "metadata": {},
   "outputs": [],
   "source": []
  }
 ],
 "metadata": {
  "kernelspec": {
   "display_name": "Python 3 (ipykernel)",
   "language": "python",
   "name": "python3"
  },
  "language_info": {
   "codemirror_mode": {
    "name": "ipython",
    "version": 3
   },
   "file_extension": ".py",
   "mimetype": "text/x-python",
   "name": "python",
   "nbconvert_exporter": "python",
   "pygments_lexer": "ipython3",
   "version": "3.9.18"
  }
 },
 "nbformat": 4,
 "nbformat_minor": 5
}
