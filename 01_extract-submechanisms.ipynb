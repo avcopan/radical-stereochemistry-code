{
 "cells": [
  {
   "cell_type": "code",
   "execution_count": null,
   "id": "3a794f12",
   "metadata": {},
   "outputs": [],
   "source": [
    "import pandas\n",
    "import automol\n",
    "import chemkin_io\n",
    "import ioformat\n",
    "import autoreact"
   ]
  },
  {
   "cell_type": "code",
   "execution_count": null,
   "id": "1379a251",
   "metadata": {},
   "outputs": [],
   "source": [
    "INP_SPC_PATH = 'mechanisms/nuigmech1.1.csv'\n",
    "INP_RXN_PATH = 'mechanisms/nuigmech1.1.txt'"
   ]
  },
  {
   "cell_type": "code",
   "execution_count": null,
   "id": "c9cb5677",
   "metadata": {},
   "outputs": [],
   "source": [
    "# 1. read in the species CSV\n",
    "SPC_DF = pandas.read_csv(INP_SPC_PATH, quotechar='\"', index_col=0)"
   ]
  },
  {
   "cell_type": "code",
   "execution_count": null,
   "id": "1cb1474e",
   "metadata": {},
   "outputs": [],
   "source": [
    "# clean up and fill in the species dataframe\n",
    "# drop excited species\n",
    "SPC_DF.drop(SPC_DF[SPC_DF['smiles'].isnull()].index, inplace=True)\n",
    "SPC_DF.drop(SPC_DF[SPC_DF['smiles'].str.contains('excited')].index, inplace=True)\n",
    "# add neutral charge\n",
    "SPC_DF['charge'] = 0\n",
    "# add multiplicities\n",
    "TRIP_CHIS = [\n",
    "    'InChI=1S/O',\n",
    "    'InChI=1S/O2/c1-2',\n",
    "    'InChI=1S/CH2/h1H2',\n",
    "    'InChI=1S/C3H2/c1-3-2/h1-2H',\n",
    "    'InChI=1S/C3H2/c1-3-2/h1H2',\n",
    "    'InChI=1S/C6H6O/c7-6-4-2-1-3-5-6/h1-2,4-5H,3H2',\n",
    "    'InChI=1S/C2H3N/c1-2-3/h2H,1H2',\n",
    "]\n",
    "SPC_DF['inchi'] = SPC_DF['inchi'].str.replace('.*InChI=', 'InChI=', regex=True)\n",
    "SPC_DF['mult'] = SPC_DF.apply(\n",
    "    (\n",
    "        lambda x:\n",
    "        1 if 'singlet' in x['smiles'] else\n",
    "        3 if 'triplet' in x['smiles'] or x['inchi'] in TRIP_CHIS else\n",
    "        automol.chi.low_spin_multiplicity(x['inchi'])\n",
    "    ),\n",
    "    axis=1\n",
    ")\n",
    "SPC_DF['smiles'] = SPC_DF['smiles'].str.replace('triplet', '')\n",
    "SPC_DF['smiles'] = SPC_DF['smiles'].str.replace('singlet', '')\n",
    "# add formulas (used in filtering below)\n",
    "SPC_DF['fml'] = SPC_DF['inchi'].map(automol.chi.formula)\n",
    "# remove stereo from InChIs\n",
    "SPC_DF['inchi'] = SPC_DF['inchi'].map(automol.inchi.without_stereo)"
   ]
  },
  {
   "cell_type": "code",
   "execution_count": null,
   "id": "fe4e078b",
   "metadata": {},
   "outputs": [],
   "source": [
    "# Catch bad InChIs/SMILES by looking for mismatches\n",
    "ICH_FROM_SMI = SPC_DF['smiles'].map(automol.smiles.inchi)\n",
    "IDXS = SPC_DF.index[SPC_DF['inchi'] != ICH_FROM_SMI].tolist()\n",
    "if IDXS:\n",
    "    print(f\"InChI/SMILES mismatches: {IDXS}\")\n",
    "else:\n",
    "    print(\"All InChI/SMILES mismatches are fixed!\")\n",
    "assert not IDXS\n",
    "# re-calculate ChIs from SMILES, assigning AMChIs to tautomers\n",
    "SPC_DF['inchi'] = SPC_DF['smiles'].map(automol.smiles.chi)"
   ]
  },
  {
   "cell_type": "code",
   "execution_count": null,
   "id": "1c3ee51c",
   "metadata": {},
   "outputs": [],
   "source": [
    "# set 'name' as the species DataFrame index, for easy look-ups\n",
    "SPC_DF.set_index('name', inplace=True)"
   ]
  },
  {
   "cell_type": "code",
   "execution_count": null,
   "id": "54e49d1e",
   "metadata": {},
   "outputs": [],
   "source": [
    "# 2. read in the mechanism\n",
    "MECH_STR = ioformat.pathtools.read_file('.', INP_RXN_PATH)\n",
    "RXN_DCT = chemkin_io.parser.mechanism.reactions(MECH_STR)"
   ]
  },
  {
   "cell_type": "code",
   "execution_count": null,
   "id": "903dd92c",
   "metadata": {},
   "outputs": [],
   "source": [
    "# clean up the reaction list, removing dropped excited species\n",
    "# also, replace kinetic parameters with dummy values\n",
    "DUMMY_PARAMS = autoreact.params.RxnParams(\n",
    "    arr_dct={'arr_tuples': [[1, 0, 0]]},\n",
    ")\n",
    "RXN_DCT = {rxn: DUMMY_PARAMS for rxn in RXN_DCT\n",
    "           if all(s in SPC_DF.index for s in rxn[0]+rxn[1])}"
   ]
  },
  {
   "cell_type": "code",
   "execution_count": null,
   "id": "1169ee3c",
   "metadata": {},
   "outputs": [],
   "source": [
    "# 3. filter to select all C6-7 reactions\n",
    "def c67_filter(rxn, df):\n",
    "    rfmls = [df.loc[s]['fml'] for s in rxn[0]]\n",
    "    pfmls = [df.loc[s]['fml'] for s in rxn[1]]\n",
    "    rfml = automol.form.join_sequence(rfmls)\n",
    "    pfml = automol.form.join_sequence(pfmls)\n",
    "    return (rfml == pfml and\n",
    "            'C' in rfml and\n",
    "            set(rfml) <= set(\"CHO\") and\n",
    "            6 <= rfml['C'] <= 7)\n",
    "\n",
    "C67_RXN_DCT = {r: RXN_DCT[r] for r in RXN_DCT\n",
    "               if c67_filter(r, SPC_DF)}\n",
    "print(f\"FULL COUNT: {len(RXN_DCT)}\")\n",
    "print(f\"C6-7 SUBSET COUNT: {len(C67_RXN_DCT)}\")\n",
    "C67_SPC_SET = {s for r, p, _ in C67_RXN_DCT for s in r+p}\n",
    "C67_SPC_LST = [s for s in SPC_DF.index if s in C67_SPC_SET]\n",
    "C67_SPC_DF = SPC_DF.loc[C67_SPC_LST]"
   ]
  },
  {
   "cell_type": "code",
   "execution_count": null,
   "id": "54e8c164",
   "metadata": {},
   "outputs": [],
   "source": [
    "# 4. write C6-7 submechanism\n",
    "C67_SPC_PATH = 'mechanisms/01_raw_nuig-c6-7.csv'\n",
    "C67_RXN_PATH = 'mechanisms/01_raw_nuig-c6-7.txt'\n",
    "\n",
    "# a. write the species file\n",
    "C67_SPC_DF.drop(columns=['fml']).to_csv(C67_SPC_PATH, quotechar=\"'\")\n",
    "\n",
    "# b. write the reaction file\n",
    "C67_SPC_DCT = C67_SPC_DF.to_dict('index')\n",
    "C67_MECH_STR = chemkin_io.writer.mechanism.write_chemkin_file(\n",
    "    rxn_param_dct=C67_RXN_DCT,\n",
    "    mech_spc_dct=C67_SPC_DCT,\n",
    ")\n",
    "ioformat.pathtools.write_file(C67_MECH_STR, '.', C67_RXN_PATH)"
   ]
  },
  {
   "cell_type": "code",
   "execution_count": null,
   "id": "1cbf569f",
   "metadata": {},
   "outputs": [],
   "source": [
    "# 5. filter to select all Pyro reactions\n",
    "def pyro_filter(rxn, df):\n",
    "    return all(set(df.loc[s]['fml']) <= set('CH')\n",
    "               for s in rxn[0] + rxn[1])\n",
    "\n",
    "PYRO_RXN_DCT = {r: RXN_DCT[r] for r in RXN_DCT\n",
    "               if pyro_filter(r, SPC_DF)}\n",
    "print(f\"FULL COUNT: {len(RXN_DCT)}\")\n",
    "print(f\"PYRO SUBSET COUNT: {len(PYRO_RXN_DCT)}\")\n",
    "PYRO_SPC_SET = {s for r, p, _ in PYRO_RXN_DCT for s in r+p}\n",
    "PYRO_SPC_LST = [s for s in SPC_DF.index if s in PYRO_SPC_SET]\n",
    "PYRO_SPC_DF = SPC_DF.loc[PYRO_SPC_LST]"
   ]
  },
  {
   "cell_type": "code",
   "execution_count": null,
   "id": "98f799b6",
   "metadata": {},
   "outputs": [],
   "source": [
    "# 6. write Pyro submechanism\n",
    "PYRO_SPC_PATH = 'mechanisms/01_raw_nuig-pyro.csv'\n",
    "PYRO_RXN_PATH = 'mechanisms/01_raw_nuig-pyro.txt'\n",
    "\n",
    "# a. write the species file\n",
    "PYRO_SPC_DF.drop(columns=['fml']).to_csv(PYRO_SPC_PATH, quotechar=\"'\")\n",
    "\n",
    "# b. write the reaction file\n",
    "PYRO_SPC_DCT = PYRO_SPC_DF.to_dict('index')\n",
    "PYRO_MECH_STR = chemkin_io.writer.mechanism.write_chemkin_file(\n",
    "    rxn_param_dct=PYRO_RXN_DCT,\n",
    "    mech_spc_dct=PYRO_SPC_DCT,\n",
    ")\n",
    "ioformat.pathtools.write_file(PYRO_MECH_STR, '.', PYRO_RXN_PATH)"
   ]
  },
  {
   "cell_type": "code",
   "execution_count": null,
   "id": "a4e5c092",
   "metadata": {},
   "outputs": [],
   "source": []
  }
 ],
 "metadata": {
  "kernelspec": {
   "display_name": "Python 3 (ipykernel)",
   "language": "python",
   "name": "python3"
  },
  "language_info": {
   "codemirror_mode": {
    "name": "ipython",
    "version": 3
   },
   "file_extension": ".py",
   "mimetype": "text/x-python",
   "name": "python",
   "nbconvert_exporter": "python",
   "pygments_lexer": "ipython3",
   "version": "3.12.1"
  }
 },
 "nbformat": 4,
 "nbformat_minor": 5
}
