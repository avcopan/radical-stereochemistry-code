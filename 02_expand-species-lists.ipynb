{
 "cells": [
  {
   "cell_type": "code",
   "execution_count": null,
   "id": "becbdb06",
   "metadata": {},
   "outputs": [],
   "source": [
    "import pandas\n",
    "\n",
    "import automol"
   ]
  },
  {
   "cell_type": "code",
   "execution_count": null,
   "id": "e8f4e3ae",
   "metadata": {},
   "outputs": [],
   "source": [
    "# 1. read in the species lists\n",
    "C67_SPC_PATH = 'mechanisms/01_raw_nuig-c6-7.csv'\n",
    "PYR_SPC_PATH = 'mechanisms/01_raw_nuig-pyro.csv'\n",
    "\n",
    "C67_SPC_DF = pandas.read_csv(C67_SPC_PATH, quotechar=\"'\")\n",
    "PYR_SPC_DF = pandas.read_csv(PYR_SPC_PATH, quotechar=\"'\")"
   ]
  },
  {
   "cell_type": "code",
   "execution_count": null,
   "id": "b9ec10ec",
   "metadata": {},
   "outputs": [],
   "source": [
    "# 2. expand species stereo (full and non-redundant) for each list\n",
    "def append_stereo_suffix(name, chi, racem=False):\n",
    "    \"\"\" Append a stereo suffix to a CHEMKIN name, based on its ChI string\n",
    "    \"\"\"\n",
    "    bnd_ste_par_dct = automol.chi.bond_stereo_parities(chi)\n",
    "    atm_ste_par_dct = automol.chi.atom_stereo_parities(chi)\n",
    "    \n",
    "    ste_str = ''\n",
    "    ste_str += ''.join('E' if p else 'Z' for _, p in sorted(bnd_ste_par_dct.items()))\n",
    "    ste_str += ''.join('B' if p else 'A' for _, p in sorted(atm_ste_par_dct.items()))\n",
    "    if automol.chi.is_chiral(chi):\n",
    "        ste_str += ('r' if racem else\n",
    "                    '1' if automol.chi.is_inverted_enantiomer(chi) else '0')\n",
    "\n",
    "    return f'{name}-{ste_str}' if ste_str else name\n",
    "\n",
    "\n",
    "def expand_species_stereo(df, enant=True):\n",
    "    \"\"\" expand stereo for a species DataFrame\n",
    "    \n",
    "        :param df: A DataFrame containing an 'inchi' column\n",
    "            and a 'name' column.\n",
    "        :param enant: If True, perform a full expansion\n",
    "            including all enantiomers. If False, perform a\n",
    "            non-redundant expansion with only canonical\n",
    "            enantiomers.\n",
    "    \"\"\"\n",
    "    df = df.set_index('inchi')\n",
    "    row_dcts = []\n",
    "    for chi, row in df.iterrows():\n",
    "        name = row['name']\n",
    "        \n",
    "        print(f'Expanding {name} {chi}...')\n",
    "        ste_chis = automol.chi.expand_stereo(chi, enant=enant)\n",
    "        for ste_chi in ste_chis:\n",
    "            row_dct = row.to_dict()\n",
    "            ste_name = append_stereo_suffix(name, ste_chi, racem=False)\n",
    "            ste_smi = automol.chi.smiles(ste_chi)\n",
    "            row_dct.update({\n",
    "                'inchi': ste_chi,\n",
    "                'smiles': ste_smi,\n",
    "                'name': ste_name,\n",
    "                'orig-name': name,\n",
    "                'orig-inchi': chi,\n",
    "            })\n",
    "            row_dcts.append(row_dct)\n",
    "\n",
    "            print(f' - {ste_name} = {ste_chi} = {ste_smi}')\n",
    "            automol.chi.display(ste_chi)\n",
    "    \n",
    "    ste_df = pandas.DataFrame.from_records(row_dcts)\n",
    "    return ste_df"
   ]
  },
  {
   "cell_type": "code",
   "execution_count": null,
   "id": "dd9189aa",
   "metadata": {},
   "outputs": [],
   "source": [
    "print(\"Full species stereoexpansion for NUIG-C6-7\")\n",
    "print(\"WARNING: RDKit fails to properly visualize some radicals\")\n",
    "FU_EXP_C67_SPC_DF = expand_species_stereo(C67_SPC_DF, enant=True)\n",
    "\n",
    "FU_EXP_C67_SPC_PATH = 'species/02_species-fu-exp_nuig-c6-7.csv'\n",
    "FU_EXP_C67_SPC_DF.set_index('name', inplace=True)\n",
    "FU_EXP_C67_SPC_DF.to_csv(FU_EXP_C67_SPC_PATH, quotechar=\"'\")"
   ]
  },
  {
   "cell_type": "code",
   "execution_count": null,
   "id": "ffe1cb4d",
   "metadata": {},
   "outputs": [],
   "source": [
    "print(\"Non-redundant species stereoexpansion for NUIG-C6-7\")\n",
    "print(\"WARNING: RDKit fails to properly visualize some radicals\")\n",
    "NR_EXP_C67_SPC_DF = expand_species_stereo(C67_SPC_DF, enant=False)\n",
    "\n",
    "NR_EXP_C67_SPC_PATH = 'species/02_species-nr-exp_nuig-c6-7.csv'\n",
    "NR_EXP_C67_SPC_DF.set_index('name', inplace=True)\n",
    "NR_EXP_C67_SPC_DF.to_csv(NR_EXP_C67_SPC_PATH, quotechar=\"'\")"
   ]
  },
  {
   "cell_type": "code",
   "execution_count": null,
   "id": "d5d9b1e5",
   "metadata": {},
   "outputs": [],
   "source": [
    "print(\"Full species stereoexpansion for NUIG-Pyro\")\n",
    "print(\"WARNING: RDKit fails to properly visualize some radicals\")\n",
    "FU_EXP_PYR_SPC_DF = expand_species_stereo(PYR_SPC_DF, enant=True)\n",
    "\n",
    "FU_EXP_PYR_SPC_PATH = 'species/02_species-fu-exp_nuig-pyro.csv'\n",
    "FU_EXP_PYR_SPC_DF.set_index('name', inplace=True)\n",
    "FU_EXP_PYR_SPC_DF.to_csv(FU_EXP_PYR_SPC_PATH, quotechar=\"'\")"
   ]
  },
  {
   "cell_type": "code",
   "execution_count": null,
   "id": "5579ed0f",
   "metadata": {},
   "outputs": [],
   "source": [
    "print(\"Non-redundant species stereoexpansion for NUIG-Pyro\")\n",
    "print(\"WARNING: RDKit fails to properly visualize some radicals\")\n",
    "NR_EXP_PYR_SPC_DF = expand_species_stereo(PYR_SPC_DF, enant=False)\n",
    "\n",
    "NR_EXP_PYR_SPC_PATH = 'species/02_species-nr-exp_nuig-pyro.csv'\n",
    "NR_EXP_PYR_SPC_DF.set_index('name', inplace=True)\n",
    "NR_EXP_PYR_SPC_DF.to_csv(NR_EXP_PYR_SPC_PATH, quotechar=\"'\")"
   ]
  }
 ],
 "metadata": {
  "kernelspec": {
   "display_name": "Python 3 (ipykernel)",
   "language": "python",
   "name": "python3"
  },
  "language_info": {
   "codemirror_mode": {
    "name": "ipython",
    "version": 3
   },
   "file_extension": ".py",
   "mimetype": "text/x-python",
   "name": "python",
   "nbconvert_exporter": "python",
   "pygments_lexer": "ipython3",
   "version": "3.12.1"
  }
 },
 "nbformat": 4,
 "nbformat_minor": 5
}
