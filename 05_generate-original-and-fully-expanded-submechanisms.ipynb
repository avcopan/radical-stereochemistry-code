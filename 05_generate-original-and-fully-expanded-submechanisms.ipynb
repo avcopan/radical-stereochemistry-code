{
 "cells": [
  {
   "cell_type": "code",
   "execution_count": 1,
   "id": "85d48b6c",
   "metadata": {},
   "outputs": [],
   "source": [
    "import pandas\n",
    "\n",
    "import helpers\n",
    "import ioformat"
   ]
  },
  {
   "cell_type": "code",
   "execution_count": 2,
   "id": "be0bc31b",
   "metadata": {},
   "outputs": [],
   "source": [
    "# 1. read in the original and fully expanded species and reaction lists\n",
    "# (including only successfully classified reactions, for comparison)\n",
    "ORIG_C67_SPC_PATH = 'data/mechanisms/01_raw_nuig-c6-7.csv'\n",
    "ORIG_C67_RXN_PATH = 'data/reactions/03_reactions-succ_nuig-c6-7.csv'\n",
    "ORIG_PYR_SPC_PATH = 'data/mechanisms/01_raw_nuig-pyro.csv'\n",
    "ORIG_PYR_RXN_PATH = 'data/reactions/03_reactions-succ_nuig-pyro.csv'\n",
    "FULL_C67_SPC_PATH = 'data/species/02_species-fu-exp_nuig-c6-7.csv'\n",
    "FULL_C67_RXN_PATH = 'data/reactions/04_reactions-fu-exp_nuig-c6-7.csv'\n",
    "FULL_PYR_SPC_PATH = 'data/species/02_species-fu-exp_nuig-pyro.csv'\n",
    "FULL_PYR_RXN_PATH = 'data/reactions/04_reactions-fu-exp_nuig-pyro.csv'\n",
    "\n",
    "ORIG_C67_SPC_DF = pandas.read_csv(ORIG_C67_SPC_PATH, quotechar=\"'\")\n",
    "ORIG_C67_RXN_DF = pandas.read_csv(ORIG_C67_RXN_PATH, quotechar=\"'\")\n",
    "ORIG_PYR_SPC_DF = pandas.read_csv(ORIG_PYR_SPC_PATH, quotechar=\"'\")\n",
    "ORIG_PYR_RXN_DF = pandas.read_csv(ORIG_PYR_RXN_PATH, quotechar=\"'\")\n",
    "FULL_C67_SPC_DF = pandas.read_csv(FULL_C67_SPC_PATH, quotechar=\"'\")\n",
    "FULL_C67_RXN_DF = pandas.read_csv(FULL_C67_RXN_PATH, quotechar=\"'\")\n",
    "FULL_PYR_SPC_DF = pandas.read_csv(FULL_PYR_SPC_PATH, quotechar=\"'\")\n",
    "FULL_PYR_RXN_DF = pandas.read_csv(FULL_PYR_RXN_PATH, quotechar=\"'\")"
   ]
  },
  {
   "cell_type": "code",
   "execution_count": 3,
   "id": "ff8e9066",
   "metadata": {},
   "outputs": [],
   "source": [
    "# 2. generate reaction parameters dictionaries\n",
    "ORIG_C67_RXN_DCT = helpers.mechanism_dict(ORIG_C67_RXN_DF)\n",
    "ORIG_PYR_RXN_DCT = helpers.mechanism_dict(ORIG_PYR_RXN_DF)\n",
    "FULL_C67_RXN_DCT = helpers.mechanism_dict(FULL_C67_RXN_DF)\n",
    "FULL_PYR_RXN_DCT = helpers.mechanism_dict(FULL_PYR_RXN_DF)"
   ]
  },
  {
   "cell_type": "code",
   "execution_count": 4,
   "id": "d2817033",
   "metadata": {},
   "outputs": [],
   "source": [
    "# 3. restrict the species dataframes based on the reaction lists\n",
    "ORIG_C67_SPC_DF = helpers.species_for_mechanism(ORIG_C67_SPC_DF, ORIG_C67_RXN_DCT)\n",
    "ORIG_PYR_SPC_DF = helpers.species_for_mechanism(ORIG_PYR_SPC_DF, ORIG_PYR_RXN_DCT)\n",
    "FULL_C67_SPC_DF = helpers.species_for_mechanism(FULL_C67_SPC_DF, FULL_C67_RXN_DCT)\n",
    "FULL_PYR_SPC_DF = helpers.species_for_mechanism(FULL_PYR_SPC_DF, FULL_PYR_RXN_DCT)"
   ]
  },
  {
   "cell_type": "code",
   "execution_count": 5,
   "id": "6dcd0719",
   "metadata": {},
   "outputs": [],
   "source": [
    "# 4. write the original and fully expanded submechanisms\n",
    "ORIG_C67_SPC_PATH = 'data/mechanisms/05_orig_nuig-c6-7.csv'\n",
    "ORIG_C67_RXN_PATH = 'data/mechanisms/05_orig_nuig-c6-7.txt'\n",
    "ORIG_PYR_SPC_PATH = 'data/mechanisms/05_orig_nuig-pyro.csv'\n",
    "ORIG_PYR_RXN_PATH = 'data/mechanisms/05_orig_nuig-pyro.txt'\n",
    "FULL_C67_SPC_PATH = 'data/mechanisms/05_fu-exp_nuig-c6-7.csv'\n",
    "FULL_C67_RXN_PATH = 'data/mechanisms/05_fu-exp_nuig-c6-7.txt'\n",
    "FULL_PYR_SPC_PATH = 'data/mechanisms/05_fu-exp_nuig-pyro.csv'\n",
    "FULL_PYR_RXN_PATH = 'data/mechanisms/05_fu-exp_nuig-pyro.txt'\n",
    "\n",
    "# a. write the species files\n",
    "ORIG_C67_SPC_DF.to_csv(ORIG_C67_SPC_PATH, quotechar=\"'\", index=False)\n",
    "ORIG_PYR_SPC_DF.to_csv(ORIG_PYR_SPC_PATH, quotechar=\"'\", index=False)\n",
    "FULL_C67_SPC_DF.to_csv(FULL_C67_SPC_PATH, quotechar=\"'\", index=False)\n",
    "FULL_PYR_SPC_DF.to_csv(FULL_PYR_SPC_PATH, quotechar=\"'\", index=False)\n",
    "\n",
    "# b. write the reaction/mechanism files\n",
    "ORIG_C67_MECH_STR = helpers.mechanism_string(ORIG_C67_RXN_DCT, ORIG_C67_SPC_DF)\n",
    "ORIG_PYR_MECH_STR = helpers.mechanism_string(ORIG_PYR_RXN_DCT, ORIG_PYR_SPC_DF)\n",
    "FULL_C67_MECH_STR = helpers.mechanism_string(FULL_C67_RXN_DCT, FULL_C67_SPC_DF)\n",
    "FULL_PYR_MECH_STR = helpers.mechanism_string(FULL_PYR_RXN_DCT, FULL_PYR_SPC_DF)\n",
    "\n",
    "ioformat.pathtools.write_file(ORIG_C67_MECH_STR, '.', ORIG_C67_RXN_PATH)\n",
    "ioformat.pathtools.write_file(ORIG_PYR_MECH_STR, '.', ORIG_PYR_RXN_PATH)\n",
    "ioformat.pathtools.write_file(FULL_C67_MECH_STR, '.', FULL_C67_RXN_PATH)\n",
    "ioformat.pathtools.write_file(FULL_PYR_MECH_STR, '.', FULL_PYR_RXN_PATH)"
   ]
  },
  {
   "cell_type": "code",
   "execution_count": null,
   "id": "3f995017",
   "metadata": {},
   "outputs": [],
   "source": []
  }
 ],
 "metadata": {
  "kernelspec": {
   "display_name": "Python 3 (ipykernel)",
   "language": "python",
   "name": "python3"
  },
  "language_info": {
   "codemirror_mode": {
    "name": "ipython",
    "version": 3
   },
   "file_extension": ".py",
   "mimetype": "text/x-python",
   "name": "python",
   "nbconvert_exporter": "python",
   "pygments_lexer": "ipython3",
   "version": "3.12.1"
  }
 },
 "nbformat": 4,
 "nbformat_minor": 5
}
