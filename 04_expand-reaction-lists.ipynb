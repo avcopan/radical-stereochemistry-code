{
 "cells": [
  {
   "cell_type": "code",
   "execution_count": null,
   "id": "d45e61d4",
   "metadata": {},
   "outputs": [],
   "source": [
    "import pandas\n",
    "\n",
    "import automol\n",
    "import chemkin_io\n",
    "import helpers\n",
    "import ioformat"
   ]
  },
  {
   "cell_type": "code",
   "execution_count": null,
   "id": "878dfa01",
   "metadata": {},
   "outputs": [],
   "source": [
    "# 1. read in the species and reaction lists\n",
    "FUEX_C67_SPC_PATH = 'species/02_species-fu-exp_nuig-c6-7.csv'\n",
    "ORIG_C67_RXN_PATH = 'reactions/03_reactions-succ_nuig-c6-7.csv'\n",
    "\n",
    "FUEX_PYR_SPC_PATH = 'species/02_species-fu-exp_nuig-pyro.csv'\n",
    "ORIG_PYR_RXN_PATH = 'reactions/03_reactions-succ_nuig-pyro.csv'\n",
    "\n",
    "FUEX_C67_SPC_DF = pandas.read_csv(FUEX_C67_SPC_PATH, quotechar=\"'\")\n",
    "ORIG_C67_RXN_DF = pandas.read_csv(ORIG_C67_RXN_PATH, quotechar=\"'\")\n",
    "FUEX_PYR_SPC_DF = pandas.read_csv(FUEX_PYR_SPC_PATH, quotechar=\"'\")\n",
    "ORIG_PYR_RXN_DF = pandas.read_csv(ORIG_PYR_RXN_PATH, quotechar=\"'\")"
   ]
  },
  {
   "cell_type": "code",
   "execution_count": null,
   "id": "a7f44f63",
   "metadata": {},
   "outputs": [],
   "source": [
    "# 2. expand reaction stereo (full and non-redundant) for each list\n",
    "def expand_reaction_stereo(rxn_df, spc_df, enant=True):\n",
    "    \"\"\" expand stereo for a species DataFrame\n",
    "\n",
    "        :param rxn_df: A reaction DataFrame containing\n",
    "            a 'name' column with CHEMKIN chemical\n",
    "            equations and a 'path' column with paths to\n",
    "            serialized reaction objects.\n",
    "        :param spc_df: the species DataFrame, which must contain the\n",
    "            following columns: 'inchi', 'orig-name', 'name', and 'smiles'\n",
    "        :param enant: If True, perform a full expansion\n",
    "            including all enantiomers. If False, perform a\n",
    "            non-redundant expansion with only canonical\n",
    "            enantiomers.\n",
    "    \"\"\"\n",
    "    row_dcts = []\n",
    "    count = len(rxn_df.index)\n",
    "    for num, row in rxn_df.iterrows():\n",
    "        print(f'Row {num}/{count}')\n",
    "        name = row['name']\n",
    "        print(f'Expanding {name}...')\n",
    "        class_ = row['class']\n",
    "        print(f' - Class: {class_}')\n",
    "        rct_names, prd_names, third_body = chemkin_io.parser.reaction.get_rxn_name(name)\n",
    "        rxn_path = row['path']\n",
    "        print(f' - Reading from {rxn_path}')\n",
    "        rxn_obj_str = ioformat.pathtools.read_file('.', rxn_path)\n",
    "        rxn_obj = automol.reac.from_string(rxn_obj_str)\n",
    "        ste_rxn_objs = automol.reac.expand_stereo(rxn_obj, enant=enant)\n",
    "        for idx, ste_rxn_obj in enumerate(ste_rxn_objs):\n",
    "            row_dct = row.to_dict()\n",
    "            # get ChIs for reactants and products\n",
    "            ste_rct_chis, ste_prd_chis = automol.reac.chis(ste_rxn_obj)\n",
    "            # get the ChI for the TS\n",
    "            ste_ts_chi = automol.reac.ts_amchi(ste_rxn_obj)\n",
    "            # format the CHEMKIN chemical equation string\n",
    "            ste_rct_names = [\n",
    "                helpers.lookup_value(spc_df, 'name', {'inchi': c, 'orig-name': n})\n",
    "                for c, n in zip(ste_rct_chis, rct_names)]\n",
    "            ste_prd_names = [\n",
    "                helpers.lookup_value(spc_df, 'name', {'inchi': c, 'orig-name': n})\n",
    "                for c, n in zip(ste_prd_chis, prd_names)]\n",
    "            ste_name = chemkin_io.writer.format_rxn_name(\n",
    "                (ste_rct_names, ste_prd_names, third_body))\n",
    "            print(f' {idx+1:02d}. {ste_name}')\n",
    "            # write the reaction object with stereo to file\n",
    "            ste_rxn_obj_str = automol.reac.string(ste_rxn_obj)\n",
    "            ste_rxn_obj_path = row_dct['path'].replace('.txt', f'_{\"fu\" if enant else \"nr\"}{idx}.txt')\n",
    "            ioformat.pathtools.write_file(ste_rxn_obj_str, '.', ste_rxn_obj_path)\n",
    "            print(f'   - Writing to {ste_rxn_obj_path}')\n",
    "            row_dct.update({\n",
    "                'name': ste_name,\n",
    "                'path': ste_rxn_obj_path,\n",
    "                'ts_amchi_stereo': ste_ts_chi,\n",
    "            })\n",
    "            row_dcts.append(row_dct)\n",
    "            # show SMILES for the reaction\n",
    "            ste_rct_smis = [\n",
    "                helpers.lookup_value(spc_df, 'smiles', {'inchi': c, 'orig-name': n})\n",
    "                for c, n in zip(ste_rct_chis, rct_names)]\n",
    "            ste_prd_smis = [\n",
    "                helpers.lookup_value(spc_df, 'smiles', {'inchi': c, 'orig-name': n})\n",
    "                for c, n in zip(ste_prd_chis, prd_names)]\n",
    "            ste_rxn_smi = automol.smiles.reaction(ste_rct_smis, ste_prd_smis)\n",
    "            print(f'   - SMILES: {ste_rxn_smi}')\n",
    "            # display the reaction\n",
    "            automol.chi.display_reaction(ste_rct_chis, ste_prd_chis)\n",
    "    ste_rxn_df = pandas.DataFrame.from_records(row_dcts)\n",
    "    return ste_rxn_df"
   ]
  },
  {
   "cell_type": "code",
   "execution_count": null,
   "id": "56ce1107",
   "metadata": {},
   "outputs": [],
   "source": [
    "print(\"Full reaction stereoexpansion for NUIG-C6-7\")\n",
    "print(\"WARNING: RDKit fails to properly visualize some radicals\")\n",
    "FUEX_C67_RXN_DF = expand_reaction_stereo(ORIG_C67_RXN_DF, FUEX_C67_SPC_DF, enant=True)\n",
    "\n",
    "FUEX_C67_RXN_PATH = 'reactions/04_reactions-fu-exp_nuig-c6-7.csv'\n",
    "FUEX_C67_RXN_DF.to_csv(FUEX_C67_RXN_PATH, quotechar=\"'\")"
   ]
  },
  {
   "cell_type": "code",
   "execution_count": null,
   "id": "ed69fdb5",
   "metadata": {},
   "outputs": [],
   "source": [
    "print(\"Non-redundant expansion for NUIG-C6-7\")\n",
    "print(\"WARNING: RDKit fails to properly visualize some radicals\")\n",
    "NREX_C67_RXN_DF = expand_reaction_stereo(ORIG_C67_RXN_DF, FUEX_C67_SPC_DF, enant=False)\n",
    "\n",
    "NREX_C67_RXN_PATH = 'reactions/04_reactions-nr-exp_nuig-c6-7.csv'\n",
    "NREX_C67_RXN_DF.to_csv(NREX_C67_RXN_PATH, quotechar=\"'\")"
   ]
  },
  {
   "cell_type": "code",
   "execution_count": null,
   "id": "fd3464f2",
   "metadata": {},
   "outputs": [],
   "source": [
    "print(\"Full expansion for NUIG-Pyro\")\n",
    "print(\"WARNING: RDKit fails to properly visualize some radicals\")\n",
    "FUEX_PYR_RXN_DF = expand_reaction_stereo(ORIG_PYR_RXN_DF, FUEX_PYR_SPC_DF, enant=True)\n",
    "\n",
    "FUEX_PYR_RXN_PATH = 'reactions/04_reactions-fu-exp_nuig-pyro.csv'\n",
    "FUEX_PYR_RXN_DF.to_csv(FUEX_PYR_RXN_PATH, quotechar=\"'\")"
   ]
  },
  {
   "cell_type": "code",
   "execution_count": null,
   "id": "8ade68d3",
   "metadata": {},
   "outputs": [],
   "source": [
    "print(\"Non-redundant expansion for NUIG-Pyro\")\n",
    "print(\"WARNING: RDKit fails to properly visualize some radicals\")\n",
    "NREX_PYR_RXN_DF = expand_reaction_stereo(ORIG_PYR_RXN_DF, FUEX_PYR_SPC_DF, enant=False)\n",
    "\n",
    "NREX_PYR_RXN_PATH = 'reactions/04_reactions-nr-exp_nuig-pyro.csv'\n",
    "NREX_PYR_RXN_DF.to_csv(NREX_PYR_RXN_PATH, quotechar=\"'\")"
   ]
  },
  {
   "cell_type": "code",
   "execution_count": null,
   "id": "220470f0-35c4-4f78-8102-10a85743405f",
   "metadata": {},
   "outputs": [],
   "source": []
  }
 ],
 "metadata": {
  "kernelspec": {
   "display_name": "Python 3 (ipykernel)",
   "language": "python",
   "name": "python3"
  },
  "language_info": {
   "codemirror_mode": {
    "name": "ipython",
    "version": 3
   },
   "file_extension": ".py",
   "mimetype": "text/x-python",
   "name": "python",
   "nbconvert_exporter": "python",
   "pygments_lexer": "ipython3",
   "version": "3.12.1"
  }
 },
 "nbformat": 4,
 "nbformat_minor": 5
}
